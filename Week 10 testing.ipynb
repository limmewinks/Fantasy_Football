{
 "cells": [
  {
   "cell_type": "markdown",
   "id": "d1ef9c7b",
   "metadata": {},
   "source": [
    "# Set up"
   ]
  },
  {
   "cell_type": "code",
   "execution_count": 1,
   "id": "0844dcc7",
   "metadata": {},
   "outputs": [],
   "source": [
    "#import libraries\n",
    "import pandas as pd\n",
    "import numpy as np\n",
    "import matplotlib.pyplot as plt\n",
    "import seaborn as sns\n",
    "import scipy as sp\n",
    "%matplotlib inline\n"
   ]
  },
  {
   "cell_type": "code",
   "execution_count": 2,
   "id": "76dcfa45",
   "metadata": {},
   "outputs": [],
   "source": [
    "#create function for graphing/labeling to save repetitive steps\n",
    "def label(x, y, t):\n",
    "    \"\"\"\n",
    "    Args:\n",
    "    x (str): x-axis title\n",
    "    y (str): y-axis title\n",
    "    t (str): main title\n",
    "    \n",
    "    Returns:\n",
    "    None\n",
    "    \"\"\"\n",
    "    \n",
    "    plt.xlabel(x)\n",
    "    plt.ylabel(y)\n",
    "    plt.title(t)\n",
    "    plt.legend()\n",
    "    plt.show()"
   ]
  },
  {
   "cell_type": "code",
   "execution_count": 31,
   "id": "98b167cc",
   "metadata": {},
   "outputs": [
    {
     "data": {
      "text/html": [
       "<div>\n",
       "<style scoped>\n",
       "    .dataframe tbody tr th:only-of-type {\n",
       "        vertical-align: middle;\n",
       "    }\n",
       "\n",
       "    .dataframe tbody tr th {\n",
       "        vertical-align: top;\n",
       "    }\n",
       "\n",
       "    .dataframe thead th {\n",
       "        text-align: right;\n",
       "    }\n",
       "</style>\n",
       "<table border=\"1\" class=\"dataframe\">\n",
       "  <thead>\n",
       "    <tr style=\"text-align: right;\">\n",
       "      <th></th>\n",
       "      <th>RK</th>\n",
       "      <th>TEAM</th>\n",
       "      <th>ABBR</th>\n",
       "      <th>W</th>\n",
       "      <th>L</th>\n",
       "      <th>T</th>\n",
       "      <th>PCT</th>\n",
       "      <th>GB</th>\n",
       "      <th>PLAYOFF %</th>\n",
       "      <th>PF</th>\n",
       "      <th>PA</th>\n",
       "      <th>DIV</th>\n",
       "      <th>HOME</th>\n",
       "      <th>AWAY</th>\n",
       "      <th>STRK</th>\n",
       "      <th>MOVES</th>\n",
       "    </tr>\n",
       "  </thead>\n",
       "  <tbody>\n",
       "    <tr>\n",
       "      <th>0</th>\n",
       "      <td>1</td>\n",
       "      <td>Killit Skillets</td>\n",
       "      <td>CP</td>\n",
       "      <td>7</td>\n",
       "      <td>3</td>\n",
       "      <td>0</td>\n",
       "      <td>0.7</td>\n",
       "      <td>--</td>\n",
       "      <td>93</td>\n",
       "      <td>1341.70</td>\n",
       "      <td>1108.70</td>\n",
       "      <td>7/3/2000</td>\n",
       "      <td>2/2/2000</td>\n",
       "      <td>5/1/2000</td>\n",
       "      <td>W3</td>\n",
       "      <td>20</td>\n",
       "    </tr>\n",
       "    <tr>\n",
       "      <th>1</th>\n",
       "      <td>2</td>\n",
       "      <td>Giles C</td>\n",
       "      <td>JG</td>\n",
       "      <td>7</td>\n",
       "      <td>3</td>\n",
       "      <td>0</td>\n",
       "      <td>0.7</td>\n",
       "      <td>--</td>\n",
       "      <td>86</td>\n",
       "      <td>1148.58</td>\n",
       "      <td>1083.08</td>\n",
       "      <td>7/3/2000</td>\n",
       "      <td>3/2/2000</td>\n",
       "      <td>4/1/2000</td>\n",
       "      <td>L1</td>\n",
       "      <td>6</td>\n",
       "    </tr>\n",
       "    <tr>\n",
       "      <th>2</th>\n",
       "      <td>3</td>\n",
       "      <td>Bully Heart</td>\n",
       "      <td>MF</td>\n",
       "      <td>6</td>\n",
       "      <td>4</td>\n",
       "      <td>0</td>\n",
       "      <td>0.6</td>\n",
       "      <td>1</td>\n",
       "      <td>61</td>\n",
       "      <td>1277.20</td>\n",
       "      <td>1145.72</td>\n",
       "      <td>6/4/2000</td>\n",
       "      <td>3/2/2000</td>\n",
       "      <td>3/2/2000</td>\n",
       "      <td>W1</td>\n",
       "      <td>15</td>\n",
       "    </tr>\n",
       "    <tr>\n",
       "      <th>3</th>\n",
       "      <td>4</td>\n",
       "      <td>Crock Pot</td>\n",
       "      <td>DB</td>\n",
       "      <td>6</td>\n",
       "      <td>4</td>\n",
       "      <td>0</td>\n",
       "      <td>0.6</td>\n",
       "      <td>1</td>\n",
       "      <td>43</td>\n",
       "      <td>1124.42</td>\n",
       "      <td>1140.30</td>\n",
       "      <td>6/4/2000</td>\n",
       "      <td>4/1/2000</td>\n",
       "      <td>2/3/2000</td>\n",
       "      <td>W1</td>\n",
       "      <td>25</td>\n",
       "    </tr>\n",
       "    <tr>\n",
       "      <th>4</th>\n",
       "      <td>5</td>\n",
       "      <td>Talking Taints</td>\n",
       "      <td>CM</td>\n",
       "      <td>6</td>\n",
       "      <td>4</td>\n",
       "      <td>0</td>\n",
       "      <td>0.6</td>\n",
       "      <td>1</td>\n",
       "      <td>49</td>\n",
       "      <td>1107.98</td>\n",
       "      <td>1102.52</td>\n",
       "      <td>6/4/2000</td>\n",
       "      <td>3/2/2000</td>\n",
       "      <td>3/2/2000</td>\n",
       "      <td>L4</td>\n",
       "      <td>7</td>\n",
       "    </tr>\n",
       "  </tbody>\n",
       "</table>\n",
       "</div>"
      ],
      "text/plain": [
       "   RK             TEAM ABBR  W  L  T  PCT  GB  PLAYOFF %       PF       PA  \\\n",
       "0   1  Killit Skillets   CP  7  3  0  0.7  --         93  1341.70  1108.70   \n",
       "1   2          Giles C   JG  7  3  0  0.7  --         86  1148.58  1083.08   \n",
       "2   3      Bully Heart   MF  6  4  0  0.6   1         61  1277.20  1145.72   \n",
       "3   4        Crock Pot   DB  6  4  0  0.6   1         43  1124.42  1140.30   \n",
       "4   5   Talking Taints   CM  6  4  0  0.6   1         49  1107.98  1102.52   \n",
       "\n",
       "        DIV      HOME      AWAY STRK  MOVES  \n",
       "0  7/3/2000  2/2/2000  5/1/2000   W3     20  \n",
       "1  7/3/2000  3/2/2000  4/1/2000   L1      6  \n",
       "2  6/4/2000  3/2/2000  3/2/2000   W1     15  \n",
       "3  6/4/2000  4/1/2000  2/3/2000   W1     25  \n",
       "4  6/4/2000  3/2/2000  3/2/2000   L4      7  "
      ]
     },
     "execution_count": 31,
     "metadata": {},
     "output_type": "execute_result"
    }
   ],
   "source": [
    "#import standings data\n",
    "standings_10 = pd.read_csv('FF Week 10.csv')\n",
    "standings_10.head()"
   ]
  },
  {
   "cell_type": "code",
   "execution_count": 5,
   "id": "19d2c7e8",
   "metadata": {},
   "outputs": [
    {
     "data": {
      "text/html": [
       "<div>\n",
       "<style scoped>\n",
       "    .dataframe tbody tr th:only-of-type {\n",
       "        vertical-align: middle;\n",
       "    }\n",
       "\n",
       "    .dataframe tbody tr th {\n",
       "        vertical-align: top;\n",
       "    }\n",
       "\n",
       "    .dataframe thead th {\n",
       "        text-align: right;\n",
       "    }\n",
       "</style>\n",
       "<table border=\"1\" class=\"dataframe\">\n",
       "  <thead>\n",
       "    <tr style=\"text-align: right;\">\n",
       "      <th></th>\n",
       "      <th>RK</th>\n",
       "      <th>TEAM</th>\n",
       "      <th>ABBR</th>\n",
       "      <th>W</th>\n",
       "      <th>L</th>\n",
       "      <th>T</th>\n",
       "      <th>PCT</th>\n",
       "      <th>GB</th>\n",
       "      <th>PLAYOFF %</th>\n",
       "      <th>PF</th>\n",
       "      <th>PA</th>\n",
       "      <th>STRK</th>\n",
       "      <th>MOVES</th>\n",
       "    </tr>\n",
       "  </thead>\n",
       "  <tbody>\n",
       "    <tr>\n",
       "      <th>0</th>\n",
       "      <td>1</td>\n",
       "      <td>Giles C</td>\n",
       "      <td>JG</td>\n",
       "      <td>7</td>\n",
       "      <td>2</td>\n",
       "      <td>0</td>\n",
       "      <td>0.778</td>\n",
       "      <td>--</td>\n",
       "      <td>93</td>\n",
       "      <td>1028.06</td>\n",
       "      <td>935.74</td>\n",
       "      <td>W5</td>\n",
       "      <td>6</td>\n",
       "    </tr>\n",
       "    <tr>\n",
       "      <th>1</th>\n",
       "      <td>2</td>\n",
       "      <td>Killit Skillets</td>\n",
       "      <td>CP</td>\n",
       "      <td>6</td>\n",
       "      <td>3</td>\n",
       "      <td>0</td>\n",
       "      <td>0.667</td>\n",
       "      <td>1</td>\n",
       "      <td>80</td>\n",
       "      <td>1184.74</td>\n",
       "      <td>1029.50</td>\n",
       "      <td>W2</td>\n",
       "      <td>19</td>\n",
       "    </tr>\n",
       "    <tr>\n",
       "      <th>2</th>\n",
       "      <td>3</td>\n",
       "      <td>Talking Taints</td>\n",
       "      <td>CM</td>\n",
       "      <td>6</td>\n",
       "      <td>3</td>\n",
       "      <td>0</td>\n",
       "      <td>0.667</td>\n",
       "      <td>1</td>\n",
       "      <td>66</td>\n",
       "      <td>1028.78</td>\n",
       "      <td>945.56</td>\n",
       "      <td>L3</td>\n",
       "      <td>6</td>\n",
       "    </tr>\n",
       "    <tr>\n",
       "      <th>3</th>\n",
       "      <td>4</td>\n",
       "      <td>Captain Ben Safarz</td>\n",
       "      <td>SB</td>\n",
       "      <td>5</td>\n",
       "      <td>4</td>\n",
       "      <td>0</td>\n",
       "      <td>0.556</td>\n",
       "      <td>2</td>\n",
       "      <td>46</td>\n",
       "      <td>1167.52</td>\n",
       "      <td>1071.38</td>\n",
       "      <td>L1</td>\n",
       "      <td>6</td>\n",
       "    </tr>\n",
       "    <tr>\n",
       "      <th>4</th>\n",
       "      <td>5</td>\n",
       "      <td>Bully Heart</td>\n",
       "      <td>MF</td>\n",
       "      <td>5</td>\n",
       "      <td>4</td>\n",
       "      <td>0</td>\n",
       "      <td>0.556</td>\n",
       "      <td>2</td>\n",
       "      <td>42</td>\n",
       "      <td>1144.84</td>\n",
       "      <td>1032.80</td>\n",
       "      <td>L2</td>\n",
       "      <td>13</td>\n",
       "    </tr>\n",
       "  </tbody>\n",
       "</table>\n",
       "</div>"
      ],
      "text/plain": [
       "   RK                TEAM ABBR  W  L  T    PCT  GB  PLAYOFF %       PF  \\\n",
       "0   1             Giles C   JG  7  2  0  0.778  --         93  1028.06   \n",
       "1   2     Killit Skillets   CP  6  3  0  0.667   1         80  1184.74   \n",
       "2   3      Talking Taints   CM  6  3  0  0.667   1         66  1028.78   \n",
       "3   4  Captain Ben Safarz   SB  5  4  0  0.556   2         46  1167.52   \n",
       "4   5         Bully Heart   MF  5  4  0  0.556   2         42  1144.84   \n",
       "\n",
       "        PA STRK  MOVES  \n",
       "0   935.74   W5      6  \n",
       "1  1029.50   W2     19  \n",
       "2   945.56   L3      6  \n",
       "3  1071.38   L1      6  \n",
       "4  1032.80   L2     13  "
      ]
     },
     "execution_count": 5,
     "metadata": {},
     "output_type": "execute_result"
    }
   ],
   "source": [
    "standings_9 = pd.read_csv('FF Week 9.csv')\n",
    "standings_9.drop(['DIV', 'HOME', 'AWAY'], axis=1, inplace=True)\n",
    "standings_9.head()"
   ]
  },
  {
   "cell_type": "code",
   "execution_count": 32,
   "id": "19feaa54",
   "metadata": {},
   "outputs": [],
   "source": [
    "standings_10['WEEK'] = 10\n",
    "standings_9['WEEK'] = 9"
   ]
  },
  {
   "cell_type": "code",
   "execution_count": 34,
   "id": "f0a8ff4a",
   "metadata": {},
   "outputs": [
    {
     "data": {
      "text/html": [
       "<div>\n",
       "<style scoped>\n",
       "    .dataframe tbody tr th:only-of-type {\n",
       "        vertical-align: middle;\n",
       "    }\n",
       "\n",
       "    .dataframe tbody tr th {\n",
       "        vertical-align: top;\n",
       "    }\n",
       "\n",
       "    .dataframe thead th {\n",
       "        text-align: right;\n",
       "    }\n",
       "</style>\n",
       "<table border=\"1\" class=\"dataframe\">\n",
       "  <thead>\n",
       "    <tr style=\"text-align: right;\">\n",
       "      <th></th>\n",
       "      <th>RK</th>\n",
       "      <th>TEAM</th>\n",
       "      <th>ABBR</th>\n",
       "      <th>W</th>\n",
       "      <th>L</th>\n",
       "      <th>T</th>\n",
       "      <th>PCT</th>\n",
       "      <th>GB</th>\n",
       "      <th>PLAYOFF %</th>\n",
       "      <th>PF</th>\n",
       "      <th>PA</th>\n",
       "      <th>DIV</th>\n",
       "      <th>HOME</th>\n",
       "      <th>AWAY</th>\n",
       "      <th>STRK</th>\n",
       "      <th>MOVES</th>\n",
       "      <th>WEEK</th>\n",
       "    </tr>\n",
       "  </thead>\n",
       "  <tbody>\n",
       "    <tr>\n",
       "      <th>0</th>\n",
       "      <td>1</td>\n",
       "      <td>Killit Skillets</td>\n",
       "      <td>CP</td>\n",
       "      <td>7</td>\n",
       "      <td>3</td>\n",
       "      <td>0</td>\n",
       "      <td>0.700</td>\n",
       "      <td>--</td>\n",
       "      <td>93</td>\n",
       "      <td>1341.70</td>\n",
       "      <td>1108.70</td>\n",
       "      <td>7/3/2000</td>\n",
       "      <td>2/2/2000</td>\n",
       "      <td>5/1/2000</td>\n",
       "      <td>W3</td>\n",
       "      <td>20</td>\n",
       "      <td>10</td>\n",
       "    </tr>\n",
       "    <tr>\n",
       "      <th>1</th>\n",
       "      <td>2</td>\n",
       "      <td>Giles C</td>\n",
       "      <td>JG</td>\n",
       "      <td>7</td>\n",
       "      <td>3</td>\n",
       "      <td>0</td>\n",
       "      <td>0.700</td>\n",
       "      <td>--</td>\n",
       "      <td>86</td>\n",
       "      <td>1148.58</td>\n",
       "      <td>1083.08</td>\n",
       "      <td>7/3/2000</td>\n",
       "      <td>3/2/2000</td>\n",
       "      <td>4/1/2000</td>\n",
       "      <td>L1</td>\n",
       "      <td>6</td>\n",
       "      <td>10</td>\n",
       "    </tr>\n",
       "    <tr>\n",
       "      <th>2</th>\n",
       "      <td>3</td>\n",
       "      <td>Bully Heart</td>\n",
       "      <td>MF</td>\n",
       "      <td>6</td>\n",
       "      <td>4</td>\n",
       "      <td>0</td>\n",
       "      <td>0.600</td>\n",
       "      <td>1</td>\n",
       "      <td>61</td>\n",
       "      <td>1277.20</td>\n",
       "      <td>1145.72</td>\n",
       "      <td>6/4/2000</td>\n",
       "      <td>3/2/2000</td>\n",
       "      <td>3/2/2000</td>\n",
       "      <td>W1</td>\n",
       "      <td>15</td>\n",
       "      <td>10</td>\n",
       "    </tr>\n",
       "    <tr>\n",
       "      <th>3</th>\n",
       "      <td>4</td>\n",
       "      <td>Crock Pot</td>\n",
       "      <td>DB</td>\n",
       "      <td>6</td>\n",
       "      <td>4</td>\n",
       "      <td>0</td>\n",
       "      <td>0.600</td>\n",
       "      <td>1</td>\n",
       "      <td>43</td>\n",
       "      <td>1124.42</td>\n",
       "      <td>1140.30</td>\n",
       "      <td>6/4/2000</td>\n",
       "      <td>4/1/2000</td>\n",
       "      <td>2/3/2000</td>\n",
       "      <td>W1</td>\n",
       "      <td>25</td>\n",
       "      <td>10</td>\n",
       "    </tr>\n",
       "    <tr>\n",
       "      <th>4</th>\n",
       "      <td>5</td>\n",
       "      <td>Talking Taints</td>\n",
       "      <td>CM</td>\n",
       "      <td>6</td>\n",
       "      <td>4</td>\n",
       "      <td>0</td>\n",
       "      <td>0.600</td>\n",
       "      <td>1</td>\n",
       "      <td>49</td>\n",
       "      <td>1107.98</td>\n",
       "      <td>1102.52</td>\n",
       "      <td>6/4/2000</td>\n",
       "      <td>3/2/2000</td>\n",
       "      <td>3/2/2000</td>\n",
       "      <td>L4</td>\n",
       "      <td>7</td>\n",
       "      <td>10</td>\n",
       "    </tr>\n",
       "    <tr>\n",
       "      <th>5</th>\n",
       "      <td>6</td>\n",
       "      <td>Paimon's Lament</td>\n",
       "      <td>MC</td>\n",
       "      <td>5</td>\n",
       "      <td>5</td>\n",
       "      <td>0</td>\n",
       "      <td>0.500</td>\n",
       "      <td>2</td>\n",
       "      <td>31</td>\n",
       "      <td>1377.80</td>\n",
       "      <td>1201.78</td>\n",
       "      <td>5/5/2000</td>\n",
       "      <td>3/3/2000</td>\n",
       "      <td>2/2/2000</td>\n",
       "      <td>W1</td>\n",
       "      <td>13</td>\n",
       "      <td>10</td>\n",
       "    </tr>\n",
       "    <tr>\n",
       "      <th>6</th>\n",
       "      <td>7</td>\n",
       "      <td>Captain Ben Safarz</td>\n",
       "      <td>SB</td>\n",
       "      <td>5</td>\n",
       "      <td>5</td>\n",
       "      <td>0</td>\n",
       "      <td>0.500</td>\n",
       "      <td>2</td>\n",
       "      <td>31</td>\n",
       "      <td>1256.40</td>\n",
       "      <td>1238.40</td>\n",
       "      <td>5/5/2000</td>\n",
       "      <td>2/4/2000</td>\n",
       "      <td>3/1/2000</td>\n",
       "      <td>L2</td>\n",
       "      <td>6</td>\n",
       "      <td>10</td>\n",
       "    </tr>\n",
       "    <tr>\n",
       "      <th>7</th>\n",
       "      <td>8</td>\n",
       "      <td>Big Fat Poons</td>\n",
       "      <td>LW</td>\n",
       "      <td>4</td>\n",
       "      <td>6</td>\n",
       "      <td>0</td>\n",
       "      <td>0.400</td>\n",
       "      <td>3</td>\n",
       "      <td>5</td>\n",
       "      <td>1171.64</td>\n",
       "      <td>1173.22</td>\n",
       "      <td>4/6/2000</td>\n",
       "      <td>1/3/2000</td>\n",
       "      <td>3/3/2000</td>\n",
       "      <td>L2</td>\n",
       "      <td>10</td>\n",
       "      <td>10</td>\n",
       "    </tr>\n",
       "    <tr>\n",
       "      <th>8</th>\n",
       "      <td>9</td>\n",
       "      <td>Kush Warlock</td>\n",
       "      <td>MW</td>\n",
       "      <td>4</td>\n",
       "      <td>6</td>\n",
       "      <td>0</td>\n",
       "      <td>0.400</td>\n",
       "      <td>3</td>\n",
       "      <td>1</td>\n",
       "      <td>1025.76</td>\n",
       "      <td>1204.68</td>\n",
       "      <td>4/6/2000</td>\n",
       "      <td>3/2/2000</td>\n",
       "      <td>1/4/2000</td>\n",
       "      <td>L1</td>\n",
       "      <td>10</td>\n",
       "      <td>10</td>\n",
       "    </tr>\n",
       "    <tr>\n",
       "      <th>9</th>\n",
       "      <td>10</td>\n",
       "      <td>Team :(</td>\n",
       "      <td>SA</td>\n",
       "      <td>4</td>\n",
       "      <td>6</td>\n",
       "      <td>0</td>\n",
       "      <td>0.400</td>\n",
       "      <td>3</td>\n",
       "      <td>1</td>\n",
       "      <td>990.74</td>\n",
       "      <td>1153.62</td>\n",
       "      <td>4/6/2000</td>\n",
       "      <td>1/4/2000</td>\n",
       "      <td>3/2/2000</td>\n",
       "      <td>L1</td>\n",
       "      <td>6</td>\n",
       "      <td>10</td>\n",
       "    </tr>\n",
       "    <tr>\n",
       "      <th>10</th>\n",
       "      <td>11</td>\n",
       "      <td>I Want To Leave</td>\n",
       "      <td>AD</td>\n",
       "      <td>3</td>\n",
       "      <td>7</td>\n",
       "      <td>0</td>\n",
       "      <td>0.300</td>\n",
       "      <td>4</td>\n",
       "      <td>1</td>\n",
       "      <td>1107.28</td>\n",
       "      <td>1307.00</td>\n",
       "      <td>3/7/2000</td>\n",
       "      <td>1/3/2000</td>\n",
       "      <td>2/4/2000</td>\n",
       "      <td>W2</td>\n",
       "      <td>9</td>\n",
       "      <td>10</td>\n",
       "    </tr>\n",
       "    <tr>\n",
       "      <th>11</th>\n",
       "      <td>12</td>\n",
       "      <td>😈 ⏰</td>\n",
       "      <td>MS</td>\n",
       "      <td>3</td>\n",
       "      <td>7</td>\n",
       "      <td>0</td>\n",
       "      <td>0.300</td>\n",
       "      <td>4</td>\n",
       "      <td>1</td>\n",
       "      <td>1089.92</td>\n",
       "      <td>1160.40</td>\n",
       "      <td>3/7/2000</td>\n",
       "      <td>2/4/2000</td>\n",
       "      <td>1/3/2000</td>\n",
       "      <td>W2</td>\n",
       "      <td>13</td>\n",
       "      <td>10</td>\n",
       "    </tr>\n",
       "    <tr>\n",
       "      <th>0</th>\n",
       "      <td>1</td>\n",
       "      <td>Giles C</td>\n",
       "      <td>JG</td>\n",
       "      <td>7</td>\n",
       "      <td>2</td>\n",
       "      <td>0</td>\n",
       "      <td>0.778</td>\n",
       "      <td>--</td>\n",
       "      <td>93</td>\n",
       "      <td>1028.06</td>\n",
       "      <td>935.74</td>\n",
       "      <td>NaN</td>\n",
       "      <td>NaN</td>\n",
       "      <td>NaN</td>\n",
       "      <td>W5</td>\n",
       "      <td>6</td>\n",
       "      <td>9</td>\n",
       "    </tr>\n",
       "    <tr>\n",
       "      <th>1</th>\n",
       "      <td>2</td>\n",
       "      <td>Killit Skillets</td>\n",
       "      <td>CP</td>\n",
       "      <td>6</td>\n",
       "      <td>3</td>\n",
       "      <td>0</td>\n",
       "      <td>0.667</td>\n",
       "      <td>1</td>\n",
       "      <td>80</td>\n",
       "      <td>1184.74</td>\n",
       "      <td>1029.50</td>\n",
       "      <td>NaN</td>\n",
       "      <td>NaN</td>\n",
       "      <td>NaN</td>\n",
       "      <td>W2</td>\n",
       "      <td>19</td>\n",
       "      <td>9</td>\n",
       "    </tr>\n",
       "    <tr>\n",
       "      <th>2</th>\n",
       "      <td>3</td>\n",
       "      <td>Talking Taints</td>\n",
       "      <td>CM</td>\n",
       "      <td>6</td>\n",
       "      <td>3</td>\n",
       "      <td>0</td>\n",
       "      <td>0.667</td>\n",
       "      <td>1</td>\n",
       "      <td>66</td>\n",
       "      <td>1028.78</td>\n",
       "      <td>945.56</td>\n",
       "      <td>NaN</td>\n",
       "      <td>NaN</td>\n",
       "      <td>NaN</td>\n",
       "      <td>L3</td>\n",
       "      <td>6</td>\n",
       "      <td>9</td>\n",
       "    </tr>\n",
       "    <tr>\n",
       "      <th>3</th>\n",
       "      <td>4</td>\n",
       "      <td>Captain Ben Safarz</td>\n",
       "      <td>SB</td>\n",
       "      <td>5</td>\n",
       "      <td>4</td>\n",
       "      <td>0</td>\n",
       "      <td>0.556</td>\n",
       "      <td>2</td>\n",
       "      <td>46</td>\n",
       "      <td>1167.52</td>\n",
       "      <td>1071.38</td>\n",
       "      <td>NaN</td>\n",
       "      <td>NaN</td>\n",
       "      <td>NaN</td>\n",
       "      <td>L1</td>\n",
       "      <td>6</td>\n",
       "      <td>9</td>\n",
       "    </tr>\n",
       "    <tr>\n",
       "      <th>4</th>\n",
       "      <td>5</td>\n",
       "      <td>Bully Heart</td>\n",
       "      <td>MF</td>\n",
       "      <td>5</td>\n",
       "      <td>4</td>\n",
       "      <td>0</td>\n",
       "      <td>0.556</td>\n",
       "      <td>2</td>\n",
       "      <td>42</td>\n",
       "      <td>1144.84</td>\n",
       "      <td>1032.80</td>\n",
       "      <td>NaN</td>\n",
       "      <td>NaN</td>\n",
       "      <td>NaN</td>\n",
       "      <td>L2</td>\n",
       "      <td>13</td>\n",
       "      <td>9</td>\n",
       "    </tr>\n",
       "    <tr>\n",
       "      <th>5</th>\n",
       "      <td>6</td>\n",
       "      <td>Crock Pot</td>\n",
       "      <td>DB</td>\n",
       "      <td>5</td>\n",
       "      <td>4</td>\n",
       "      <td>0</td>\n",
       "      <td>0.556</td>\n",
       "      <td>2</td>\n",
       "      <td>32</td>\n",
       "      <td>1027.70</td>\n",
       "      <td>1046.82</td>\n",
       "      <td>NaN</td>\n",
       "      <td>NaN</td>\n",
       "      <td>NaN</td>\n",
       "      <td>L1</td>\n",
       "      <td>22</td>\n",
       "      <td>9</td>\n",
       "    </tr>\n",
       "    <tr>\n",
       "      <th>6</th>\n",
       "      <td>7</td>\n",
       "      <td>Paimon's Lament</td>\n",
       "      <td>MC</td>\n",
       "      <td>4</td>\n",
       "      <td>5</td>\n",
       "      <td>0</td>\n",
       "      <td>0.444</td>\n",
       "      <td>3</td>\n",
       "      <td>22</td>\n",
       "      <td>1210.78</td>\n",
       "      <td>1112.90</td>\n",
       "      <td>NaN</td>\n",
       "      <td>NaN</td>\n",
       "      <td>NaN</td>\n",
       "      <td>L1</td>\n",
       "      <td>13</td>\n",
       "      <td>9</td>\n",
       "    </tr>\n",
       "    <tr>\n",
       "      <th>7</th>\n",
       "      <td>8</td>\n",
       "      <td>Big Fat Poons</td>\n",
       "      <td>LW</td>\n",
       "      <td>4</td>\n",
       "      <td>5</td>\n",
       "      <td>0</td>\n",
       "      <td>0.444</td>\n",
       "      <td>3</td>\n",
       "      <td>12</td>\n",
       "      <td>1078.16</td>\n",
       "      <td>1076.50</td>\n",
       "      <td>NaN</td>\n",
       "      <td>NaN</td>\n",
       "      <td>NaN</td>\n",
       "      <td>L1</td>\n",
       "      <td>9</td>\n",
       "      <td>9</td>\n",
       "    </tr>\n",
       "    <tr>\n",
       "      <th>8</th>\n",
       "      <td>9</td>\n",
       "      <td>Kush Warlock</td>\n",
       "      <td>MW</td>\n",
       "      <td>4</td>\n",
       "      <td>5</td>\n",
       "      <td>0</td>\n",
       "      <td>0.444</td>\n",
       "      <td>3</td>\n",
       "      <td>3</td>\n",
       "      <td>912.84</td>\n",
       "      <td>1072.32</td>\n",
       "      <td>NaN</td>\n",
       "      <td>NaN</td>\n",
       "      <td>NaN</td>\n",
       "      <td>W1</td>\n",
       "      <td>10</td>\n",
       "      <td>9</td>\n",
       "    </tr>\n",
       "    <tr>\n",
       "      <th>9</th>\n",
       "      <td>10</td>\n",
       "      <td>Team :(</td>\n",
       "      <td>SA</td>\n",
       "      <td>4</td>\n",
       "      <td>5</td>\n",
       "      <td>0</td>\n",
       "      <td>0.444</td>\n",
       "      <td>3</td>\n",
       "      <td>4</td>\n",
       "      <td>892.40</td>\n",
       "      <td>1029.02</td>\n",
       "      <td>NaN</td>\n",
       "      <td>NaN</td>\n",
       "      <td>NaN</td>\n",
       "      <td>W1</td>\n",
       "      <td>5</td>\n",
       "      <td>9</td>\n",
       "    </tr>\n",
       "    <tr>\n",
       "      <th>10</th>\n",
       "      <td>11</td>\n",
       "      <td>I Want To Leave</td>\n",
       "      <td>AD</td>\n",
       "      <td>2</td>\n",
       "      <td>7</td>\n",
       "      <td>0</td>\n",
       "      <td>0.222</td>\n",
       "      <td>5</td>\n",
       "      <td>0</td>\n",
       "      <td>982.68</td>\n",
       "      <td>1208.66</td>\n",
       "      <td>NaN</td>\n",
       "      <td>NaN</td>\n",
       "      <td>NaN</td>\n",
       "      <td>W1</td>\n",
       "      <td>7</td>\n",
       "      <td>9</td>\n",
       "    </tr>\n",
       "    <tr>\n",
       "      <th>11</th>\n",
       "      <td>12</td>\n",
       "      <td>😈 ⏰</td>\n",
       "      <td>MS</td>\n",
       "      <td>2</td>\n",
       "      <td>7</td>\n",
       "      <td>0</td>\n",
       "      <td>0.222</td>\n",
       "      <td>5</td>\n",
       "      <td>0</td>\n",
       "      <td>942.58</td>\n",
       "      <td>1039.88</td>\n",
       "      <td>NaN</td>\n",
       "      <td>NaN</td>\n",
       "      <td>NaN</td>\n",
       "      <td>W1</td>\n",
       "      <td>11</td>\n",
       "      <td>9</td>\n",
       "    </tr>\n",
       "  </tbody>\n",
       "</table>\n",
       "</div>"
      ],
      "text/plain": [
       "    RK                TEAM ABBR  W  L  T    PCT  GB  PLAYOFF %       PF  \\\n",
       "0    1     Killit Skillets   CP  7  3  0  0.700  --         93  1341.70   \n",
       "1    2             Giles C   JG  7  3  0  0.700  --         86  1148.58   \n",
       "2    3         Bully Heart   MF  6  4  0  0.600   1         61  1277.20   \n",
       "3    4           Crock Pot   DB  6  4  0  0.600   1         43  1124.42   \n",
       "4    5      Talking Taints   CM  6  4  0  0.600   1         49  1107.98   \n",
       "5    6     Paimon's Lament   MC  5  5  0  0.500   2         31  1377.80   \n",
       "6    7  Captain Ben Safarz   SB  5  5  0  0.500   2         31  1256.40   \n",
       "7    8       Big Fat Poons   LW  4  6  0  0.400   3          5  1171.64   \n",
       "8    9        Kush Warlock   MW  4  6  0  0.400   3          1  1025.76   \n",
       "9   10             Team :(   SA  4  6  0  0.400   3          1   990.74   \n",
       "10  11     I Want To Leave   AD  3  7  0  0.300   4          1  1107.28   \n",
       "11  12                 😈 ⏰   MS  3  7  0  0.300   4          1  1089.92   \n",
       "0    1             Giles C   JG  7  2  0  0.778  --         93  1028.06   \n",
       "1    2     Killit Skillets   CP  6  3  0  0.667   1         80  1184.74   \n",
       "2    3      Talking Taints   CM  6  3  0  0.667   1         66  1028.78   \n",
       "3    4  Captain Ben Safarz   SB  5  4  0  0.556   2         46  1167.52   \n",
       "4    5         Bully Heart   MF  5  4  0  0.556   2         42  1144.84   \n",
       "5    6           Crock Pot   DB  5  4  0  0.556   2         32  1027.70   \n",
       "6    7     Paimon's Lament   MC  4  5  0  0.444   3         22  1210.78   \n",
       "7    8       Big Fat Poons   LW  4  5  0  0.444   3         12  1078.16   \n",
       "8    9        Kush Warlock   MW  4  5  0  0.444   3          3   912.84   \n",
       "9   10             Team :(   SA  4  5  0  0.444   3          4   892.40   \n",
       "10  11     I Want To Leave   AD  2  7  0  0.222   5          0   982.68   \n",
       "11  12                 😈 ⏰   MS  2  7  0  0.222   5          0   942.58   \n",
       "\n",
       "         PA       DIV      HOME      AWAY STRK  MOVES  WEEK  \n",
       "0   1108.70  7/3/2000  2/2/2000  5/1/2000   W3     20    10  \n",
       "1   1083.08  7/3/2000  3/2/2000  4/1/2000   L1      6    10  \n",
       "2   1145.72  6/4/2000  3/2/2000  3/2/2000   W1     15    10  \n",
       "3   1140.30  6/4/2000  4/1/2000  2/3/2000   W1     25    10  \n",
       "4   1102.52  6/4/2000  3/2/2000  3/2/2000   L4      7    10  \n",
       "5   1201.78  5/5/2000  3/3/2000  2/2/2000   W1     13    10  \n",
       "6   1238.40  5/5/2000  2/4/2000  3/1/2000   L2      6    10  \n",
       "7   1173.22  4/6/2000  1/3/2000  3/3/2000   L2     10    10  \n",
       "8   1204.68  4/6/2000  3/2/2000  1/4/2000   L1     10    10  \n",
       "9   1153.62  4/6/2000  1/4/2000  3/2/2000   L1      6    10  \n",
       "10  1307.00  3/7/2000  1/3/2000  2/4/2000   W2      9    10  \n",
       "11  1160.40  3/7/2000  2/4/2000  1/3/2000   W2     13    10  \n",
       "0    935.74       NaN       NaN       NaN   W5      6     9  \n",
       "1   1029.50       NaN       NaN       NaN   W2     19     9  \n",
       "2    945.56       NaN       NaN       NaN   L3      6     9  \n",
       "3   1071.38       NaN       NaN       NaN   L1      6     9  \n",
       "4   1032.80       NaN       NaN       NaN   L2     13     9  \n",
       "5   1046.82       NaN       NaN       NaN   L1     22     9  \n",
       "6   1112.90       NaN       NaN       NaN   L1     13     9  \n",
       "7   1076.50       NaN       NaN       NaN   L1      9     9  \n",
       "8   1072.32       NaN       NaN       NaN   W1     10     9  \n",
       "9   1029.02       NaN       NaN       NaN   W1      5     9  \n",
       "10  1208.66       NaN       NaN       NaN   W1      7     9  \n",
       "11  1039.88       NaN       NaN       NaN   W1     11     9  "
      ]
     },
     "execution_count": 34,
     "metadata": {},
     "output_type": "execute_result"
    }
   ],
   "source": [
    "frames = [standings_10, standings_9]\n",
    "\n",
    "result = pd.concat(frames)\n",
    "result"
   ]
  },
  {
   "cell_type": "code",
   "execution_count": 35,
   "id": "bc21f002",
   "metadata": {},
   "outputs": [
    {
     "name": "stdout",
     "output_type": "stream",
     "text": [
      "['RK', 'TEAM', 'ABBR', 'W', 'L', 'T', 'PCT', 'GB', 'PLAYOFF %', 'PF', 'PA', 'DIV', 'HOME', 'AWAY', 'STRK', 'MOVES', 'WEEK']\n"
     ]
    }
   ],
   "source": [
    "print(result.columns.tolist())\n"
   ]
  },
  {
   "cell_type": "code",
   "execution_count": 36,
   "id": "ac866e6c",
   "metadata": {},
   "outputs": [],
   "source": [
    "result.drop(columns=['DIV', 'HOME', 'AWAY', 'TEAM'], inplace=True)"
   ]
  },
  {
   "cell_type": "code",
   "execution_count": 37,
   "id": "00565bc9",
   "metadata": {},
   "outputs": [
    {
     "data": {
      "text/html": [
       "<div>\n",
       "<style scoped>\n",
       "    .dataframe tbody tr th:only-of-type {\n",
       "        vertical-align: middle;\n",
       "    }\n",
       "\n",
       "    .dataframe tbody tr th {\n",
       "        vertical-align: top;\n",
       "    }\n",
       "\n",
       "    .dataframe thead th {\n",
       "        text-align: right;\n",
       "    }\n",
       "</style>\n",
       "<table border=\"1\" class=\"dataframe\">\n",
       "  <thead>\n",
       "    <tr style=\"text-align: right;\">\n",
       "      <th></th>\n",
       "      <th>RK</th>\n",
       "      <th>ABBR</th>\n",
       "      <th>W</th>\n",
       "      <th>L</th>\n",
       "      <th>T</th>\n",
       "      <th>PCT</th>\n",
       "      <th>GB</th>\n",
       "      <th>PLAYOFF %</th>\n",
       "      <th>PF</th>\n",
       "      <th>PA</th>\n",
       "      <th>STRK</th>\n",
       "      <th>MOVES</th>\n",
       "      <th>WEEK</th>\n",
       "    </tr>\n",
       "  </thead>\n",
       "  <tbody>\n",
       "    <tr>\n",
       "      <th>0</th>\n",
       "      <td>1</td>\n",
       "      <td>CP</td>\n",
       "      <td>7</td>\n",
       "      <td>3</td>\n",
       "      <td>0</td>\n",
       "      <td>0.700</td>\n",
       "      <td>--</td>\n",
       "      <td>93</td>\n",
       "      <td>1341.70</td>\n",
       "      <td>1108.70</td>\n",
       "      <td>W3</td>\n",
       "      <td>20</td>\n",
       "      <td>10</td>\n",
       "    </tr>\n",
       "    <tr>\n",
       "      <th>1</th>\n",
       "      <td>2</td>\n",
       "      <td>JG</td>\n",
       "      <td>7</td>\n",
       "      <td>3</td>\n",
       "      <td>0</td>\n",
       "      <td>0.700</td>\n",
       "      <td>--</td>\n",
       "      <td>86</td>\n",
       "      <td>1148.58</td>\n",
       "      <td>1083.08</td>\n",
       "      <td>L1</td>\n",
       "      <td>6</td>\n",
       "      <td>10</td>\n",
       "    </tr>\n",
       "    <tr>\n",
       "      <th>2</th>\n",
       "      <td>3</td>\n",
       "      <td>MF</td>\n",
       "      <td>6</td>\n",
       "      <td>4</td>\n",
       "      <td>0</td>\n",
       "      <td>0.600</td>\n",
       "      <td>1</td>\n",
       "      <td>61</td>\n",
       "      <td>1277.20</td>\n",
       "      <td>1145.72</td>\n",
       "      <td>W1</td>\n",
       "      <td>15</td>\n",
       "      <td>10</td>\n",
       "    </tr>\n",
       "    <tr>\n",
       "      <th>3</th>\n",
       "      <td>4</td>\n",
       "      <td>DB</td>\n",
       "      <td>6</td>\n",
       "      <td>4</td>\n",
       "      <td>0</td>\n",
       "      <td>0.600</td>\n",
       "      <td>1</td>\n",
       "      <td>43</td>\n",
       "      <td>1124.42</td>\n",
       "      <td>1140.30</td>\n",
       "      <td>W1</td>\n",
       "      <td>25</td>\n",
       "      <td>10</td>\n",
       "    </tr>\n",
       "    <tr>\n",
       "      <th>4</th>\n",
       "      <td>5</td>\n",
       "      <td>CM</td>\n",
       "      <td>6</td>\n",
       "      <td>4</td>\n",
       "      <td>0</td>\n",
       "      <td>0.600</td>\n",
       "      <td>1</td>\n",
       "      <td>49</td>\n",
       "      <td>1107.98</td>\n",
       "      <td>1102.52</td>\n",
       "      <td>L4</td>\n",
       "      <td>7</td>\n",
       "      <td>10</td>\n",
       "    </tr>\n",
       "    <tr>\n",
       "      <th>5</th>\n",
       "      <td>6</td>\n",
       "      <td>MC</td>\n",
       "      <td>5</td>\n",
       "      <td>5</td>\n",
       "      <td>0</td>\n",
       "      <td>0.500</td>\n",
       "      <td>2</td>\n",
       "      <td>31</td>\n",
       "      <td>1377.80</td>\n",
       "      <td>1201.78</td>\n",
       "      <td>W1</td>\n",
       "      <td>13</td>\n",
       "      <td>10</td>\n",
       "    </tr>\n",
       "    <tr>\n",
       "      <th>6</th>\n",
       "      <td>7</td>\n",
       "      <td>SB</td>\n",
       "      <td>5</td>\n",
       "      <td>5</td>\n",
       "      <td>0</td>\n",
       "      <td>0.500</td>\n",
       "      <td>2</td>\n",
       "      <td>31</td>\n",
       "      <td>1256.40</td>\n",
       "      <td>1238.40</td>\n",
       "      <td>L2</td>\n",
       "      <td>6</td>\n",
       "      <td>10</td>\n",
       "    </tr>\n",
       "    <tr>\n",
       "      <th>7</th>\n",
       "      <td>8</td>\n",
       "      <td>LW</td>\n",
       "      <td>4</td>\n",
       "      <td>6</td>\n",
       "      <td>0</td>\n",
       "      <td>0.400</td>\n",
       "      <td>3</td>\n",
       "      <td>5</td>\n",
       "      <td>1171.64</td>\n",
       "      <td>1173.22</td>\n",
       "      <td>L2</td>\n",
       "      <td>10</td>\n",
       "      <td>10</td>\n",
       "    </tr>\n",
       "    <tr>\n",
       "      <th>8</th>\n",
       "      <td>9</td>\n",
       "      <td>MW</td>\n",
       "      <td>4</td>\n",
       "      <td>6</td>\n",
       "      <td>0</td>\n",
       "      <td>0.400</td>\n",
       "      <td>3</td>\n",
       "      <td>1</td>\n",
       "      <td>1025.76</td>\n",
       "      <td>1204.68</td>\n",
       "      <td>L1</td>\n",
       "      <td>10</td>\n",
       "      <td>10</td>\n",
       "    </tr>\n",
       "    <tr>\n",
       "      <th>9</th>\n",
       "      <td>10</td>\n",
       "      <td>SA</td>\n",
       "      <td>4</td>\n",
       "      <td>6</td>\n",
       "      <td>0</td>\n",
       "      <td>0.400</td>\n",
       "      <td>3</td>\n",
       "      <td>1</td>\n",
       "      <td>990.74</td>\n",
       "      <td>1153.62</td>\n",
       "      <td>L1</td>\n",
       "      <td>6</td>\n",
       "      <td>10</td>\n",
       "    </tr>\n",
       "    <tr>\n",
       "      <th>10</th>\n",
       "      <td>11</td>\n",
       "      <td>AD</td>\n",
       "      <td>3</td>\n",
       "      <td>7</td>\n",
       "      <td>0</td>\n",
       "      <td>0.300</td>\n",
       "      <td>4</td>\n",
       "      <td>1</td>\n",
       "      <td>1107.28</td>\n",
       "      <td>1307.00</td>\n",
       "      <td>W2</td>\n",
       "      <td>9</td>\n",
       "      <td>10</td>\n",
       "    </tr>\n",
       "    <tr>\n",
       "      <th>11</th>\n",
       "      <td>12</td>\n",
       "      <td>MS</td>\n",
       "      <td>3</td>\n",
       "      <td>7</td>\n",
       "      <td>0</td>\n",
       "      <td>0.300</td>\n",
       "      <td>4</td>\n",
       "      <td>1</td>\n",
       "      <td>1089.92</td>\n",
       "      <td>1160.40</td>\n",
       "      <td>W2</td>\n",
       "      <td>13</td>\n",
       "      <td>10</td>\n",
       "    </tr>\n",
       "    <tr>\n",
       "      <th>0</th>\n",
       "      <td>1</td>\n",
       "      <td>JG</td>\n",
       "      <td>7</td>\n",
       "      <td>2</td>\n",
       "      <td>0</td>\n",
       "      <td>0.778</td>\n",
       "      <td>--</td>\n",
       "      <td>93</td>\n",
       "      <td>1028.06</td>\n",
       "      <td>935.74</td>\n",
       "      <td>W5</td>\n",
       "      <td>6</td>\n",
       "      <td>9</td>\n",
       "    </tr>\n",
       "    <tr>\n",
       "      <th>1</th>\n",
       "      <td>2</td>\n",
       "      <td>CP</td>\n",
       "      <td>6</td>\n",
       "      <td>3</td>\n",
       "      <td>0</td>\n",
       "      <td>0.667</td>\n",
       "      <td>1</td>\n",
       "      <td>80</td>\n",
       "      <td>1184.74</td>\n",
       "      <td>1029.50</td>\n",
       "      <td>W2</td>\n",
       "      <td>19</td>\n",
       "      <td>9</td>\n",
       "    </tr>\n",
       "    <tr>\n",
       "      <th>2</th>\n",
       "      <td>3</td>\n",
       "      <td>CM</td>\n",
       "      <td>6</td>\n",
       "      <td>3</td>\n",
       "      <td>0</td>\n",
       "      <td>0.667</td>\n",
       "      <td>1</td>\n",
       "      <td>66</td>\n",
       "      <td>1028.78</td>\n",
       "      <td>945.56</td>\n",
       "      <td>L3</td>\n",
       "      <td>6</td>\n",
       "      <td>9</td>\n",
       "    </tr>\n",
       "    <tr>\n",
       "      <th>3</th>\n",
       "      <td>4</td>\n",
       "      <td>SB</td>\n",
       "      <td>5</td>\n",
       "      <td>4</td>\n",
       "      <td>0</td>\n",
       "      <td>0.556</td>\n",
       "      <td>2</td>\n",
       "      <td>46</td>\n",
       "      <td>1167.52</td>\n",
       "      <td>1071.38</td>\n",
       "      <td>L1</td>\n",
       "      <td>6</td>\n",
       "      <td>9</td>\n",
       "    </tr>\n",
       "    <tr>\n",
       "      <th>4</th>\n",
       "      <td>5</td>\n",
       "      <td>MF</td>\n",
       "      <td>5</td>\n",
       "      <td>4</td>\n",
       "      <td>0</td>\n",
       "      <td>0.556</td>\n",
       "      <td>2</td>\n",
       "      <td>42</td>\n",
       "      <td>1144.84</td>\n",
       "      <td>1032.80</td>\n",
       "      <td>L2</td>\n",
       "      <td>13</td>\n",
       "      <td>9</td>\n",
       "    </tr>\n",
       "    <tr>\n",
       "      <th>5</th>\n",
       "      <td>6</td>\n",
       "      <td>DB</td>\n",
       "      <td>5</td>\n",
       "      <td>4</td>\n",
       "      <td>0</td>\n",
       "      <td>0.556</td>\n",
       "      <td>2</td>\n",
       "      <td>32</td>\n",
       "      <td>1027.70</td>\n",
       "      <td>1046.82</td>\n",
       "      <td>L1</td>\n",
       "      <td>22</td>\n",
       "      <td>9</td>\n",
       "    </tr>\n",
       "    <tr>\n",
       "      <th>6</th>\n",
       "      <td>7</td>\n",
       "      <td>MC</td>\n",
       "      <td>4</td>\n",
       "      <td>5</td>\n",
       "      <td>0</td>\n",
       "      <td>0.444</td>\n",
       "      <td>3</td>\n",
       "      <td>22</td>\n",
       "      <td>1210.78</td>\n",
       "      <td>1112.90</td>\n",
       "      <td>L1</td>\n",
       "      <td>13</td>\n",
       "      <td>9</td>\n",
       "    </tr>\n",
       "    <tr>\n",
       "      <th>7</th>\n",
       "      <td>8</td>\n",
       "      <td>LW</td>\n",
       "      <td>4</td>\n",
       "      <td>5</td>\n",
       "      <td>0</td>\n",
       "      <td>0.444</td>\n",
       "      <td>3</td>\n",
       "      <td>12</td>\n",
       "      <td>1078.16</td>\n",
       "      <td>1076.50</td>\n",
       "      <td>L1</td>\n",
       "      <td>9</td>\n",
       "      <td>9</td>\n",
       "    </tr>\n",
       "    <tr>\n",
       "      <th>8</th>\n",
       "      <td>9</td>\n",
       "      <td>MW</td>\n",
       "      <td>4</td>\n",
       "      <td>5</td>\n",
       "      <td>0</td>\n",
       "      <td>0.444</td>\n",
       "      <td>3</td>\n",
       "      <td>3</td>\n",
       "      <td>912.84</td>\n",
       "      <td>1072.32</td>\n",
       "      <td>W1</td>\n",
       "      <td>10</td>\n",
       "      <td>9</td>\n",
       "    </tr>\n",
       "    <tr>\n",
       "      <th>9</th>\n",
       "      <td>10</td>\n",
       "      <td>SA</td>\n",
       "      <td>4</td>\n",
       "      <td>5</td>\n",
       "      <td>0</td>\n",
       "      <td>0.444</td>\n",
       "      <td>3</td>\n",
       "      <td>4</td>\n",
       "      <td>892.40</td>\n",
       "      <td>1029.02</td>\n",
       "      <td>W1</td>\n",
       "      <td>5</td>\n",
       "      <td>9</td>\n",
       "    </tr>\n",
       "    <tr>\n",
       "      <th>10</th>\n",
       "      <td>11</td>\n",
       "      <td>AD</td>\n",
       "      <td>2</td>\n",
       "      <td>7</td>\n",
       "      <td>0</td>\n",
       "      <td>0.222</td>\n",
       "      <td>5</td>\n",
       "      <td>0</td>\n",
       "      <td>982.68</td>\n",
       "      <td>1208.66</td>\n",
       "      <td>W1</td>\n",
       "      <td>7</td>\n",
       "      <td>9</td>\n",
       "    </tr>\n",
       "    <tr>\n",
       "      <th>11</th>\n",
       "      <td>12</td>\n",
       "      <td>MS</td>\n",
       "      <td>2</td>\n",
       "      <td>7</td>\n",
       "      <td>0</td>\n",
       "      <td>0.222</td>\n",
       "      <td>5</td>\n",
       "      <td>0</td>\n",
       "      <td>942.58</td>\n",
       "      <td>1039.88</td>\n",
       "      <td>W1</td>\n",
       "      <td>11</td>\n",
       "      <td>9</td>\n",
       "    </tr>\n",
       "  </tbody>\n",
       "</table>\n",
       "</div>"
      ],
      "text/plain": [
       "    RK ABBR  W  L  T    PCT  GB  PLAYOFF %       PF       PA STRK  MOVES  WEEK\n",
       "0    1   CP  7  3  0  0.700  --         93  1341.70  1108.70   W3     20    10\n",
       "1    2   JG  7  3  0  0.700  --         86  1148.58  1083.08   L1      6    10\n",
       "2    3   MF  6  4  0  0.600   1         61  1277.20  1145.72   W1     15    10\n",
       "3    4   DB  6  4  0  0.600   1         43  1124.42  1140.30   W1     25    10\n",
       "4    5   CM  6  4  0  0.600   1         49  1107.98  1102.52   L4      7    10\n",
       "5    6   MC  5  5  0  0.500   2         31  1377.80  1201.78   W1     13    10\n",
       "6    7   SB  5  5  0  0.500   2         31  1256.40  1238.40   L2      6    10\n",
       "7    8   LW  4  6  0  0.400   3          5  1171.64  1173.22   L2     10    10\n",
       "8    9   MW  4  6  0  0.400   3          1  1025.76  1204.68   L1     10    10\n",
       "9   10   SA  4  6  0  0.400   3          1   990.74  1153.62   L1      6    10\n",
       "10  11   AD  3  7  0  0.300   4          1  1107.28  1307.00   W2      9    10\n",
       "11  12   MS  3  7  0  0.300   4          1  1089.92  1160.40   W2     13    10\n",
       "0    1   JG  7  2  0  0.778  --         93  1028.06   935.74   W5      6     9\n",
       "1    2   CP  6  3  0  0.667   1         80  1184.74  1029.50   W2     19     9\n",
       "2    3   CM  6  3  0  0.667   1         66  1028.78   945.56   L3      6     9\n",
       "3    4   SB  5  4  0  0.556   2         46  1167.52  1071.38   L1      6     9\n",
       "4    5   MF  5  4  0  0.556   2         42  1144.84  1032.80   L2     13     9\n",
       "5    6   DB  5  4  0  0.556   2         32  1027.70  1046.82   L1     22     9\n",
       "6    7   MC  4  5  0  0.444   3         22  1210.78  1112.90   L1     13     9\n",
       "7    8   LW  4  5  0  0.444   3         12  1078.16  1076.50   L1      9     9\n",
       "8    9   MW  4  5  0  0.444   3          3   912.84  1072.32   W1     10     9\n",
       "9   10   SA  4  5  0  0.444   3          4   892.40  1029.02   W1      5     9\n",
       "10  11   AD  2  7  0  0.222   5          0   982.68  1208.66   W1      7     9\n",
       "11  12   MS  2  7  0  0.222   5          0   942.58  1039.88   W1     11     9"
      ]
     },
     "execution_count": 37,
     "metadata": {},
     "output_type": "execute_result"
    }
   ],
   "source": [
    "result"
   ]
  },
  {
   "cell_type": "code",
   "execution_count": 139,
   "id": "2cee79f3",
   "metadata": {},
   "outputs": [
    {
     "data": {
      "text/plain": [
       "RK             int64\n",
       "ABBR          object\n",
       "PF           float64\n",
       "PA           float64\n",
       "STRK          object\n",
       "MOVES          int64\n",
       "W              int64\n",
       "L              int64\n",
       "T              int64\n",
       "PCT          float64\n",
       "GB            object\n",
       "PLAYOFF %      int64\n",
       "WEEK           int64\n",
       "dtype: object"
      ]
     },
     "execution_count": 139,
     "metadata": {},
     "output_type": "execute_result"
    }
   ],
   "source": [
    "result.dtypes"
   ]
  },
  {
   "cell_type": "code",
   "execution_count": 38,
   "id": "9ff82900",
   "metadata": {},
   "outputs": [],
   "source": [
    "result.replace(\n",
    "    to_replace=['--'],\n",
    "    value='0',\n",
    "    inplace=True)"
   ]
  },
  {
   "cell_type": "code",
   "execution_count": 39,
   "id": "990f981d",
   "metadata": {},
   "outputs": [],
   "source": [
    "result['GB'] = result['GB'].astype(int)"
   ]
  },
  {
   "cell_type": "code",
   "execution_count": 40,
   "id": "14b94e5c",
   "metadata": {},
   "outputs": [
    {
     "data": {
      "text/html": [
       "<div>\n",
       "<style scoped>\n",
       "    .dataframe tbody tr th:only-of-type {\n",
       "        vertical-align: middle;\n",
       "    }\n",
       "\n",
       "    .dataframe tbody tr th {\n",
       "        vertical-align: top;\n",
       "    }\n",
       "\n",
       "    .dataframe thead th {\n",
       "        text-align: right;\n",
       "    }\n",
       "</style>\n",
       "<table border=\"1\" class=\"dataframe\">\n",
       "  <thead>\n",
       "    <tr style=\"text-align: right;\">\n",
       "      <th></th>\n",
       "      <th>RK</th>\n",
       "      <th>ABBR</th>\n",
       "      <th>W</th>\n",
       "      <th>L</th>\n",
       "      <th>T</th>\n",
       "      <th>PCT</th>\n",
       "      <th>GB</th>\n",
       "      <th>PLAYOFF %</th>\n",
       "      <th>PF</th>\n",
       "      <th>PA</th>\n",
       "      <th>STRK</th>\n",
       "      <th>MOVES</th>\n",
       "      <th>WEEK</th>\n",
       "    </tr>\n",
       "  </thead>\n",
       "  <tbody>\n",
       "    <tr>\n",
       "      <th>10</th>\n",
       "      <td>11</td>\n",
       "      <td>AD</td>\n",
       "      <td>2</td>\n",
       "      <td>7</td>\n",
       "      <td>0</td>\n",
       "      <td>0.222</td>\n",
       "      <td>5</td>\n",
       "      <td>0</td>\n",
       "      <td>982.68</td>\n",
       "      <td>1208.66</td>\n",
       "      <td>W1</td>\n",
       "      <td>7</td>\n",
       "      <td>9</td>\n",
       "    </tr>\n",
       "    <tr>\n",
       "      <th>2</th>\n",
       "      <td>3</td>\n",
       "      <td>CM</td>\n",
       "      <td>6</td>\n",
       "      <td>3</td>\n",
       "      <td>0</td>\n",
       "      <td>0.667</td>\n",
       "      <td>1</td>\n",
       "      <td>66</td>\n",
       "      <td>1028.78</td>\n",
       "      <td>945.56</td>\n",
       "      <td>L3</td>\n",
       "      <td>6</td>\n",
       "      <td>9</td>\n",
       "    </tr>\n",
       "    <tr>\n",
       "      <th>1</th>\n",
       "      <td>2</td>\n",
       "      <td>CP</td>\n",
       "      <td>6</td>\n",
       "      <td>3</td>\n",
       "      <td>0</td>\n",
       "      <td>0.667</td>\n",
       "      <td>1</td>\n",
       "      <td>80</td>\n",
       "      <td>1184.74</td>\n",
       "      <td>1029.50</td>\n",
       "      <td>W2</td>\n",
       "      <td>19</td>\n",
       "      <td>9</td>\n",
       "    </tr>\n",
       "    <tr>\n",
       "      <th>5</th>\n",
       "      <td>6</td>\n",
       "      <td>DB</td>\n",
       "      <td>5</td>\n",
       "      <td>4</td>\n",
       "      <td>0</td>\n",
       "      <td>0.556</td>\n",
       "      <td>2</td>\n",
       "      <td>32</td>\n",
       "      <td>1027.70</td>\n",
       "      <td>1046.82</td>\n",
       "      <td>L1</td>\n",
       "      <td>22</td>\n",
       "      <td>9</td>\n",
       "    </tr>\n",
       "    <tr>\n",
       "      <th>0</th>\n",
       "      <td>1</td>\n",
       "      <td>JG</td>\n",
       "      <td>7</td>\n",
       "      <td>2</td>\n",
       "      <td>0</td>\n",
       "      <td>0.778</td>\n",
       "      <td>0</td>\n",
       "      <td>93</td>\n",
       "      <td>1028.06</td>\n",
       "      <td>935.74</td>\n",
       "      <td>W5</td>\n",
       "      <td>6</td>\n",
       "      <td>9</td>\n",
       "    </tr>\n",
       "    <tr>\n",
       "      <th>7</th>\n",
       "      <td>8</td>\n",
       "      <td>LW</td>\n",
       "      <td>4</td>\n",
       "      <td>5</td>\n",
       "      <td>0</td>\n",
       "      <td>0.444</td>\n",
       "      <td>3</td>\n",
       "      <td>12</td>\n",
       "      <td>1078.16</td>\n",
       "      <td>1076.50</td>\n",
       "      <td>L1</td>\n",
       "      <td>9</td>\n",
       "      <td>9</td>\n",
       "    </tr>\n",
       "    <tr>\n",
       "      <th>6</th>\n",
       "      <td>7</td>\n",
       "      <td>MC</td>\n",
       "      <td>4</td>\n",
       "      <td>5</td>\n",
       "      <td>0</td>\n",
       "      <td>0.444</td>\n",
       "      <td>3</td>\n",
       "      <td>22</td>\n",
       "      <td>1210.78</td>\n",
       "      <td>1112.90</td>\n",
       "      <td>L1</td>\n",
       "      <td>13</td>\n",
       "      <td>9</td>\n",
       "    </tr>\n",
       "    <tr>\n",
       "      <th>4</th>\n",
       "      <td>5</td>\n",
       "      <td>MF</td>\n",
       "      <td>5</td>\n",
       "      <td>4</td>\n",
       "      <td>0</td>\n",
       "      <td>0.556</td>\n",
       "      <td>2</td>\n",
       "      <td>42</td>\n",
       "      <td>1144.84</td>\n",
       "      <td>1032.80</td>\n",
       "      <td>L2</td>\n",
       "      <td>13</td>\n",
       "      <td>9</td>\n",
       "    </tr>\n",
       "    <tr>\n",
       "      <th>11</th>\n",
       "      <td>12</td>\n",
       "      <td>MS</td>\n",
       "      <td>2</td>\n",
       "      <td>7</td>\n",
       "      <td>0</td>\n",
       "      <td>0.222</td>\n",
       "      <td>5</td>\n",
       "      <td>0</td>\n",
       "      <td>942.58</td>\n",
       "      <td>1039.88</td>\n",
       "      <td>W1</td>\n",
       "      <td>11</td>\n",
       "      <td>9</td>\n",
       "    </tr>\n",
       "    <tr>\n",
       "      <th>8</th>\n",
       "      <td>9</td>\n",
       "      <td>MW</td>\n",
       "      <td>4</td>\n",
       "      <td>5</td>\n",
       "      <td>0</td>\n",
       "      <td>0.444</td>\n",
       "      <td>3</td>\n",
       "      <td>3</td>\n",
       "      <td>912.84</td>\n",
       "      <td>1072.32</td>\n",
       "      <td>W1</td>\n",
       "      <td>10</td>\n",
       "      <td>9</td>\n",
       "    </tr>\n",
       "    <tr>\n",
       "      <th>9</th>\n",
       "      <td>10</td>\n",
       "      <td>SA</td>\n",
       "      <td>4</td>\n",
       "      <td>5</td>\n",
       "      <td>0</td>\n",
       "      <td>0.444</td>\n",
       "      <td>3</td>\n",
       "      <td>4</td>\n",
       "      <td>892.40</td>\n",
       "      <td>1029.02</td>\n",
       "      <td>W1</td>\n",
       "      <td>5</td>\n",
       "      <td>9</td>\n",
       "    </tr>\n",
       "    <tr>\n",
       "      <th>3</th>\n",
       "      <td>4</td>\n",
       "      <td>SB</td>\n",
       "      <td>5</td>\n",
       "      <td>4</td>\n",
       "      <td>0</td>\n",
       "      <td>0.556</td>\n",
       "      <td>2</td>\n",
       "      <td>46</td>\n",
       "      <td>1167.52</td>\n",
       "      <td>1071.38</td>\n",
       "      <td>L1</td>\n",
       "      <td>6</td>\n",
       "      <td>9</td>\n",
       "    </tr>\n",
       "    <tr>\n",
       "      <th>10</th>\n",
       "      <td>11</td>\n",
       "      <td>AD</td>\n",
       "      <td>3</td>\n",
       "      <td>7</td>\n",
       "      <td>0</td>\n",
       "      <td>0.300</td>\n",
       "      <td>4</td>\n",
       "      <td>1</td>\n",
       "      <td>1107.28</td>\n",
       "      <td>1307.00</td>\n",
       "      <td>W2</td>\n",
       "      <td>9</td>\n",
       "      <td>10</td>\n",
       "    </tr>\n",
       "    <tr>\n",
       "      <th>4</th>\n",
       "      <td>5</td>\n",
       "      <td>CM</td>\n",
       "      <td>6</td>\n",
       "      <td>4</td>\n",
       "      <td>0</td>\n",
       "      <td>0.600</td>\n",
       "      <td>1</td>\n",
       "      <td>49</td>\n",
       "      <td>1107.98</td>\n",
       "      <td>1102.52</td>\n",
       "      <td>L4</td>\n",
       "      <td>7</td>\n",
       "      <td>10</td>\n",
       "    </tr>\n",
       "    <tr>\n",
       "      <th>0</th>\n",
       "      <td>1</td>\n",
       "      <td>CP</td>\n",
       "      <td>7</td>\n",
       "      <td>3</td>\n",
       "      <td>0</td>\n",
       "      <td>0.700</td>\n",
       "      <td>0</td>\n",
       "      <td>93</td>\n",
       "      <td>1341.70</td>\n",
       "      <td>1108.70</td>\n",
       "      <td>W3</td>\n",
       "      <td>20</td>\n",
       "      <td>10</td>\n",
       "    </tr>\n",
       "    <tr>\n",
       "      <th>3</th>\n",
       "      <td>4</td>\n",
       "      <td>DB</td>\n",
       "      <td>6</td>\n",
       "      <td>4</td>\n",
       "      <td>0</td>\n",
       "      <td>0.600</td>\n",
       "      <td>1</td>\n",
       "      <td>43</td>\n",
       "      <td>1124.42</td>\n",
       "      <td>1140.30</td>\n",
       "      <td>W1</td>\n",
       "      <td>25</td>\n",
       "      <td>10</td>\n",
       "    </tr>\n",
       "    <tr>\n",
       "      <th>1</th>\n",
       "      <td>2</td>\n",
       "      <td>JG</td>\n",
       "      <td>7</td>\n",
       "      <td>3</td>\n",
       "      <td>0</td>\n",
       "      <td>0.700</td>\n",
       "      <td>0</td>\n",
       "      <td>86</td>\n",
       "      <td>1148.58</td>\n",
       "      <td>1083.08</td>\n",
       "      <td>L1</td>\n",
       "      <td>6</td>\n",
       "      <td>10</td>\n",
       "    </tr>\n",
       "    <tr>\n",
       "      <th>7</th>\n",
       "      <td>8</td>\n",
       "      <td>LW</td>\n",
       "      <td>4</td>\n",
       "      <td>6</td>\n",
       "      <td>0</td>\n",
       "      <td>0.400</td>\n",
       "      <td>3</td>\n",
       "      <td>5</td>\n",
       "      <td>1171.64</td>\n",
       "      <td>1173.22</td>\n",
       "      <td>L2</td>\n",
       "      <td>10</td>\n",
       "      <td>10</td>\n",
       "    </tr>\n",
       "    <tr>\n",
       "      <th>5</th>\n",
       "      <td>6</td>\n",
       "      <td>MC</td>\n",
       "      <td>5</td>\n",
       "      <td>5</td>\n",
       "      <td>0</td>\n",
       "      <td>0.500</td>\n",
       "      <td>2</td>\n",
       "      <td>31</td>\n",
       "      <td>1377.80</td>\n",
       "      <td>1201.78</td>\n",
       "      <td>W1</td>\n",
       "      <td>13</td>\n",
       "      <td>10</td>\n",
       "    </tr>\n",
       "    <tr>\n",
       "      <th>2</th>\n",
       "      <td>3</td>\n",
       "      <td>MF</td>\n",
       "      <td>6</td>\n",
       "      <td>4</td>\n",
       "      <td>0</td>\n",
       "      <td>0.600</td>\n",
       "      <td>1</td>\n",
       "      <td>61</td>\n",
       "      <td>1277.20</td>\n",
       "      <td>1145.72</td>\n",
       "      <td>W1</td>\n",
       "      <td>15</td>\n",
       "      <td>10</td>\n",
       "    </tr>\n",
       "    <tr>\n",
       "      <th>11</th>\n",
       "      <td>12</td>\n",
       "      <td>MS</td>\n",
       "      <td>3</td>\n",
       "      <td>7</td>\n",
       "      <td>0</td>\n",
       "      <td>0.300</td>\n",
       "      <td>4</td>\n",
       "      <td>1</td>\n",
       "      <td>1089.92</td>\n",
       "      <td>1160.40</td>\n",
       "      <td>W2</td>\n",
       "      <td>13</td>\n",
       "      <td>10</td>\n",
       "    </tr>\n",
       "    <tr>\n",
       "      <th>8</th>\n",
       "      <td>9</td>\n",
       "      <td>MW</td>\n",
       "      <td>4</td>\n",
       "      <td>6</td>\n",
       "      <td>0</td>\n",
       "      <td>0.400</td>\n",
       "      <td>3</td>\n",
       "      <td>1</td>\n",
       "      <td>1025.76</td>\n",
       "      <td>1204.68</td>\n",
       "      <td>L1</td>\n",
       "      <td>10</td>\n",
       "      <td>10</td>\n",
       "    </tr>\n",
       "    <tr>\n",
       "      <th>9</th>\n",
       "      <td>10</td>\n",
       "      <td>SA</td>\n",
       "      <td>4</td>\n",
       "      <td>6</td>\n",
       "      <td>0</td>\n",
       "      <td>0.400</td>\n",
       "      <td>3</td>\n",
       "      <td>1</td>\n",
       "      <td>990.74</td>\n",
       "      <td>1153.62</td>\n",
       "      <td>L1</td>\n",
       "      <td>6</td>\n",
       "      <td>10</td>\n",
       "    </tr>\n",
       "    <tr>\n",
       "      <th>6</th>\n",
       "      <td>7</td>\n",
       "      <td>SB</td>\n",
       "      <td>5</td>\n",
       "      <td>5</td>\n",
       "      <td>0</td>\n",
       "      <td>0.500</td>\n",
       "      <td>2</td>\n",
       "      <td>31</td>\n",
       "      <td>1256.40</td>\n",
       "      <td>1238.40</td>\n",
       "      <td>L2</td>\n",
       "      <td>6</td>\n",
       "      <td>10</td>\n",
       "    </tr>\n",
       "  </tbody>\n",
       "</table>\n",
       "</div>"
      ],
      "text/plain": [
       "    RK ABBR  W  L  T    PCT  GB  PLAYOFF %       PF       PA STRK  MOVES  WEEK\n",
       "10  11   AD  2  7  0  0.222   5          0   982.68  1208.66   W1      7     9\n",
       "2    3   CM  6  3  0  0.667   1         66  1028.78   945.56   L3      6     9\n",
       "1    2   CP  6  3  0  0.667   1         80  1184.74  1029.50   W2     19     9\n",
       "5    6   DB  5  4  0  0.556   2         32  1027.70  1046.82   L1     22     9\n",
       "0    1   JG  7  2  0  0.778   0         93  1028.06   935.74   W5      6     9\n",
       "7    8   LW  4  5  0  0.444   3         12  1078.16  1076.50   L1      9     9\n",
       "6    7   MC  4  5  0  0.444   3         22  1210.78  1112.90   L1     13     9\n",
       "4    5   MF  5  4  0  0.556   2         42  1144.84  1032.80   L2     13     9\n",
       "11  12   MS  2  7  0  0.222   5          0   942.58  1039.88   W1     11     9\n",
       "8    9   MW  4  5  0  0.444   3          3   912.84  1072.32   W1     10     9\n",
       "9   10   SA  4  5  0  0.444   3          4   892.40  1029.02   W1      5     9\n",
       "3    4   SB  5  4  0  0.556   2         46  1167.52  1071.38   L1      6     9\n",
       "10  11   AD  3  7  0  0.300   4          1  1107.28  1307.00   W2      9    10\n",
       "4    5   CM  6  4  0  0.600   1         49  1107.98  1102.52   L4      7    10\n",
       "0    1   CP  7  3  0  0.700   0         93  1341.70  1108.70   W3     20    10\n",
       "3    4   DB  6  4  0  0.600   1         43  1124.42  1140.30   W1     25    10\n",
       "1    2   JG  7  3  0  0.700   0         86  1148.58  1083.08   L1      6    10\n",
       "7    8   LW  4  6  0  0.400   3          5  1171.64  1173.22   L2     10    10\n",
       "5    6   MC  5  5  0  0.500   2         31  1377.80  1201.78   W1     13    10\n",
       "2    3   MF  6  4  0  0.600   1         61  1277.20  1145.72   W1     15    10\n",
       "11  12   MS  3  7  0  0.300   4          1  1089.92  1160.40   W2     13    10\n",
       "8    9   MW  4  6  0  0.400   3          1  1025.76  1204.68   L1     10    10\n",
       "9   10   SA  4  6  0  0.400   3          1   990.74  1153.62   L1      6    10\n",
       "6    7   SB  5  5  0  0.500   2         31  1256.40  1238.40   L2      6    10"
      ]
     },
     "execution_count": 40,
     "metadata": {},
     "output_type": "execute_result"
    }
   ],
   "source": [
    "result.sort_values(['WEEK', 'ABBR'], ascending=[True, True], inplace=True)\n",
    "result"
   ]
  },
  {
   "cell_type": "code",
   "execution_count": 41,
   "id": "b2f9e42b",
   "metadata": {},
   "outputs": [],
   "source": [
    "result['Percent'] = result['PLAYOFF %']"
   ]
  },
  {
   "cell_type": "code",
   "execution_count": 42,
   "id": "36f561e3",
   "metadata": {},
   "outputs": [],
   "source": [
    "result['Label_color'] = [i for i in result['ABBR']]"
   ]
  },
  {
   "cell_type": "markdown",
   "id": "2ddb3602",
   "metadata": {},
   "source": [
    "# visuals"
   ]
  },
  {
   "cell_type": "code",
   "execution_count": 43,
   "id": "61bb90e3",
   "metadata": {},
   "outputs": [],
   "source": [
    "list_abbr = ['AD', 'CM', 'CP', 'DB', 'JG', 'LW', 'MC', 'MF', 'MS', 'MW', 'SA', 'SB']"
   ]
  },
  {
   "cell_type": "code",
   "execution_count": 44,
   "id": "4c0bf48a",
   "metadata": {},
   "outputs": [],
   "source": [
    "#get a color list, palette name can be changed\n",
    "pal_ = list(sns.color_palette(palette='plasma_r',\n",
    "                              n_colors=len(list_abbr)).as_hex())"
   ]
  },
  {
   "cell_type": "code",
   "execution_count": 45,
   "id": "e5c0e8ea",
   "metadata": {},
   "outputs": [
    {
     "data": {
      "application/vnd.plotly.v1+json": {
       "config": {
        "plotlyServerURL": "https://plot.ly"
       },
       "data": [
        {
         "hovertemplate": "Label_color=AD<br>Percent=%{x}<br>ABBR=%{y}<br>text=%{text}<extra></extra>",
         "legendgroup": "AD",
         "marker": {
          "color": "#fad824",
          "opacity": 1,
          "size": 58,
          "symbol": "circle"
         },
         "mode": "markers+text",
         "name": "AD",
         "orientation": "h",
         "showlegend": true,
         "text": [
          "0 %",
          "1 %"
         ],
         "textfont": {
          "color": "black"
         },
         "textposition": "top center",
         "type": "scatter",
         "x": [
          0,
          1
         ],
         "xaxis": "x",
         "y": [
          "AD",
          "AD"
         ],
         "yaxis": "y"
        },
        {
         "hovertemplate": "Label_color=CM<br>Percent=%{x}<br>ABBR=%{y}<br>text=%{text}<extra></extra>",
         "legendgroup": "CM",
         "marker": {
          "color": "#feb82c",
          "opacity": 1,
          "size": 58,
          "symbol": "circle"
         },
         "mode": "markers+text",
         "name": "CM",
         "orientation": "h",
         "showlegend": true,
         "text": [
          "66 %",
          "49 %"
         ],
         "textfont": {
          "color": "black"
         },
         "textposition": "top center",
         "type": "scatter",
         "x": [
          66,
          49
         ],
         "xaxis": "x",
         "y": [
          "CM",
          "CM"
         ],
         "yaxis": "y"
        },
        {
         "hovertemplate": "Label_color=CP<br>Percent=%{x}<br>ABBR=%{y}<br>text=%{text}<extra></extra>",
         "legendgroup": "CP",
         "marker": {
          "color": "#fa9b3d",
          "opacity": 1,
          "size": 58,
          "symbol": "circle"
         },
         "mode": "markers+text",
         "name": "CP",
         "orientation": "h",
         "showlegend": true,
         "text": [
          "80 %",
          "93 %"
         ],
         "textfont": {
          "color": "black"
         },
         "textposition": "top center",
         "type": "scatter",
         "x": [
          80,
          93
         ],
         "xaxis": "x",
         "y": [
          "CP",
          "CP"
         ],
         "yaxis": "y"
        },
        {
         "hovertemplate": "Label_color=DB<br>Percent=%{x}<br>ABBR=%{y}<br>text=%{text}<extra></extra>",
         "legendgroup": "DB",
         "marker": {
          "color": "#f1814d",
          "opacity": 1,
          "size": 58,
          "symbol": "circle"
         },
         "mode": "markers+text",
         "name": "DB",
         "orientation": "h",
         "showlegend": true,
         "text": [
          "32 %",
          "43 %"
         ],
         "textfont": {
          "color": "black"
         },
         "textposition": "top center",
         "type": "scatter",
         "x": [
          32,
          43
         ],
         "xaxis": "x",
         "y": [
          "DB",
          "DB"
         ],
         "yaxis": "y"
        },
        {
         "hovertemplate": "Label_color=JG<br>Percent=%{x}<br>ABBR=%{y}<br>text=%{text}<extra></extra>",
         "legendgroup": "JG",
         "marker": {
          "color": "#e4695e",
          "opacity": 1,
          "size": 58,
          "symbol": "circle"
         },
         "mode": "markers+text",
         "name": "JG",
         "orientation": "h",
         "showlegend": true,
         "text": [
          "93 %",
          "86 %"
         ],
         "textfont": {
          "color": "black"
         },
         "textposition": "top center",
         "type": "scatter",
         "x": [
          93,
          86
         ],
         "xaxis": "x",
         "y": [
          "JG",
          "JG"
         ],
         "yaxis": "y"
        },
        {
         "hovertemplate": "Label_color=LW<br>Percent=%{x}<br>ABBR=%{y}<br>text=%{text}<extra></extra>",
         "legendgroup": "LW",
         "marker": {
          "color": "#d45270",
          "opacity": 1,
          "size": 58,
          "symbol": "circle"
         },
         "mode": "markers+text",
         "name": "LW",
         "orientation": "h",
         "showlegend": true,
         "text": [
          "12 %",
          "5 %"
         ],
         "textfont": {
          "color": "black"
         },
         "textposition": "top center",
         "type": "scatter",
         "x": [
          12,
          5
         ],
         "xaxis": "x",
         "y": [
          "LW",
          "LW"
         ],
         "yaxis": "y"
        },
        {
         "hovertemplate": "Label_color=MC<br>Percent=%{x}<br>ABBR=%{y}<br>text=%{text}<extra></extra>",
         "legendgroup": "MC",
         "marker": {
          "color": "#c23c81",
          "opacity": 1,
          "size": 58,
          "symbol": "circle"
         },
         "mode": "markers+text",
         "name": "MC",
         "orientation": "h",
         "showlegend": true,
         "text": [
          "22 %",
          "31 %"
         ],
         "textfont": {
          "color": "black"
         },
         "textposition": "top center",
         "type": "scatter",
         "x": [
          22,
          31
         ],
         "xaxis": "x",
         "y": [
          "MC",
          "MC"
         ],
         "yaxis": "y"
        },
        {
         "hovertemplate": "Label_color=MF<br>Percent=%{x}<br>ABBR=%{y}<br>text=%{text}<extra></extra>",
         "legendgroup": "MF",
         "marker": {
          "color": "#ac2694",
          "opacity": 1,
          "size": 58,
          "symbol": "circle"
         },
         "mode": "markers+text",
         "name": "MF",
         "orientation": "h",
         "showlegend": true,
         "text": [
          "42 %",
          "61 %"
         ],
         "textfont": {
          "color": "black"
         },
         "textposition": "top center",
         "type": "scatter",
         "x": [
          42,
          61
         ],
         "xaxis": "x",
         "y": [
          "MF",
          "MF"
         ],
         "yaxis": "y"
        },
        {
         "hovertemplate": "Label_color=MS<br>Percent=%{x}<br>ABBR=%{y}<br>text=%{text}<extra></extra>",
         "legendgroup": "MS",
         "marker": {
          "color": "#920fa3",
          "opacity": 1,
          "size": 58,
          "symbol": "circle"
         },
         "mode": "markers+text",
         "name": "MS",
         "orientation": "h",
         "showlegend": true,
         "text": [
          "0 %",
          "1 %"
         ],
         "textfont": {
          "color": "black"
         },
         "textposition": "top center",
         "type": "scatter",
         "x": [
          0,
          1
         ],
         "xaxis": "x",
         "y": [
          "MS",
          "MS"
         ],
         "yaxis": "y"
        },
        {
         "hovertemplate": "Label_color=MW<br>Percent=%{x}<br>ABBR=%{y}<br>text=%{text}<extra></extra>",
         "legendgroup": "MW",
         "marker": {
          "color": "#7701a8",
          "opacity": 1,
          "size": 58,
          "symbol": "circle"
         },
         "mode": "markers+text",
         "name": "MW",
         "orientation": "h",
         "showlegend": true,
         "text": [
          "3 %",
          "1 %"
         ],
         "textfont": {
          "color": "black"
         },
         "textposition": "top center",
         "type": "scatter",
         "x": [
          3,
          1
         ],
         "xaxis": "x",
         "y": [
          "MW",
          "MW"
         ],
         "yaxis": "y"
        },
        {
         "hovertemplate": "Label_color=SA<br>Percent=%{x}<br>ABBR=%{y}<br>text=%{text}<extra></extra>",
         "legendgroup": "SA",
         "marker": {
          "color": "#5801a4",
          "opacity": 1,
          "size": 58,
          "symbol": "circle"
         },
         "mode": "markers+text",
         "name": "SA",
         "orientation": "h",
         "showlegend": true,
         "text": [
          "4 %",
          "1 %"
         ],
         "textfont": {
          "color": "black"
         },
         "textposition": "top center",
         "type": "scatter",
         "x": [
          4,
          1
         ],
         "xaxis": "x",
         "y": [
          "SA",
          "SA"
         ],
         "yaxis": "y"
        },
        {
         "hovertemplate": "Label_color=SB<br>Percent=%{x}<br>ABBR=%{y}<br>text=%{text}<extra></extra>",
         "legendgroup": "SB",
         "marker": {
          "color": "#370499",
          "opacity": 1,
          "size": 58,
          "symbol": "circle"
         },
         "mode": "markers+text",
         "name": "SB",
         "orientation": "h",
         "showlegend": true,
         "text": [
          "46 %",
          "31 %"
         ],
         "textfont": {
          "color": "black"
         },
         "textposition": "top center",
         "type": "scatter",
         "x": [
          46,
          31
         ],
         "xaxis": "x",
         "y": [
          "SB",
          "SB"
         ],
         "yaxis": "y"
        }
       ],
       "layout": {
        "height": 900,
        "legend": {
         "title": {
          "text": "Abbr"
         },
         "tracegroupgap": 0
        },
        "margin": {
         "b": 20,
         "l": 20,
         "r": 20,
         "t": 40
        },
        "plot_bgcolor": "white",
        "shapes": [
         {
          "layer": "below",
          "line": {
           "color": "#fad824",
           "width": 6
          },
          "type": "line",
          "x0": 0,
          "x1": 1,
          "y0": "AD",
          "y1": "AD"
         },
         {
          "layer": "below",
          "line": {
           "color": "#feb82c",
           "width": 6
          },
          "type": "line",
          "x0": 66,
          "x1": 49,
          "y0": "CM",
          "y1": "CM"
         },
         {
          "layer": "below",
          "line": {
           "color": "#fa9b3d",
           "width": 6
          },
          "type": "line",
          "x0": 80,
          "x1": 93,
          "y0": "CP",
          "y1": "CP"
         },
         {
          "layer": "below",
          "line": {
           "color": "#f1814d",
           "width": 6
          },
          "type": "line",
          "x0": 32,
          "x1": 43,
          "y0": "DB",
          "y1": "DB"
         },
         {
          "layer": "below",
          "line": {
           "color": "#e4695e",
           "width": 6
          },
          "type": "line",
          "x0": 93,
          "x1": 86,
          "y0": "JG",
          "y1": "JG"
         },
         {
          "layer": "below",
          "line": {
           "color": "#d45270",
           "width": 6
          },
          "type": "line",
          "x0": 12,
          "x1": 5,
          "y0": "LW",
          "y1": "LW"
         },
         {
          "layer": "below",
          "line": {
           "color": "#c23c81",
           "width": 6
          },
          "type": "line",
          "x0": 22,
          "x1": 31,
          "y0": "MC",
          "y1": "MC"
         },
         {
          "layer": "below",
          "line": {
           "color": "#ac2694",
           "width": 6
          },
          "type": "line",
          "x0": 42,
          "x1": 61,
          "y0": "MF",
          "y1": "MF"
         },
         {
          "layer": "below",
          "line": {
           "color": "#920fa3",
           "width": 6
          },
          "type": "line",
          "x0": 0,
          "x1": 1,
          "y0": "MS",
          "y1": "MS"
         },
         {
          "layer": "below",
          "line": {
           "color": "#7701a8",
           "width": 6
          },
          "type": "line",
          "x0": 3,
          "x1": 1,
          "y0": "MW",
          "y1": "MW"
         },
         {
          "layer": "below",
          "line": {
           "color": "#5801a4",
           "width": 6
          },
          "type": "line",
          "x0": 4,
          "x1": 1,
          "y0": "SA",
          "y1": "SA"
         },
         {
          "layer": "below",
          "line": {
           "color": "#370499",
           "width": 6
          },
          "type": "line",
          "x0": 46,
          "x1": 31,
          "y0": "SB",
          "y1": "SB"
         }
        ],
        "showlegend": true,
        "template": {
         "data": {
          "bar": [
           {
            "error_x": {
             "color": "#2a3f5f"
            },
            "error_y": {
             "color": "#2a3f5f"
            },
            "marker": {
             "line": {
              "color": "#E5ECF6",
              "width": 0.5
             },
             "pattern": {
              "fillmode": "overlay",
              "size": 10,
              "solidity": 0.2
             }
            },
            "type": "bar"
           }
          ],
          "barpolar": [
           {
            "marker": {
             "line": {
              "color": "#E5ECF6",
              "width": 0.5
             },
             "pattern": {
              "fillmode": "overlay",
              "size": 10,
              "solidity": 0.2
             }
            },
            "type": "barpolar"
           }
          ],
          "carpet": [
           {
            "aaxis": {
             "endlinecolor": "#2a3f5f",
             "gridcolor": "white",
             "linecolor": "white",
             "minorgridcolor": "white",
             "startlinecolor": "#2a3f5f"
            },
            "baxis": {
             "endlinecolor": "#2a3f5f",
             "gridcolor": "white",
             "linecolor": "white",
             "minorgridcolor": "white",
             "startlinecolor": "#2a3f5f"
            },
            "type": "carpet"
           }
          ],
          "choropleth": [
           {
            "colorbar": {
             "outlinewidth": 0,
             "ticks": ""
            },
            "type": "choropleth"
           }
          ],
          "contour": [
           {
            "colorbar": {
             "outlinewidth": 0,
             "ticks": ""
            },
            "colorscale": [
             [
              0,
              "#0d0887"
             ],
             [
              0.1111111111111111,
              "#46039f"
             ],
             [
              0.2222222222222222,
              "#7201a8"
             ],
             [
              0.3333333333333333,
              "#9c179e"
             ],
             [
              0.4444444444444444,
              "#bd3786"
             ],
             [
              0.5555555555555556,
              "#d8576b"
             ],
             [
              0.6666666666666666,
              "#ed7953"
             ],
             [
              0.7777777777777778,
              "#fb9f3a"
             ],
             [
              0.8888888888888888,
              "#fdca26"
             ],
             [
              1,
              "#f0f921"
             ]
            ],
            "type": "contour"
           }
          ],
          "contourcarpet": [
           {
            "colorbar": {
             "outlinewidth": 0,
             "ticks": ""
            },
            "type": "contourcarpet"
           }
          ],
          "heatmap": [
           {
            "colorbar": {
             "outlinewidth": 0,
             "ticks": ""
            },
            "colorscale": [
             [
              0,
              "#0d0887"
             ],
             [
              0.1111111111111111,
              "#46039f"
             ],
             [
              0.2222222222222222,
              "#7201a8"
             ],
             [
              0.3333333333333333,
              "#9c179e"
             ],
             [
              0.4444444444444444,
              "#bd3786"
             ],
             [
              0.5555555555555556,
              "#d8576b"
             ],
             [
              0.6666666666666666,
              "#ed7953"
             ],
             [
              0.7777777777777778,
              "#fb9f3a"
             ],
             [
              0.8888888888888888,
              "#fdca26"
             ],
             [
              1,
              "#f0f921"
             ]
            ],
            "type": "heatmap"
           }
          ],
          "heatmapgl": [
           {
            "colorbar": {
             "outlinewidth": 0,
             "ticks": ""
            },
            "colorscale": [
             [
              0,
              "#0d0887"
             ],
             [
              0.1111111111111111,
              "#46039f"
             ],
             [
              0.2222222222222222,
              "#7201a8"
             ],
             [
              0.3333333333333333,
              "#9c179e"
             ],
             [
              0.4444444444444444,
              "#bd3786"
             ],
             [
              0.5555555555555556,
              "#d8576b"
             ],
             [
              0.6666666666666666,
              "#ed7953"
             ],
             [
              0.7777777777777778,
              "#fb9f3a"
             ],
             [
              0.8888888888888888,
              "#fdca26"
             ],
             [
              1,
              "#f0f921"
             ]
            ],
            "type": "heatmapgl"
           }
          ],
          "histogram": [
           {
            "marker": {
             "pattern": {
              "fillmode": "overlay",
              "size": 10,
              "solidity": 0.2
             }
            },
            "type": "histogram"
           }
          ],
          "histogram2d": [
           {
            "colorbar": {
             "outlinewidth": 0,
             "ticks": ""
            },
            "colorscale": [
             [
              0,
              "#0d0887"
             ],
             [
              0.1111111111111111,
              "#46039f"
             ],
             [
              0.2222222222222222,
              "#7201a8"
             ],
             [
              0.3333333333333333,
              "#9c179e"
             ],
             [
              0.4444444444444444,
              "#bd3786"
             ],
             [
              0.5555555555555556,
              "#d8576b"
             ],
             [
              0.6666666666666666,
              "#ed7953"
             ],
             [
              0.7777777777777778,
              "#fb9f3a"
             ],
             [
              0.8888888888888888,
              "#fdca26"
             ],
             [
              1,
              "#f0f921"
             ]
            ],
            "type": "histogram2d"
           }
          ],
          "histogram2dcontour": [
           {
            "colorbar": {
             "outlinewidth": 0,
             "ticks": ""
            },
            "colorscale": [
             [
              0,
              "#0d0887"
             ],
             [
              0.1111111111111111,
              "#46039f"
             ],
             [
              0.2222222222222222,
              "#7201a8"
             ],
             [
              0.3333333333333333,
              "#9c179e"
             ],
             [
              0.4444444444444444,
              "#bd3786"
             ],
             [
              0.5555555555555556,
              "#d8576b"
             ],
             [
              0.6666666666666666,
              "#ed7953"
             ],
             [
              0.7777777777777778,
              "#fb9f3a"
             ],
             [
              0.8888888888888888,
              "#fdca26"
             ],
             [
              1,
              "#f0f921"
             ]
            ],
            "type": "histogram2dcontour"
           }
          ],
          "mesh3d": [
           {
            "colorbar": {
             "outlinewidth": 0,
             "ticks": ""
            },
            "type": "mesh3d"
           }
          ],
          "parcoords": [
           {
            "line": {
             "colorbar": {
              "outlinewidth": 0,
              "ticks": ""
             }
            },
            "type": "parcoords"
           }
          ],
          "pie": [
           {
            "automargin": true,
            "type": "pie"
           }
          ],
          "scatter": [
           {
            "marker": {
             "colorbar": {
              "outlinewidth": 0,
              "ticks": ""
             }
            },
            "type": "scatter"
           }
          ],
          "scatter3d": [
           {
            "line": {
             "colorbar": {
              "outlinewidth": 0,
              "ticks": ""
             }
            },
            "marker": {
             "colorbar": {
              "outlinewidth": 0,
              "ticks": ""
             }
            },
            "type": "scatter3d"
           }
          ],
          "scattercarpet": [
           {
            "marker": {
             "colorbar": {
              "outlinewidth": 0,
              "ticks": ""
             }
            },
            "type": "scattercarpet"
           }
          ],
          "scattergeo": [
           {
            "marker": {
             "colorbar": {
              "outlinewidth": 0,
              "ticks": ""
             }
            },
            "type": "scattergeo"
           }
          ],
          "scattergl": [
           {
            "marker": {
             "colorbar": {
              "outlinewidth": 0,
              "ticks": ""
             }
            },
            "type": "scattergl"
           }
          ],
          "scattermapbox": [
           {
            "marker": {
             "colorbar": {
              "outlinewidth": 0,
              "ticks": ""
             }
            },
            "type": "scattermapbox"
           }
          ],
          "scatterpolar": [
           {
            "marker": {
             "colorbar": {
              "outlinewidth": 0,
              "ticks": ""
             }
            },
            "type": "scatterpolar"
           }
          ],
          "scatterpolargl": [
           {
            "marker": {
             "colorbar": {
              "outlinewidth": 0,
              "ticks": ""
             }
            },
            "type": "scatterpolargl"
           }
          ],
          "scatterternary": [
           {
            "marker": {
             "colorbar": {
              "outlinewidth": 0,
              "ticks": ""
             }
            },
            "type": "scatterternary"
           }
          ],
          "surface": [
           {
            "colorbar": {
             "outlinewidth": 0,
             "ticks": ""
            },
            "colorscale": [
             [
              0,
              "#0d0887"
             ],
             [
              0.1111111111111111,
              "#46039f"
             ],
             [
              0.2222222222222222,
              "#7201a8"
             ],
             [
              0.3333333333333333,
              "#9c179e"
             ],
             [
              0.4444444444444444,
              "#bd3786"
             ],
             [
              0.5555555555555556,
              "#d8576b"
             ],
             [
              0.6666666666666666,
              "#ed7953"
             ],
             [
              0.7777777777777778,
              "#fb9f3a"
             ],
             [
              0.8888888888888888,
              "#fdca26"
             ],
             [
              1,
              "#f0f921"
             ]
            ],
            "type": "surface"
           }
          ],
          "table": [
           {
            "cells": {
             "fill": {
              "color": "#EBF0F8"
             },
             "line": {
              "color": "white"
             }
            },
            "header": {
             "fill": {
              "color": "#C8D4E3"
             },
             "line": {
              "color": "white"
             }
            },
            "type": "table"
           }
          ]
         },
         "layout": {
          "annotationdefaults": {
           "arrowcolor": "#2a3f5f",
           "arrowhead": 0,
           "arrowwidth": 1
          },
          "autotypenumbers": "strict",
          "coloraxis": {
           "colorbar": {
            "outlinewidth": 0,
            "ticks": ""
           }
          },
          "colorscale": {
           "diverging": [
            [
             0,
             "#8e0152"
            ],
            [
             0.1,
             "#c51b7d"
            ],
            [
             0.2,
             "#de77ae"
            ],
            [
             0.3,
             "#f1b6da"
            ],
            [
             0.4,
             "#fde0ef"
            ],
            [
             0.5,
             "#f7f7f7"
            ],
            [
             0.6,
             "#e6f5d0"
            ],
            [
             0.7,
             "#b8e186"
            ],
            [
             0.8,
             "#7fbc41"
            ],
            [
             0.9,
             "#4d9221"
            ],
            [
             1,
             "#276419"
            ]
           ],
           "sequential": [
            [
             0,
             "#0d0887"
            ],
            [
             0.1111111111111111,
             "#46039f"
            ],
            [
             0.2222222222222222,
             "#7201a8"
            ],
            [
             0.3333333333333333,
             "#9c179e"
            ],
            [
             0.4444444444444444,
             "#bd3786"
            ],
            [
             0.5555555555555556,
             "#d8576b"
            ],
            [
             0.6666666666666666,
             "#ed7953"
            ],
            [
             0.7777777777777778,
             "#fb9f3a"
            ],
            [
             0.8888888888888888,
             "#fdca26"
            ],
            [
             1,
             "#f0f921"
            ]
           ],
           "sequentialminus": [
            [
             0,
             "#0d0887"
            ],
            [
             0.1111111111111111,
             "#46039f"
            ],
            [
             0.2222222222222222,
             "#7201a8"
            ],
            [
             0.3333333333333333,
             "#9c179e"
            ],
            [
             0.4444444444444444,
             "#bd3786"
            ],
            [
             0.5555555555555556,
             "#d8576b"
            ],
            [
             0.6666666666666666,
             "#ed7953"
            ],
            [
             0.7777777777777778,
             "#fb9f3a"
            ],
            [
             0.8888888888888888,
             "#fdca26"
            ],
            [
             1,
             "#f0f921"
            ]
           ]
          },
          "colorway": [
           "#636efa",
           "#EF553B",
           "#00cc96",
           "#ab63fa",
           "#FFA15A",
           "#19d3f3",
           "#FF6692",
           "#B6E880",
           "#FF97FF",
           "#FECB52"
          ],
          "font": {
           "color": "#2a3f5f"
          },
          "geo": {
           "bgcolor": "white",
           "lakecolor": "white",
           "landcolor": "#E5ECF6",
           "showlakes": true,
           "showland": true,
           "subunitcolor": "white"
          },
          "hoverlabel": {
           "align": "left"
          },
          "hovermode": "closest",
          "mapbox": {
           "style": "light"
          },
          "paper_bgcolor": "white",
          "plot_bgcolor": "#E5ECF6",
          "polar": {
           "angularaxis": {
            "gridcolor": "white",
            "linecolor": "white",
            "ticks": ""
           },
           "bgcolor": "#E5ECF6",
           "radialaxis": {
            "gridcolor": "white",
            "linecolor": "white",
            "ticks": ""
           }
          },
          "scene": {
           "xaxis": {
            "backgroundcolor": "#E5ECF6",
            "gridcolor": "white",
            "gridwidth": 2,
            "linecolor": "white",
            "showbackground": true,
            "ticks": "",
            "zerolinecolor": "white"
           },
           "yaxis": {
            "backgroundcolor": "#E5ECF6",
            "gridcolor": "white",
            "gridwidth": 2,
            "linecolor": "white",
            "showbackground": true,
            "ticks": "",
            "zerolinecolor": "white"
           },
           "zaxis": {
            "backgroundcolor": "#E5ECF6",
            "gridcolor": "white",
            "gridwidth": 2,
            "linecolor": "white",
            "showbackground": true,
            "ticks": "",
            "zerolinecolor": "white"
           }
          },
          "shapedefaults": {
           "line": {
            "color": "#2a3f5f"
           }
          },
          "ternary": {
           "aaxis": {
            "gridcolor": "white",
            "linecolor": "white",
            "ticks": ""
           },
           "baxis": {
            "gridcolor": "white",
            "linecolor": "white",
            "ticks": ""
           },
           "bgcolor": "#E5ECF6",
           "caxis": {
            "gridcolor": "white",
            "linecolor": "white",
            "ticks": ""
           }
          },
          "title": {
           "x": 0.05
          },
          "xaxis": {
           "automargin": true,
           "gridcolor": "white",
           "linecolor": "white",
           "ticks": "",
           "title": {
            "standoff": 15
           },
           "zerolinecolor": "white",
           "zerolinewidth": 2
          },
          "yaxis": {
           "automargin": true,
           "gridcolor": "white",
           "linecolor": "white",
           "ticks": "",
           "title": {
            "standoff": 15
           },
           "zerolinecolor": "white",
           "zerolinewidth": 2
          }
         }
        },
        "width": 950,
        "xaxis": {
         "anchor": "y",
         "domain": [
          0,
          1
         ],
         "title": {
          "text": "Percent"
         },
         "visible": false
        },
        "yaxis": {
         "anchor": "x",
         "categoryorder": "total descending",
         "domain": [
          0,
          1
         ],
         "showgrid": false,
         "title": {
          "text": ""
         },
         "visible": true
        }
       }
      },
      "text/html": [
       "<div>                            <div id=\"72a7b774-70ed-4de3-bee9-4c5eaade045d\" class=\"plotly-graph-div\" style=\"height:900px; width:950px;\"></div>            <script type=\"text/javascript\">                require([\"plotly\"], function(Plotly) {                    window.PLOTLYENV=window.PLOTLYENV || {};                                    if (document.getElementById(\"72a7b774-70ed-4de3-bee9-4c5eaade045d\")) {                    Plotly.newPlot(                        \"72a7b774-70ed-4de3-bee9-4c5eaade045d\",                        [{\"hovertemplate\":\"Label_color=AD<br>Percent=%{x}<br>ABBR=%{y}<br>text=%{text}<extra></extra>\",\"legendgroup\":\"AD\",\"marker\":{\"color\":\"#fad824\",\"opacity\":1,\"symbol\":\"circle\",\"size\":58},\"mode\":\"markers+text\",\"name\":\"AD\",\"orientation\":\"h\",\"showlegend\":true,\"text\":[\"0 %\",\"1 %\"],\"x\":[0,1],\"xaxis\":\"x\",\"y\":[\"AD\",\"AD\"],\"yaxis\":\"y\",\"type\":\"scatter\",\"textfont\":{\"color\":\"black\"},\"textposition\":\"top center\"},{\"hovertemplate\":\"Label_color=CM<br>Percent=%{x}<br>ABBR=%{y}<br>text=%{text}<extra></extra>\",\"legendgroup\":\"CM\",\"marker\":{\"color\":\"#feb82c\",\"opacity\":1,\"symbol\":\"circle\",\"size\":58},\"mode\":\"markers+text\",\"name\":\"CM\",\"orientation\":\"h\",\"showlegend\":true,\"text\":[\"66 %\",\"49 %\"],\"x\":[66,49],\"xaxis\":\"x\",\"y\":[\"CM\",\"CM\"],\"yaxis\":\"y\",\"type\":\"scatter\",\"textfont\":{\"color\":\"black\"},\"textposition\":\"top center\"},{\"hovertemplate\":\"Label_color=CP<br>Percent=%{x}<br>ABBR=%{y}<br>text=%{text}<extra></extra>\",\"legendgroup\":\"CP\",\"marker\":{\"color\":\"#fa9b3d\",\"opacity\":1,\"symbol\":\"circle\",\"size\":58},\"mode\":\"markers+text\",\"name\":\"CP\",\"orientation\":\"h\",\"showlegend\":true,\"text\":[\"80 %\",\"93 %\"],\"x\":[80,93],\"xaxis\":\"x\",\"y\":[\"CP\",\"CP\"],\"yaxis\":\"y\",\"type\":\"scatter\",\"textfont\":{\"color\":\"black\"},\"textposition\":\"top center\"},{\"hovertemplate\":\"Label_color=DB<br>Percent=%{x}<br>ABBR=%{y}<br>text=%{text}<extra></extra>\",\"legendgroup\":\"DB\",\"marker\":{\"color\":\"#f1814d\",\"opacity\":1,\"symbol\":\"circle\",\"size\":58},\"mode\":\"markers+text\",\"name\":\"DB\",\"orientation\":\"h\",\"showlegend\":true,\"text\":[\"32 %\",\"43 %\"],\"x\":[32,43],\"xaxis\":\"x\",\"y\":[\"DB\",\"DB\"],\"yaxis\":\"y\",\"type\":\"scatter\",\"textfont\":{\"color\":\"black\"},\"textposition\":\"top center\"},{\"hovertemplate\":\"Label_color=JG<br>Percent=%{x}<br>ABBR=%{y}<br>text=%{text}<extra></extra>\",\"legendgroup\":\"JG\",\"marker\":{\"color\":\"#e4695e\",\"opacity\":1,\"symbol\":\"circle\",\"size\":58},\"mode\":\"markers+text\",\"name\":\"JG\",\"orientation\":\"h\",\"showlegend\":true,\"text\":[\"93 %\",\"86 %\"],\"x\":[93,86],\"xaxis\":\"x\",\"y\":[\"JG\",\"JG\"],\"yaxis\":\"y\",\"type\":\"scatter\",\"textfont\":{\"color\":\"black\"},\"textposition\":\"top center\"},{\"hovertemplate\":\"Label_color=LW<br>Percent=%{x}<br>ABBR=%{y}<br>text=%{text}<extra></extra>\",\"legendgroup\":\"LW\",\"marker\":{\"color\":\"#d45270\",\"opacity\":1,\"symbol\":\"circle\",\"size\":58},\"mode\":\"markers+text\",\"name\":\"LW\",\"orientation\":\"h\",\"showlegend\":true,\"text\":[\"12 %\",\"5 %\"],\"x\":[12,5],\"xaxis\":\"x\",\"y\":[\"LW\",\"LW\"],\"yaxis\":\"y\",\"type\":\"scatter\",\"textfont\":{\"color\":\"black\"},\"textposition\":\"top center\"},{\"hovertemplate\":\"Label_color=MC<br>Percent=%{x}<br>ABBR=%{y}<br>text=%{text}<extra></extra>\",\"legendgroup\":\"MC\",\"marker\":{\"color\":\"#c23c81\",\"opacity\":1,\"symbol\":\"circle\",\"size\":58},\"mode\":\"markers+text\",\"name\":\"MC\",\"orientation\":\"h\",\"showlegend\":true,\"text\":[\"22 %\",\"31 %\"],\"x\":[22,31],\"xaxis\":\"x\",\"y\":[\"MC\",\"MC\"],\"yaxis\":\"y\",\"type\":\"scatter\",\"textfont\":{\"color\":\"black\"},\"textposition\":\"top center\"},{\"hovertemplate\":\"Label_color=MF<br>Percent=%{x}<br>ABBR=%{y}<br>text=%{text}<extra></extra>\",\"legendgroup\":\"MF\",\"marker\":{\"color\":\"#ac2694\",\"opacity\":1,\"symbol\":\"circle\",\"size\":58},\"mode\":\"markers+text\",\"name\":\"MF\",\"orientation\":\"h\",\"showlegend\":true,\"text\":[\"42 %\",\"61 %\"],\"x\":[42,61],\"xaxis\":\"x\",\"y\":[\"MF\",\"MF\"],\"yaxis\":\"y\",\"type\":\"scatter\",\"textfont\":{\"color\":\"black\"},\"textposition\":\"top center\"},{\"hovertemplate\":\"Label_color=MS<br>Percent=%{x}<br>ABBR=%{y}<br>text=%{text}<extra></extra>\",\"legendgroup\":\"MS\",\"marker\":{\"color\":\"#920fa3\",\"opacity\":1,\"symbol\":\"circle\",\"size\":58},\"mode\":\"markers+text\",\"name\":\"MS\",\"orientation\":\"h\",\"showlegend\":true,\"text\":[\"0 %\",\"1 %\"],\"x\":[0,1],\"xaxis\":\"x\",\"y\":[\"MS\",\"MS\"],\"yaxis\":\"y\",\"type\":\"scatter\",\"textfont\":{\"color\":\"black\"},\"textposition\":\"top center\"},{\"hovertemplate\":\"Label_color=MW<br>Percent=%{x}<br>ABBR=%{y}<br>text=%{text}<extra></extra>\",\"legendgroup\":\"MW\",\"marker\":{\"color\":\"#7701a8\",\"opacity\":1,\"symbol\":\"circle\",\"size\":58},\"mode\":\"markers+text\",\"name\":\"MW\",\"orientation\":\"h\",\"showlegend\":true,\"text\":[\"3 %\",\"1 %\"],\"x\":[3,1],\"xaxis\":\"x\",\"y\":[\"MW\",\"MW\"],\"yaxis\":\"y\",\"type\":\"scatter\",\"textfont\":{\"color\":\"black\"},\"textposition\":\"top center\"},{\"hovertemplate\":\"Label_color=SA<br>Percent=%{x}<br>ABBR=%{y}<br>text=%{text}<extra></extra>\",\"legendgroup\":\"SA\",\"marker\":{\"color\":\"#5801a4\",\"opacity\":1,\"symbol\":\"circle\",\"size\":58},\"mode\":\"markers+text\",\"name\":\"SA\",\"orientation\":\"h\",\"showlegend\":true,\"text\":[\"4 %\",\"1 %\"],\"x\":[4,1],\"xaxis\":\"x\",\"y\":[\"SA\",\"SA\"],\"yaxis\":\"y\",\"type\":\"scatter\",\"textfont\":{\"color\":\"black\"},\"textposition\":\"top center\"},{\"hovertemplate\":\"Label_color=SB<br>Percent=%{x}<br>ABBR=%{y}<br>text=%{text}<extra></extra>\",\"legendgroup\":\"SB\",\"marker\":{\"color\":\"#370499\",\"opacity\":1,\"symbol\":\"circle\",\"size\":58},\"mode\":\"markers+text\",\"name\":\"SB\",\"orientation\":\"h\",\"showlegend\":true,\"text\":[\"46 %\",\"31 %\"],\"x\":[46,31],\"xaxis\":\"x\",\"y\":[\"SB\",\"SB\"],\"yaxis\":\"y\",\"type\":\"scatter\",\"textfont\":{\"color\":\"black\"},\"textposition\":\"top center\"}],                        {\"template\":{\"data\":{\"bar\":[{\"error_x\":{\"color\":\"#2a3f5f\"},\"error_y\":{\"color\":\"#2a3f5f\"},\"marker\":{\"line\":{\"color\":\"#E5ECF6\",\"width\":0.5},\"pattern\":{\"fillmode\":\"overlay\",\"size\":10,\"solidity\":0.2}},\"type\":\"bar\"}],\"barpolar\":[{\"marker\":{\"line\":{\"color\":\"#E5ECF6\",\"width\":0.5},\"pattern\":{\"fillmode\":\"overlay\",\"size\":10,\"solidity\":0.2}},\"type\":\"barpolar\"}],\"carpet\":[{\"aaxis\":{\"endlinecolor\":\"#2a3f5f\",\"gridcolor\":\"white\",\"linecolor\":\"white\",\"minorgridcolor\":\"white\",\"startlinecolor\":\"#2a3f5f\"},\"baxis\":{\"endlinecolor\":\"#2a3f5f\",\"gridcolor\":\"white\",\"linecolor\":\"white\",\"minorgridcolor\":\"white\",\"startlinecolor\":\"#2a3f5f\"},\"type\":\"carpet\"}],\"choropleth\":[{\"colorbar\":{\"outlinewidth\":0,\"ticks\":\"\"},\"type\":\"choropleth\"}],\"contour\":[{\"colorbar\":{\"outlinewidth\":0,\"ticks\":\"\"},\"colorscale\":[[0.0,\"#0d0887\"],[0.1111111111111111,\"#46039f\"],[0.2222222222222222,\"#7201a8\"],[0.3333333333333333,\"#9c179e\"],[0.4444444444444444,\"#bd3786\"],[0.5555555555555556,\"#d8576b\"],[0.6666666666666666,\"#ed7953\"],[0.7777777777777778,\"#fb9f3a\"],[0.8888888888888888,\"#fdca26\"],[1.0,\"#f0f921\"]],\"type\":\"contour\"}],\"contourcarpet\":[{\"colorbar\":{\"outlinewidth\":0,\"ticks\":\"\"},\"type\":\"contourcarpet\"}],\"heatmap\":[{\"colorbar\":{\"outlinewidth\":0,\"ticks\":\"\"},\"colorscale\":[[0.0,\"#0d0887\"],[0.1111111111111111,\"#46039f\"],[0.2222222222222222,\"#7201a8\"],[0.3333333333333333,\"#9c179e\"],[0.4444444444444444,\"#bd3786\"],[0.5555555555555556,\"#d8576b\"],[0.6666666666666666,\"#ed7953\"],[0.7777777777777778,\"#fb9f3a\"],[0.8888888888888888,\"#fdca26\"],[1.0,\"#f0f921\"]],\"type\":\"heatmap\"}],\"heatmapgl\":[{\"colorbar\":{\"outlinewidth\":0,\"ticks\":\"\"},\"colorscale\":[[0.0,\"#0d0887\"],[0.1111111111111111,\"#46039f\"],[0.2222222222222222,\"#7201a8\"],[0.3333333333333333,\"#9c179e\"],[0.4444444444444444,\"#bd3786\"],[0.5555555555555556,\"#d8576b\"],[0.6666666666666666,\"#ed7953\"],[0.7777777777777778,\"#fb9f3a\"],[0.8888888888888888,\"#fdca26\"],[1.0,\"#f0f921\"]],\"type\":\"heatmapgl\"}],\"histogram\":[{\"marker\":{\"pattern\":{\"fillmode\":\"overlay\",\"size\":10,\"solidity\":0.2}},\"type\":\"histogram\"}],\"histogram2d\":[{\"colorbar\":{\"outlinewidth\":0,\"ticks\":\"\"},\"colorscale\":[[0.0,\"#0d0887\"],[0.1111111111111111,\"#46039f\"],[0.2222222222222222,\"#7201a8\"],[0.3333333333333333,\"#9c179e\"],[0.4444444444444444,\"#bd3786\"],[0.5555555555555556,\"#d8576b\"],[0.6666666666666666,\"#ed7953\"],[0.7777777777777778,\"#fb9f3a\"],[0.8888888888888888,\"#fdca26\"],[1.0,\"#f0f921\"]],\"type\":\"histogram2d\"}],\"histogram2dcontour\":[{\"colorbar\":{\"outlinewidth\":0,\"ticks\":\"\"},\"colorscale\":[[0.0,\"#0d0887\"],[0.1111111111111111,\"#46039f\"],[0.2222222222222222,\"#7201a8\"],[0.3333333333333333,\"#9c179e\"],[0.4444444444444444,\"#bd3786\"],[0.5555555555555556,\"#d8576b\"],[0.6666666666666666,\"#ed7953\"],[0.7777777777777778,\"#fb9f3a\"],[0.8888888888888888,\"#fdca26\"],[1.0,\"#f0f921\"]],\"type\":\"histogram2dcontour\"}],\"mesh3d\":[{\"colorbar\":{\"outlinewidth\":0,\"ticks\":\"\"},\"type\":\"mesh3d\"}],\"parcoords\":[{\"line\":{\"colorbar\":{\"outlinewidth\":0,\"ticks\":\"\"}},\"type\":\"parcoords\"}],\"pie\":[{\"automargin\":true,\"type\":\"pie\"}],\"scatter\":[{\"marker\":{\"colorbar\":{\"outlinewidth\":0,\"ticks\":\"\"}},\"type\":\"scatter\"}],\"scatter3d\":[{\"line\":{\"colorbar\":{\"outlinewidth\":0,\"ticks\":\"\"}},\"marker\":{\"colorbar\":{\"outlinewidth\":0,\"ticks\":\"\"}},\"type\":\"scatter3d\"}],\"scattercarpet\":[{\"marker\":{\"colorbar\":{\"outlinewidth\":0,\"ticks\":\"\"}},\"type\":\"scattercarpet\"}],\"scattergeo\":[{\"marker\":{\"colorbar\":{\"outlinewidth\":0,\"ticks\":\"\"}},\"type\":\"scattergeo\"}],\"scattergl\":[{\"marker\":{\"colorbar\":{\"outlinewidth\":0,\"ticks\":\"\"}},\"type\":\"scattergl\"}],\"scattermapbox\":[{\"marker\":{\"colorbar\":{\"outlinewidth\":0,\"ticks\":\"\"}},\"type\":\"scattermapbox\"}],\"scatterpolar\":[{\"marker\":{\"colorbar\":{\"outlinewidth\":0,\"ticks\":\"\"}},\"type\":\"scatterpolar\"}],\"scatterpolargl\":[{\"marker\":{\"colorbar\":{\"outlinewidth\":0,\"ticks\":\"\"}},\"type\":\"scatterpolargl\"}],\"scatterternary\":[{\"marker\":{\"colorbar\":{\"outlinewidth\":0,\"ticks\":\"\"}},\"type\":\"scatterternary\"}],\"surface\":[{\"colorbar\":{\"outlinewidth\":0,\"ticks\":\"\"},\"colorscale\":[[0.0,\"#0d0887\"],[0.1111111111111111,\"#46039f\"],[0.2222222222222222,\"#7201a8\"],[0.3333333333333333,\"#9c179e\"],[0.4444444444444444,\"#bd3786\"],[0.5555555555555556,\"#d8576b\"],[0.6666666666666666,\"#ed7953\"],[0.7777777777777778,\"#fb9f3a\"],[0.8888888888888888,\"#fdca26\"],[1.0,\"#f0f921\"]],\"type\":\"surface\"}],\"table\":[{\"cells\":{\"fill\":{\"color\":\"#EBF0F8\"},\"line\":{\"color\":\"white\"}},\"header\":{\"fill\":{\"color\":\"#C8D4E3\"},\"line\":{\"color\":\"white\"}},\"type\":\"table\"}]},\"layout\":{\"annotationdefaults\":{\"arrowcolor\":\"#2a3f5f\",\"arrowhead\":0,\"arrowwidth\":1},\"autotypenumbers\":\"strict\",\"coloraxis\":{\"colorbar\":{\"outlinewidth\":0,\"ticks\":\"\"}},\"colorscale\":{\"diverging\":[[0,\"#8e0152\"],[0.1,\"#c51b7d\"],[0.2,\"#de77ae\"],[0.3,\"#f1b6da\"],[0.4,\"#fde0ef\"],[0.5,\"#f7f7f7\"],[0.6,\"#e6f5d0\"],[0.7,\"#b8e186\"],[0.8,\"#7fbc41\"],[0.9,\"#4d9221\"],[1,\"#276419\"]],\"sequential\":[[0.0,\"#0d0887\"],[0.1111111111111111,\"#46039f\"],[0.2222222222222222,\"#7201a8\"],[0.3333333333333333,\"#9c179e\"],[0.4444444444444444,\"#bd3786\"],[0.5555555555555556,\"#d8576b\"],[0.6666666666666666,\"#ed7953\"],[0.7777777777777778,\"#fb9f3a\"],[0.8888888888888888,\"#fdca26\"],[1.0,\"#f0f921\"]],\"sequentialminus\":[[0.0,\"#0d0887\"],[0.1111111111111111,\"#46039f\"],[0.2222222222222222,\"#7201a8\"],[0.3333333333333333,\"#9c179e\"],[0.4444444444444444,\"#bd3786\"],[0.5555555555555556,\"#d8576b\"],[0.6666666666666666,\"#ed7953\"],[0.7777777777777778,\"#fb9f3a\"],[0.8888888888888888,\"#fdca26\"],[1.0,\"#f0f921\"]]},\"colorway\":[\"#636efa\",\"#EF553B\",\"#00cc96\",\"#ab63fa\",\"#FFA15A\",\"#19d3f3\",\"#FF6692\",\"#B6E880\",\"#FF97FF\",\"#FECB52\"],\"font\":{\"color\":\"#2a3f5f\"},\"geo\":{\"bgcolor\":\"white\",\"lakecolor\":\"white\",\"landcolor\":\"#E5ECF6\",\"showlakes\":true,\"showland\":true,\"subunitcolor\":\"white\"},\"hoverlabel\":{\"align\":\"left\"},\"hovermode\":\"closest\",\"mapbox\":{\"style\":\"light\"},\"paper_bgcolor\":\"white\",\"plot_bgcolor\":\"#E5ECF6\",\"polar\":{\"angularaxis\":{\"gridcolor\":\"white\",\"linecolor\":\"white\",\"ticks\":\"\"},\"bgcolor\":\"#E5ECF6\",\"radialaxis\":{\"gridcolor\":\"white\",\"linecolor\":\"white\",\"ticks\":\"\"}},\"scene\":{\"xaxis\":{\"backgroundcolor\":\"#E5ECF6\",\"gridcolor\":\"white\",\"gridwidth\":2,\"linecolor\":\"white\",\"showbackground\":true,\"ticks\":\"\",\"zerolinecolor\":\"white\"},\"yaxis\":{\"backgroundcolor\":\"#E5ECF6\",\"gridcolor\":\"white\",\"gridwidth\":2,\"linecolor\":\"white\",\"showbackground\":true,\"ticks\":\"\",\"zerolinecolor\":\"white\"},\"zaxis\":{\"backgroundcolor\":\"#E5ECF6\",\"gridcolor\":\"white\",\"gridwidth\":2,\"linecolor\":\"white\",\"showbackground\":true,\"ticks\":\"\",\"zerolinecolor\":\"white\"}},\"shapedefaults\":{\"line\":{\"color\":\"#2a3f5f\"}},\"ternary\":{\"aaxis\":{\"gridcolor\":\"white\",\"linecolor\":\"white\",\"ticks\":\"\"},\"baxis\":{\"gridcolor\":\"white\",\"linecolor\":\"white\",\"ticks\":\"\"},\"bgcolor\":\"#E5ECF6\",\"caxis\":{\"gridcolor\":\"white\",\"linecolor\":\"white\",\"ticks\":\"\"}},\"title\":{\"x\":0.05},\"xaxis\":{\"automargin\":true,\"gridcolor\":\"white\",\"linecolor\":\"white\",\"ticks\":\"\",\"title\":{\"standoff\":15},\"zerolinecolor\":\"white\",\"zerolinewidth\":2},\"yaxis\":{\"automargin\":true,\"gridcolor\":\"white\",\"linecolor\":\"white\",\"ticks\":\"\",\"title\":{\"standoff\":15},\"zerolinecolor\":\"white\",\"zerolinewidth\":2}}},\"xaxis\":{\"anchor\":\"y\",\"domain\":[0.0,1.0],\"title\":{\"text\":\"Percent\"},\"visible\":false},\"yaxis\":{\"anchor\":\"x\",\"domain\":[0.0,1.0],\"title\":{\"text\":\"\"},\"categoryorder\":\"total descending\",\"visible\":true,\"showgrid\":false},\"legend\":{\"title\":{\"text\":\"Abbr\"},\"tracegroupgap\":0},\"margin\":{\"t\":40,\"l\":20,\"r\":20,\"b\":20},\"width\":950,\"height\":900,\"plot_bgcolor\":\"white\",\"showlegend\":true,\"shapes\":[{\"layer\":\"below\",\"line\":{\"color\":\"#fad824\",\"width\":6},\"type\":\"line\",\"x0\":0,\"x1\":1,\"y0\":\"AD\",\"y1\":\"AD\"},{\"layer\":\"below\",\"line\":{\"color\":\"#feb82c\",\"width\":6},\"type\":\"line\",\"x0\":66,\"x1\":49,\"y0\":\"CM\",\"y1\":\"CM\"},{\"layer\":\"below\",\"line\":{\"color\":\"#fa9b3d\",\"width\":6},\"type\":\"line\",\"x0\":80,\"x1\":93,\"y0\":\"CP\",\"y1\":\"CP\"},{\"layer\":\"below\",\"line\":{\"color\":\"#f1814d\",\"width\":6},\"type\":\"line\",\"x0\":32,\"x1\":43,\"y0\":\"DB\",\"y1\":\"DB\"},{\"layer\":\"below\",\"line\":{\"color\":\"#e4695e\",\"width\":6},\"type\":\"line\",\"x0\":93,\"x1\":86,\"y0\":\"JG\",\"y1\":\"JG\"},{\"layer\":\"below\",\"line\":{\"color\":\"#d45270\",\"width\":6},\"type\":\"line\",\"x0\":12,\"x1\":5,\"y0\":\"LW\",\"y1\":\"LW\"},{\"layer\":\"below\",\"line\":{\"color\":\"#c23c81\",\"width\":6},\"type\":\"line\",\"x0\":22,\"x1\":31,\"y0\":\"MC\",\"y1\":\"MC\"},{\"layer\":\"below\",\"line\":{\"color\":\"#ac2694\",\"width\":6},\"type\":\"line\",\"x0\":42,\"x1\":61,\"y0\":\"MF\",\"y1\":\"MF\"},{\"layer\":\"below\",\"line\":{\"color\":\"#920fa3\",\"width\":6},\"type\":\"line\",\"x0\":0,\"x1\":1,\"y0\":\"MS\",\"y1\":\"MS\"},{\"layer\":\"below\",\"line\":{\"color\":\"#7701a8\",\"width\":6},\"type\":\"line\",\"x0\":3,\"x1\":1,\"y0\":\"MW\",\"y1\":\"MW\"},{\"layer\":\"below\",\"line\":{\"color\":\"#5801a4\",\"width\":6},\"type\":\"line\",\"x0\":4,\"x1\":1,\"y0\":\"SA\",\"y1\":\"SA\"},{\"layer\":\"below\",\"line\":{\"color\":\"#370499\",\"width\":6},\"type\":\"line\",\"x0\":46,\"x1\":31,\"y0\":\"SB\",\"y1\":\"SB\"}]},                        {\"responsive\": true}                    ).then(function(){\n",
       "                            \n",
       "var gd = document.getElementById('72a7b774-70ed-4de3-bee9-4c5eaade045d');\n",
       "var x = new MutationObserver(function (mutations, observer) {{\n",
       "        var display = window.getComputedStyle(gd).display;\n",
       "        if (!display || display === 'none') {{\n",
       "            console.log([gd, 'removed!']);\n",
       "            Plotly.purge(gd);\n",
       "            observer.disconnect();\n",
       "        }}\n",
       "}});\n",
       "\n",
       "// Listen for the removal of the full notebook cells\n",
       "var notebookContainer = gd.closest('#notebook-container');\n",
       "if (notebookContainer) {{\n",
       "    x.observe(notebookContainer, {childList: true});\n",
       "}}\n",
       "\n",
       "// Listen for the clearing of the current output cell\n",
       "var outputEl = gd.closest('.output');\n",
       "if (outputEl) {{\n",
       "    x.observe(outputEl, {childList: true});\n",
       "}}\n",
       "\n",
       "                        })                };                });            </script>        </div>"
      ]
     },
     "metadata": {},
     "output_type": "display_data"
    }
   ],
   "source": [
    "#create a dictionary to color each country\n",
    "color_abbr = dict(zip(list_abbr,pal_))\n",
    "\n",
    "import plotly.express as px\n",
    "fig = px.scatter(result, x='Percent', y='ABBR', color='Label_color',\n",
    "                 text = [str(i)+' %' for i in result.Percent],\n",
    "                 opacity=1,\n",
    "                 color_discrete_map=color_abbr)\n",
    "\n",
    "fig.update_layout(width = 950, height = 900, plot_bgcolor = 'white',\n",
    "                  margin = dict(t=40, l=20, r=20, b=20),\n",
    "                  yaxis={'categoryorder':'total descending'},\n",
    "                  legend=dict(title='Abbr'),\n",
    "                  showlegend=True)\n",
    "\n",
    "for c in list_abbr:\n",
    "    df = result[result['ABBR']==c]\n",
    "    fig.add_shape(type=\"line\", layer=\"below\",\n",
    "                  line=dict(color=color_abbr.get(c), width=6),\n",
    "                  y0=c, x0=list(df.Percent)[0],\n",
    "                  y1=c, x1=list(df.Percent)[1])\n",
    "\n",
    "fig.update_traces(textposition='top center', marker={'size':58},\n",
    "                  textfont=dict(color='black'))\n",
    "fig.update_yaxes(title='', visible=True, showgrid =False)\n",
    "fig.update_xaxes(visible=False) \n",
    "fig.show()"
   ]
  },
  {
   "cell_type": "code",
   "execution_count": 46,
   "id": "b95422cf",
   "metadata": {},
   "outputs": [],
   "source": [
    "result['week'] = [i for i in result['WEEK']]"
   ]
  },
  {
   "cell_type": "code",
   "execution_count": 47,
   "id": "4fe47537",
   "metadata": {},
   "outputs": [],
   "source": [
    "list_week = [10, 9]"
   ]
  },
  {
   "cell_type": "code",
   "execution_count": 48,
   "id": "5bc5fa0c",
   "metadata": {},
   "outputs": [],
   "source": [
    "#get a color list, palette name can be changed\n",
    "pal_ = list(sns.color_palette(palette='plasma_r',\n",
    "                              n_colors=len(list_week)).as_hex())"
   ]
  },
  {
   "cell_type": "code",
   "execution_count": 49,
   "id": "079bae4c",
   "metadata": {},
   "outputs": [
    {
     "data": {
      "application/vnd.plotly.v1+json": {
       "config": {
        "plotlyServerURL": "https://plot.ly"
       },
       "data": [
        {
         "hovertemplate": "Percent=%{x}<br>ABBR=%{y}<br>text=%{text}<br>week=%{marker.color}<extra></extra>",
         "legendgroup": "",
         "marker": {
          "color": [
           9,
           9,
           9,
           9,
           9,
           9,
           9,
           9,
           9,
           9,
           9,
           9,
           10,
           10,
           10,
           10,
           10,
           10,
           10,
           10,
           10,
           10,
           10,
           10
          ],
          "coloraxis": "coloraxis",
          "opacity": 1,
          "size": 58,
          "symbol": "circle"
         },
         "mode": "markers+text",
         "name": "",
         "orientation": "h",
         "showlegend": false,
         "text": [
          "0 %",
          "66 %",
          "80 %",
          "32 %",
          "93 %",
          "12 %",
          "22 %",
          "42 %",
          "0 %",
          "3 %",
          "4 %",
          "46 %",
          "1 %",
          "49 %",
          "93 %",
          "43 %",
          "86 %",
          "5 %",
          "31 %",
          "61 %",
          "1 %",
          "1 %",
          "1 %",
          "31 %"
         ],
         "textfont": {
          "color": "black"
         },
         "textposition": "top center",
         "type": "scatter",
         "x": [
          0,
          66,
          80,
          32,
          93,
          12,
          22,
          42,
          0,
          3,
          4,
          46,
          1,
          49,
          93,
          43,
          86,
          5,
          31,
          61,
          1,
          1,
          1,
          31
         ],
         "xaxis": "x",
         "y": [
          "AD",
          "CM",
          "CP",
          "DB",
          "JG",
          "LW",
          "MC",
          "MF",
          "MS",
          "MW",
          "SA",
          "SB",
          "AD",
          "CM",
          "CP",
          "DB",
          "JG",
          "LW",
          "MC",
          "MF",
          "MS",
          "MW",
          "SA",
          "SB"
         ],
         "yaxis": "y"
        }
       ],
       "layout": {
        "coloraxis": {
         "colorbar": {
          "title": {
           "text": "week"
          }
         },
         "colorscale": [
          [
           0,
           "#0d0887"
          ],
          [
           0.1111111111111111,
           "#46039f"
          ],
          [
           0.2222222222222222,
           "#7201a8"
          ],
          [
           0.3333333333333333,
           "#9c179e"
          ],
          [
           0.4444444444444444,
           "#bd3786"
          ],
          [
           0.5555555555555556,
           "#d8576b"
          ],
          [
           0.6666666666666666,
           "#ed7953"
          ],
          [
           0.7777777777777778,
           "#fb9f3a"
          ],
          [
           0.8888888888888888,
           "#fdca26"
          ],
          [
           1,
           "#f0f921"
          ]
         ]
        },
        "height": 900,
        "legend": {
         "title": {
          "text": "WEEK"
         },
         "tracegroupgap": 0
        },
        "margin": {
         "b": 20,
         "l": 20,
         "r": 20,
         "t": 40
        },
        "plot_bgcolor": "white",
        "shapes": [
         {
          "layer": "below",
          "line": {
           "width": 6
          },
          "type": "line",
          "x0": 0,
          "x1": 1,
          "y0": "AD",
          "y1": "AD"
         },
         {
          "layer": "below",
          "line": {
           "width": 6
          },
          "type": "line",
          "x0": 66,
          "x1": 49,
          "y0": "CM",
          "y1": "CM"
         },
         {
          "layer": "below",
          "line": {
           "width": 6
          },
          "type": "line",
          "x0": 80,
          "x1": 93,
          "y0": "CP",
          "y1": "CP"
         },
         {
          "layer": "below",
          "line": {
           "width": 6
          },
          "type": "line",
          "x0": 32,
          "x1": 43,
          "y0": "DB",
          "y1": "DB"
         },
         {
          "layer": "below",
          "line": {
           "width": 6
          },
          "type": "line",
          "x0": 93,
          "x1": 86,
          "y0": "JG",
          "y1": "JG"
         },
         {
          "layer": "below",
          "line": {
           "width": 6
          },
          "type": "line",
          "x0": 12,
          "x1": 5,
          "y0": "LW",
          "y1": "LW"
         },
         {
          "layer": "below",
          "line": {
           "width": 6
          },
          "type": "line",
          "x0": 22,
          "x1": 31,
          "y0": "MC",
          "y1": "MC"
         },
         {
          "layer": "below",
          "line": {
           "width": 6
          },
          "type": "line",
          "x0": 42,
          "x1": 61,
          "y0": "MF",
          "y1": "MF"
         },
         {
          "layer": "below",
          "line": {
           "width": 6
          },
          "type": "line",
          "x0": 0,
          "x1": 1,
          "y0": "MS",
          "y1": "MS"
         },
         {
          "layer": "below",
          "line": {
           "width": 6
          },
          "type": "line",
          "x0": 3,
          "x1": 1,
          "y0": "MW",
          "y1": "MW"
         },
         {
          "layer": "below",
          "line": {
           "width": 6
          },
          "type": "line",
          "x0": 4,
          "x1": 1,
          "y0": "SA",
          "y1": "SA"
         },
         {
          "layer": "below",
          "line": {
           "width": 6
          },
          "type": "line",
          "x0": 46,
          "x1": 31,
          "y0": "SB",
          "y1": "SB"
         }
        ],
        "showlegend": true,
        "template": {
         "data": {
          "bar": [
           {
            "error_x": {
             "color": "#2a3f5f"
            },
            "error_y": {
             "color": "#2a3f5f"
            },
            "marker": {
             "line": {
              "color": "#E5ECF6",
              "width": 0.5
             },
             "pattern": {
              "fillmode": "overlay",
              "size": 10,
              "solidity": 0.2
             }
            },
            "type": "bar"
           }
          ],
          "barpolar": [
           {
            "marker": {
             "line": {
              "color": "#E5ECF6",
              "width": 0.5
             },
             "pattern": {
              "fillmode": "overlay",
              "size": 10,
              "solidity": 0.2
             }
            },
            "type": "barpolar"
           }
          ],
          "carpet": [
           {
            "aaxis": {
             "endlinecolor": "#2a3f5f",
             "gridcolor": "white",
             "linecolor": "white",
             "minorgridcolor": "white",
             "startlinecolor": "#2a3f5f"
            },
            "baxis": {
             "endlinecolor": "#2a3f5f",
             "gridcolor": "white",
             "linecolor": "white",
             "minorgridcolor": "white",
             "startlinecolor": "#2a3f5f"
            },
            "type": "carpet"
           }
          ],
          "choropleth": [
           {
            "colorbar": {
             "outlinewidth": 0,
             "ticks": ""
            },
            "type": "choropleth"
           }
          ],
          "contour": [
           {
            "colorbar": {
             "outlinewidth": 0,
             "ticks": ""
            },
            "colorscale": [
             [
              0,
              "#0d0887"
             ],
             [
              0.1111111111111111,
              "#46039f"
             ],
             [
              0.2222222222222222,
              "#7201a8"
             ],
             [
              0.3333333333333333,
              "#9c179e"
             ],
             [
              0.4444444444444444,
              "#bd3786"
             ],
             [
              0.5555555555555556,
              "#d8576b"
             ],
             [
              0.6666666666666666,
              "#ed7953"
             ],
             [
              0.7777777777777778,
              "#fb9f3a"
             ],
             [
              0.8888888888888888,
              "#fdca26"
             ],
             [
              1,
              "#f0f921"
             ]
            ],
            "type": "contour"
           }
          ],
          "contourcarpet": [
           {
            "colorbar": {
             "outlinewidth": 0,
             "ticks": ""
            },
            "type": "contourcarpet"
           }
          ],
          "heatmap": [
           {
            "colorbar": {
             "outlinewidth": 0,
             "ticks": ""
            },
            "colorscale": [
             [
              0,
              "#0d0887"
             ],
             [
              0.1111111111111111,
              "#46039f"
             ],
             [
              0.2222222222222222,
              "#7201a8"
             ],
             [
              0.3333333333333333,
              "#9c179e"
             ],
             [
              0.4444444444444444,
              "#bd3786"
             ],
             [
              0.5555555555555556,
              "#d8576b"
             ],
             [
              0.6666666666666666,
              "#ed7953"
             ],
             [
              0.7777777777777778,
              "#fb9f3a"
             ],
             [
              0.8888888888888888,
              "#fdca26"
             ],
             [
              1,
              "#f0f921"
             ]
            ],
            "type": "heatmap"
           }
          ],
          "heatmapgl": [
           {
            "colorbar": {
             "outlinewidth": 0,
             "ticks": ""
            },
            "colorscale": [
             [
              0,
              "#0d0887"
             ],
             [
              0.1111111111111111,
              "#46039f"
             ],
             [
              0.2222222222222222,
              "#7201a8"
             ],
             [
              0.3333333333333333,
              "#9c179e"
             ],
             [
              0.4444444444444444,
              "#bd3786"
             ],
             [
              0.5555555555555556,
              "#d8576b"
             ],
             [
              0.6666666666666666,
              "#ed7953"
             ],
             [
              0.7777777777777778,
              "#fb9f3a"
             ],
             [
              0.8888888888888888,
              "#fdca26"
             ],
             [
              1,
              "#f0f921"
             ]
            ],
            "type": "heatmapgl"
           }
          ],
          "histogram": [
           {
            "marker": {
             "pattern": {
              "fillmode": "overlay",
              "size": 10,
              "solidity": 0.2
             }
            },
            "type": "histogram"
           }
          ],
          "histogram2d": [
           {
            "colorbar": {
             "outlinewidth": 0,
             "ticks": ""
            },
            "colorscale": [
             [
              0,
              "#0d0887"
             ],
             [
              0.1111111111111111,
              "#46039f"
             ],
             [
              0.2222222222222222,
              "#7201a8"
             ],
             [
              0.3333333333333333,
              "#9c179e"
             ],
             [
              0.4444444444444444,
              "#bd3786"
             ],
             [
              0.5555555555555556,
              "#d8576b"
             ],
             [
              0.6666666666666666,
              "#ed7953"
             ],
             [
              0.7777777777777778,
              "#fb9f3a"
             ],
             [
              0.8888888888888888,
              "#fdca26"
             ],
             [
              1,
              "#f0f921"
             ]
            ],
            "type": "histogram2d"
           }
          ],
          "histogram2dcontour": [
           {
            "colorbar": {
             "outlinewidth": 0,
             "ticks": ""
            },
            "colorscale": [
             [
              0,
              "#0d0887"
             ],
             [
              0.1111111111111111,
              "#46039f"
             ],
             [
              0.2222222222222222,
              "#7201a8"
             ],
             [
              0.3333333333333333,
              "#9c179e"
             ],
             [
              0.4444444444444444,
              "#bd3786"
             ],
             [
              0.5555555555555556,
              "#d8576b"
             ],
             [
              0.6666666666666666,
              "#ed7953"
             ],
             [
              0.7777777777777778,
              "#fb9f3a"
             ],
             [
              0.8888888888888888,
              "#fdca26"
             ],
             [
              1,
              "#f0f921"
             ]
            ],
            "type": "histogram2dcontour"
           }
          ],
          "mesh3d": [
           {
            "colorbar": {
             "outlinewidth": 0,
             "ticks": ""
            },
            "type": "mesh3d"
           }
          ],
          "parcoords": [
           {
            "line": {
             "colorbar": {
              "outlinewidth": 0,
              "ticks": ""
             }
            },
            "type": "parcoords"
           }
          ],
          "pie": [
           {
            "automargin": true,
            "type": "pie"
           }
          ],
          "scatter": [
           {
            "marker": {
             "colorbar": {
              "outlinewidth": 0,
              "ticks": ""
             }
            },
            "type": "scatter"
           }
          ],
          "scatter3d": [
           {
            "line": {
             "colorbar": {
              "outlinewidth": 0,
              "ticks": ""
             }
            },
            "marker": {
             "colorbar": {
              "outlinewidth": 0,
              "ticks": ""
             }
            },
            "type": "scatter3d"
           }
          ],
          "scattercarpet": [
           {
            "marker": {
             "colorbar": {
              "outlinewidth": 0,
              "ticks": ""
             }
            },
            "type": "scattercarpet"
           }
          ],
          "scattergeo": [
           {
            "marker": {
             "colorbar": {
              "outlinewidth": 0,
              "ticks": ""
             }
            },
            "type": "scattergeo"
           }
          ],
          "scattergl": [
           {
            "marker": {
             "colorbar": {
              "outlinewidth": 0,
              "ticks": ""
             }
            },
            "type": "scattergl"
           }
          ],
          "scattermapbox": [
           {
            "marker": {
             "colorbar": {
              "outlinewidth": 0,
              "ticks": ""
             }
            },
            "type": "scattermapbox"
           }
          ],
          "scatterpolar": [
           {
            "marker": {
             "colorbar": {
              "outlinewidth": 0,
              "ticks": ""
             }
            },
            "type": "scatterpolar"
           }
          ],
          "scatterpolargl": [
           {
            "marker": {
             "colorbar": {
              "outlinewidth": 0,
              "ticks": ""
             }
            },
            "type": "scatterpolargl"
           }
          ],
          "scatterternary": [
           {
            "marker": {
             "colorbar": {
              "outlinewidth": 0,
              "ticks": ""
             }
            },
            "type": "scatterternary"
           }
          ],
          "surface": [
           {
            "colorbar": {
             "outlinewidth": 0,
             "ticks": ""
            },
            "colorscale": [
             [
              0,
              "#0d0887"
             ],
             [
              0.1111111111111111,
              "#46039f"
             ],
             [
              0.2222222222222222,
              "#7201a8"
             ],
             [
              0.3333333333333333,
              "#9c179e"
             ],
             [
              0.4444444444444444,
              "#bd3786"
             ],
             [
              0.5555555555555556,
              "#d8576b"
             ],
             [
              0.6666666666666666,
              "#ed7953"
             ],
             [
              0.7777777777777778,
              "#fb9f3a"
             ],
             [
              0.8888888888888888,
              "#fdca26"
             ],
             [
              1,
              "#f0f921"
             ]
            ],
            "type": "surface"
           }
          ],
          "table": [
           {
            "cells": {
             "fill": {
              "color": "#EBF0F8"
             },
             "line": {
              "color": "white"
             }
            },
            "header": {
             "fill": {
              "color": "#C8D4E3"
             },
             "line": {
              "color": "white"
             }
            },
            "type": "table"
           }
          ]
         },
         "layout": {
          "annotationdefaults": {
           "arrowcolor": "#2a3f5f",
           "arrowhead": 0,
           "arrowwidth": 1
          },
          "autotypenumbers": "strict",
          "coloraxis": {
           "colorbar": {
            "outlinewidth": 0,
            "ticks": ""
           }
          },
          "colorscale": {
           "diverging": [
            [
             0,
             "#8e0152"
            ],
            [
             0.1,
             "#c51b7d"
            ],
            [
             0.2,
             "#de77ae"
            ],
            [
             0.3,
             "#f1b6da"
            ],
            [
             0.4,
             "#fde0ef"
            ],
            [
             0.5,
             "#f7f7f7"
            ],
            [
             0.6,
             "#e6f5d0"
            ],
            [
             0.7,
             "#b8e186"
            ],
            [
             0.8,
             "#7fbc41"
            ],
            [
             0.9,
             "#4d9221"
            ],
            [
             1,
             "#276419"
            ]
           ],
           "sequential": [
            [
             0,
             "#0d0887"
            ],
            [
             0.1111111111111111,
             "#46039f"
            ],
            [
             0.2222222222222222,
             "#7201a8"
            ],
            [
             0.3333333333333333,
             "#9c179e"
            ],
            [
             0.4444444444444444,
             "#bd3786"
            ],
            [
             0.5555555555555556,
             "#d8576b"
            ],
            [
             0.6666666666666666,
             "#ed7953"
            ],
            [
             0.7777777777777778,
             "#fb9f3a"
            ],
            [
             0.8888888888888888,
             "#fdca26"
            ],
            [
             1,
             "#f0f921"
            ]
           ],
           "sequentialminus": [
            [
             0,
             "#0d0887"
            ],
            [
             0.1111111111111111,
             "#46039f"
            ],
            [
             0.2222222222222222,
             "#7201a8"
            ],
            [
             0.3333333333333333,
             "#9c179e"
            ],
            [
             0.4444444444444444,
             "#bd3786"
            ],
            [
             0.5555555555555556,
             "#d8576b"
            ],
            [
             0.6666666666666666,
             "#ed7953"
            ],
            [
             0.7777777777777778,
             "#fb9f3a"
            ],
            [
             0.8888888888888888,
             "#fdca26"
            ],
            [
             1,
             "#f0f921"
            ]
           ]
          },
          "colorway": [
           "#636efa",
           "#EF553B",
           "#00cc96",
           "#ab63fa",
           "#FFA15A",
           "#19d3f3",
           "#FF6692",
           "#B6E880",
           "#FF97FF",
           "#FECB52"
          ],
          "font": {
           "color": "#2a3f5f"
          },
          "geo": {
           "bgcolor": "white",
           "lakecolor": "white",
           "landcolor": "#E5ECF6",
           "showlakes": true,
           "showland": true,
           "subunitcolor": "white"
          },
          "hoverlabel": {
           "align": "left"
          },
          "hovermode": "closest",
          "mapbox": {
           "style": "light"
          },
          "paper_bgcolor": "white",
          "plot_bgcolor": "#E5ECF6",
          "polar": {
           "angularaxis": {
            "gridcolor": "white",
            "linecolor": "white",
            "ticks": ""
           },
           "bgcolor": "#E5ECF6",
           "radialaxis": {
            "gridcolor": "white",
            "linecolor": "white",
            "ticks": ""
           }
          },
          "scene": {
           "xaxis": {
            "backgroundcolor": "#E5ECF6",
            "gridcolor": "white",
            "gridwidth": 2,
            "linecolor": "white",
            "showbackground": true,
            "ticks": "",
            "zerolinecolor": "white"
           },
           "yaxis": {
            "backgroundcolor": "#E5ECF6",
            "gridcolor": "white",
            "gridwidth": 2,
            "linecolor": "white",
            "showbackground": true,
            "ticks": "",
            "zerolinecolor": "white"
           },
           "zaxis": {
            "backgroundcolor": "#E5ECF6",
            "gridcolor": "white",
            "gridwidth": 2,
            "linecolor": "white",
            "showbackground": true,
            "ticks": "",
            "zerolinecolor": "white"
           }
          },
          "shapedefaults": {
           "line": {
            "color": "#2a3f5f"
           }
          },
          "ternary": {
           "aaxis": {
            "gridcolor": "white",
            "linecolor": "white",
            "ticks": ""
           },
           "baxis": {
            "gridcolor": "white",
            "linecolor": "white",
            "ticks": ""
           },
           "bgcolor": "#E5ECF6",
           "caxis": {
            "gridcolor": "white",
            "linecolor": "white",
            "ticks": ""
           }
          },
          "title": {
           "x": 0.05
          },
          "xaxis": {
           "automargin": true,
           "gridcolor": "white",
           "linecolor": "white",
           "ticks": "",
           "title": {
            "standoff": 15
           },
           "zerolinecolor": "white",
           "zerolinewidth": 2
          },
          "yaxis": {
           "automargin": true,
           "gridcolor": "white",
           "linecolor": "white",
           "ticks": "",
           "title": {
            "standoff": 15
           },
           "zerolinecolor": "white",
           "zerolinewidth": 2
          }
         }
        },
        "width": 950,
        "xaxis": {
         "anchor": "y",
         "domain": [
          0,
          1
         ],
         "title": {
          "text": "Playoff Percentage"
         },
         "visible": true
        },
        "yaxis": {
         "anchor": "x",
         "categoryorder": "total descending",
         "domain": [
          0,
          1
         ],
         "showgrid": false,
         "title": {
          "text": "ABBR"
         },
         "visible": true
        }
       }
      },
      "text/html": [
       "<div>                            <div id=\"623185f0-5f18-4d9c-a7ed-5c9da47bfe01\" class=\"plotly-graph-div\" style=\"height:900px; width:950px;\"></div>            <script type=\"text/javascript\">                require([\"plotly\"], function(Plotly) {                    window.PLOTLYENV=window.PLOTLYENV || {};                                    if (document.getElementById(\"623185f0-5f18-4d9c-a7ed-5c9da47bfe01\")) {                    Plotly.newPlot(                        \"623185f0-5f18-4d9c-a7ed-5c9da47bfe01\",                        [{\"hovertemplate\":\"Percent=%{x}<br>ABBR=%{y}<br>text=%{text}<br>week=%{marker.color}<extra></extra>\",\"legendgroup\":\"\",\"marker\":{\"color\":[9,9,9,9,9,9,9,9,9,9,9,9,10,10,10,10,10,10,10,10,10,10,10,10],\"coloraxis\":\"coloraxis\",\"opacity\":1,\"symbol\":\"circle\",\"size\":58},\"mode\":\"markers+text\",\"name\":\"\",\"orientation\":\"h\",\"showlegend\":false,\"text\":[\"0 %\",\"66 %\",\"80 %\",\"32 %\",\"93 %\",\"12 %\",\"22 %\",\"42 %\",\"0 %\",\"3 %\",\"4 %\",\"46 %\",\"1 %\",\"49 %\",\"93 %\",\"43 %\",\"86 %\",\"5 %\",\"31 %\",\"61 %\",\"1 %\",\"1 %\",\"1 %\",\"31 %\"],\"x\":[0,66,80,32,93,12,22,42,0,3,4,46,1,49,93,43,86,5,31,61,1,1,1,31],\"xaxis\":\"x\",\"y\":[\"AD\",\"CM\",\"CP\",\"DB\",\"JG\",\"LW\",\"MC\",\"MF\",\"MS\",\"MW\",\"SA\",\"SB\",\"AD\",\"CM\",\"CP\",\"DB\",\"JG\",\"LW\",\"MC\",\"MF\",\"MS\",\"MW\",\"SA\",\"SB\"],\"yaxis\":\"y\",\"type\":\"scatter\",\"textfont\":{\"color\":\"black\"},\"textposition\":\"top center\"}],                        {\"template\":{\"data\":{\"bar\":[{\"error_x\":{\"color\":\"#2a3f5f\"},\"error_y\":{\"color\":\"#2a3f5f\"},\"marker\":{\"line\":{\"color\":\"#E5ECF6\",\"width\":0.5},\"pattern\":{\"fillmode\":\"overlay\",\"size\":10,\"solidity\":0.2}},\"type\":\"bar\"}],\"barpolar\":[{\"marker\":{\"line\":{\"color\":\"#E5ECF6\",\"width\":0.5},\"pattern\":{\"fillmode\":\"overlay\",\"size\":10,\"solidity\":0.2}},\"type\":\"barpolar\"}],\"carpet\":[{\"aaxis\":{\"endlinecolor\":\"#2a3f5f\",\"gridcolor\":\"white\",\"linecolor\":\"white\",\"minorgridcolor\":\"white\",\"startlinecolor\":\"#2a3f5f\"},\"baxis\":{\"endlinecolor\":\"#2a3f5f\",\"gridcolor\":\"white\",\"linecolor\":\"white\",\"minorgridcolor\":\"white\",\"startlinecolor\":\"#2a3f5f\"},\"type\":\"carpet\"}],\"choropleth\":[{\"colorbar\":{\"outlinewidth\":0,\"ticks\":\"\"},\"type\":\"choropleth\"}],\"contour\":[{\"colorbar\":{\"outlinewidth\":0,\"ticks\":\"\"},\"colorscale\":[[0.0,\"#0d0887\"],[0.1111111111111111,\"#46039f\"],[0.2222222222222222,\"#7201a8\"],[0.3333333333333333,\"#9c179e\"],[0.4444444444444444,\"#bd3786\"],[0.5555555555555556,\"#d8576b\"],[0.6666666666666666,\"#ed7953\"],[0.7777777777777778,\"#fb9f3a\"],[0.8888888888888888,\"#fdca26\"],[1.0,\"#f0f921\"]],\"type\":\"contour\"}],\"contourcarpet\":[{\"colorbar\":{\"outlinewidth\":0,\"ticks\":\"\"},\"type\":\"contourcarpet\"}],\"heatmap\":[{\"colorbar\":{\"outlinewidth\":0,\"ticks\":\"\"},\"colorscale\":[[0.0,\"#0d0887\"],[0.1111111111111111,\"#46039f\"],[0.2222222222222222,\"#7201a8\"],[0.3333333333333333,\"#9c179e\"],[0.4444444444444444,\"#bd3786\"],[0.5555555555555556,\"#d8576b\"],[0.6666666666666666,\"#ed7953\"],[0.7777777777777778,\"#fb9f3a\"],[0.8888888888888888,\"#fdca26\"],[1.0,\"#f0f921\"]],\"type\":\"heatmap\"}],\"heatmapgl\":[{\"colorbar\":{\"outlinewidth\":0,\"ticks\":\"\"},\"colorscale\":[[0.0,\"#0d0887\"],[0.1111111111111111,\"#46039f\"],[0.2222222222222222,\"#7201a8\"],[0.3333333333333333,\"#9c179e\"],[0.4444444444444444,\"#bd3786\"],[0.5555555555555556,\"#d8576b\"],[0.6666666666666666,\"#ed7953\"],[0.7777777777777778,\"#fb9f3a\"],[0.8888888888888888,\"#fdca26\"],[1.0,\"#f0f921\"]],\"type\":\"heatmapgl\"}],\"histogram\":[{\"marker\":{\"pattern\":{\"fillmode\":\"overlay\",\"size\":10,\"solidity\":0.2}},\"type\":\"histogram\"}],\"histogram2d\":[{\"colorbar\":{\"outlinewidth\":0,\"ticks\":\"\"},\"colorscale\":[[0.0,\"#0d0887\"],[0.1111111111111111,\"#46039f\"],[0.2222222222222222,\"#7201a8\"],[0.3333333333333333,\"#9c179e\"],[0.4444444444444444,\"#bd3786\"],[0.5555555555555556,\"#d8576b\"],[0.6666666666666666,\"#ed7953\"],[0.7777777777777778,\"#fb9f3a\"],[0.8888888888888888,\"#fdca26\"],[1.0,\"#f0f921\"]],\"type\":\"histogram2d\"}],\"histogram2dcontour\":[{\"colorbar\":{\"outlinewidth\":0,\"ticks\":\"\"},\"colorscale\":[[0.0,\"#0d0887\"],[0.1111111111111111,\"#46039f\"],[0.2222222222222222,\"#7201a8\"],[0.3333333333333333,\"#9c179e\"],[0.4444444444444444,\"#bd3786\"],[0.5555555555555556,\"#d8576b\"],[0.6666666666666666,\"#ed7953\"],[0.7777777777777778,\"#fb9f3a\"],[0.8888888888888888,\"#fdca26\"],[1.0,\"#f0f921\"]],\"type\":\"histogram2dcontour\"}],\"mesh3d\":[{\"colorbar\":{\"outlinewidth\":0,\"ticks\":\"\"},\"type\":\"mesh3d\"}],\"parcoords\":[{\"line\":{\"colorbar\":{\"outlinewidth\":0,\"ticks\":\"\"}},\"type\":\"parcoords\"}],\"pie\":[{\"automargin\":true,\"type\":\"pie\"}],\"scatter\":[{\"marker\":{\"colorbar\":{\"outlinewidth\":0,\"ticks\":\"\"}},\"type\":\"scatter\"}],\"scatter3d\":[{\"line\":{\"colorbar\":{\"outlinewidth\":0,\"ticks\":\"\"}},\"marker\":{\"colorbar\":{\"outlinewidth\":0,\"ticks\":\"\"}},\"type\":\"scatter3d\"}],\"scattercarpet\":[{\"marker\":{\"colorbar\":{\"outlinewidth\":0,\"ticks\":\"\"}},\"type\":\"scattercarpet\"}],\"scattergeo\":[{\"marker\":{\"colorbar\":{\"outlinewidth\":0,\"ticks\":\"\"}},\"type\":\"scattergeo\"}],\"scattergl\":[{\"marker\":{\"colorbar\":{\"outlinewidth\":0,\"ticks\":\"\"}},\"type\":\"scattergl\"}],\"scattermapbox\":[{\"marker\":{\"colorbar\":{\"outlinewidth\":0,\"ticks\":\"\"}},\"type\":\"scattermapbox\"}],\"scatterpolar\":[{\"marker\":{\"colorbar\":{\"outlinewidth\":0,\"ticks\":\"\"}},\"type\":\"scatterpolar\"}],\"scatterpolargl\":[{\"marker\":{\"colorbar\":{\"outlinewidth\":0,\"ticks\":\"\"}},\"type\":\"scatterpolargl\"}],\"scatterternary\":[{\"marker\":{\"colorbar\":{\"outlinewidth\":0,\"ticks\":\"\"}},\"type\":\"scatterternary\"}],\"surface\":[{\"colorbar\":{\"outlinewidth\":0,\"ticks\":\"\"},\"colorscale\":[[0.0,\"#0d0887\"],[0.1111111111111111,\"#46039f\"],[0.2222222222222222,\"#7201a8\"],[0.3333333333333333,\"#9c179e\"],[0.4444444444444444,\"#bd3786\"],[0.5555555555555556,\"#d8576b\"],[0.6666666666666666,\"#ed7953\"],[0.7777777777777778,\"#fb9f3a\"],[0.8888888888888888,\"#fdca26\"],[1.0,\"#f0f921\"]],\"type\":\"surface\"}],\"table\":[{\"cells\":{\"fill\":{\"color\":\"#EBF0F8\"},\"line\":{\"color\":\"white\"}},\"header\":{\"fill\":{\"color\":\"#C8D4E3\"},\"line\":{\"color\":\"white\"}},\"type\":\"table\"}]},\"layout\":{\"annotationdefaults\":{\"arrowcolor\":\"#2a3f5f\",\"arrowhead\":0,\"arrowwidth\":1},\"autotypenumbers\":\"strict\",\"coloraxis\":{\"colorbar\":{\"outlinewidth\":0,\"ticks\":\"\"}},\"colorscale\":{\"diverging\":[[0,\"#8e0152\"],[0.1,\"#c51b7d\"],[0.2,\"#de77ae\"],[0.3,\"#f1b6da\"],[0.4,\"#fde0ef\"],[0.5,\"#f7f7f7\"],[0.6,\"#e6f5d0\"],[0.7,\"#b8e186\"],[0.8,\"#7fbc41\"],[0.9,\"#4d9221\"],[1,\"#276419\"]],\"sequential\":[[0.0,\"#0d0887\"],[0.1111111111111111,\"#46039f\"],[0.2222222222222222,\"#7201a8\"],[0.3333333333333333,\"#9c179e\"],[0.4444444444444444,\"#bd3786\"],[0.5555555555555556,\"#d8576b\"],[0.6666666666666666,\"#ed7953\"],[0.7777777777777778,\"#fb9f3a\"],[0.8888888888888888,\"#fdca26\"],[1.0,\"#f0f921\"]],\"sequentialminus\":[[0.0,\"#0d0887\"],[0.1111111111111111,\"#46039f\"],[0.2222222222222222,\"#7201a8\"],[0.3333333333333333,\"#9c179e\"],[0.4444444444444444,\"#bd3786\"],[0.5555555555555556,\"#d8576b\"],[0.6666666666666666,\"#ed7953\"],[0.7777777777777778,\"#fb9f3a\"],[0.8888888888888888,\"#fdca26\"],[1.0,\"#f0f921\"]]},\"colorway\":[\"#636efa\",\"#EF553B\",\"#00cc96\",\"#ab63fa\",\"#FFA15A\",\"#19d3f3\",\"#FF6692\",\"#B6E880\",\"#FF97FF\",\"#FECB52\"],\"font\":{\"color\":\"#2a3f5f\"},\"geo\":{\"bgcolor\":\"white\",\"lakecolor\":\"white\",\"landcolor\":\"#E5ECF6\",\"showlakes\":true,\"showland\":true,\"subunitcolor\":\"white\"},\"hoverlabel\":{\"align\":\"left\"},\"hovermode\":\"closest\",\"mapbox\":{\"style\":\"light\"},\"paper_bgcolor\":\"white\",\"plot_bgcolor\":\"#E5ECF6\",\"polar\":{\"angularaxis\":{\"gridcolor\":\"white\",\"linecolor\":\"white\",\"ticks\":\"\"},\"bgcolor\":\"#E5ECF6\",\"radialaxis\":{\"gridcolor\":\"white\",\"linecolor\":\"white\",\"ticks\":\"\"}},\"scene\":{\"xaxis\":{\"backgroundcolor\":\"#E5ECF6\",\"gridcolor\":\"white\",\"gridwidth\":2,\"linecolor\":\"white\",\"showbackground\":true,\"ticks\":\"\",\"zerolinecolor\":\"white\"},\"yaxis\":{\"backgroundcolor\":\"#E5ECF6\",\"gridcolor\":\"white\",\"gridwidth\":2,\"linecolor\":\"white\",\"showbackground\":true,\"ticks\":\"\",\"zerolinecolor\":\"white\"},\"zaxis\":{\"backgroundcolor\":\"#E5ECF6\",\"gridcolor\":\"white\",\"gridwidth\":2,\"linecolor\":\"white\",\"showbackground\":true,\"ticks\":\"\",\"zerolinecolor\":\"white\"}},\"shapedefaults\":{\"line\":{\"color\":\"#2a3f5f\"}},\"ternary\":{\"aaxis\":{\"gridcolor\":\"white\",\"linecolor\":\"white\",\"ticks\":\"\"},\"baxis\":{\"gridcolor\":\"white\",\"linecolor\":\"white\",\"ticks\":\"\"},\"bgcolor\":\"#E5ECF6\",\"caxis\":{\"gridcolor\":\"white\",\"linecolor\":\"white\",\"ticks\":\"\"}},\"title\":{\"x\":0.05},\"xaxis\":{\"automargin\":true,\"gridcolor\":\"white\",\"linecolor\":\"white\",\"ticks\":\"\",\"title\":{\"standoff\":15},\"zerolinecolor\":\"white\",\"zerolinewidth\":2},\"yaxis\":{\"automargin\":true,\"gridcolor\":\"white\",\"linecolor\":\"white\",\"ticks\":\"\",\"title\":{\"standoff\":15},\"zerolinecolor\":\"white\",\"zerolinewidth\":2}}},\"xaxis\":{\"anchor\":\"y\",\"domain\":[0.0,1.0],\"title\":{\"text\":\"Playoff Percentage\"},\"visible\":true},\"yaxis\":{\"anchor\":\"x\",\"domain\":[0.0,1.0],\"title\":{\"text\":\"ABBR\"},\"categoryorder\":\"total descending\",\"visible\":true,\"showgrid\":false},\"coloraxis\":{\"colorbar\":{\"title\":{\"text\":\"week\"}},\"colorscale\":[[0.0,\"#0d0887\"],[0.1111111111111111,\"#46039f\"],[0.2222222222222222,\"#7201a8\"],[0.3333333333333333,\"#9c179e\"],[0.4444444444444444,\"#bd3786\"],[0.5555555555555556,\"#d8576b\"],[0.6666666666666666,\"#ed7953\"],[0.7777777777777778,\"#fb9f3a\"],[0.8888888888888888,\"#fdca26\"],[1.0,\"#f0f921\"]]},\"legend\":{\"tracegroupgap\":0,\"title\":{\"text\":\"WEEK\"}},\"margin\":{\"t\":40,\"l\":20,\"r\":20,\"b\":20},\"width\":950,\"height\":900,\"plot_bgcolor\":\"white\",\"showlegend\":true,\"shapes\":[{\"layer\":\"below\",\"line\":{\"width\":6},\"type\":\"line\",\"x0\":0,\"x1\":1,\"y0\":\"AD\",\"y1\":\"AD\"},{\"layer\":\"below\",\"line\":{\"width\":6},\"type\":\"line\",\"x0\":66,\"x1\":49,\"y0\":\"CM\",\"y1\":\"CM\"},{\"layer\":\"below\",\"line\":{\"width\":6},\"type\":\"line\",\"x0\":80,\"x1\":93,\"y0\":\"CP\",\"y1\":\"CP\"},{\"layer\":\"below\",\"line\":{\"width\":6},\"type\":\"line\",\"x0\":32,\"x1\":43,\"y0\":\"DB\",\"y1\":\"DB\"},{\"layer\":\"below\",\"line\":{\"width\":6},\"type\":\"line\",\"x0\":93,\"x1\":86,\"y0\":\"JG\",\"y1\":\"JG\"},{\"layer\":\"below\",\"line\":{\"width\":6},\"type\":\"line\",\"x0\":12,\"x1\":5,\"y0\":\"LW\",\"y1\":\"LW\"},{\"layer\":\"below\",\"line\":{\"width\":6},\"type\":\"line\",\"x0\":22,\"x1\":31,\"y0\":\"MC\",\"y1\":\"MC\"},{\"layer\":\"below\",\"line\":{\"width\":6},\"type\":\"line\",\"x0\":42,\"x1\":61,\"y0\":\"MF\",\"y1\":\"MF\"},{\"layer\":\"below\",\"line\":{\"width\":6},\"type\":\"line\",\"x0\":0,\"x1\":1,\"y0\":\"MS\",\"y1\":\"MS\"},{\"layer\":\"below\",\"line\":{\"width\":6},\"type\":\"line\",\"x0\":3,\"x1\":1,\"y0\":\"MW\",\"y1\":\"MW\"},{\"layer\":\"below\",\"line\":{\"width\":6},\"type\":\"line\",\"x0\":4,\"x1\":1,\"y0\":\"SA\",\"y1\":\"SA\"},{\"layer\":\"below\",\"line\":{\"width\":6},\"type\":\"line\",\"x0\":46,\"x1\":31,\"y0\":\"SB\",\"y1\":\"SB\"}]},                        {\"responsive\": true}                    ).then(function(){\n",
       "                            \n",
       "var gd = document.getElementById('623185f0-5f18-4d9c-a7ed-5c9da47bfe01');\n",
       "var x = new MutationObserver(function (mutations, observer) {{\n",
       "        var display = window.getComputedStyle(gd).display;\n",
       "        if (!display || display === 'none') {{\n",
       "            console.log([gd, 'removed!']);\n",
       "            Plotly.purge(gd);\n",
       "            observer.disconnect();\n",
       "        }}\n",
       "}});\n",
       "\n",
       "// Listen for the removal of the full notebook cells\n",
       "var notebookContainer = gd.closest('#notebook-container');\n",
       "if (notebookContainer) {{\n",
       "    x.observe(notebookContainer, {childList: true});\n",
       "}}\n",
       "\n",
       "// Listen for the clearing of the current output cell\n",
       "var outputEl = gd.closest('.output');\n",
       "if (outputEl) {{\n",
       "    x.observe(outputEl, {childList: true});\n",
       "}}\n",
       "\n",
       "                        })                };                });            </script>        </div>"
      ]
     },
     "metadata": {},
     "output_type": "display_data"
    }
   ],
   "source": [
    "#create a dictionary to color each country\n",
    "color_week = dict(zip(list_week,pal_))\n",
    "\n",
    "import plotly.express as px\n",
    "fig = px.scatter(result, x='Percent', y='ABBR', color='week',\n",
    "                 text = [str(i)+' %' for i in result.Percent],\n",
    "                 opacity=1,\n",
    "                 color_discrete_map=color_abbr)\n",
    "\n",
    "fig.update_layout(width = 950, height = 900, plot_bgcolor = 'white',\n",
    "                  margin = dict(t=40, l=20, r=20, b=20),\n",
    "                  yaxis={'categoryorder':'total descending'},\n",
    "                  legend=dict(title='WEEK'),\n",
    "                  showlegend=True)\n",
    "\n",
    "for c in list_abbr:\n",
    "    df = result[result['ABBR']==c]\n",
    "    fig.add_shape(type=\"line\", layer=\"below\",\n",
    "                  line=dict(color=color_week.get(c), width=6),\n",
    "                  y0=c, x0=list(df.Percent)[0],\n",
    "                  y1=c, x1=list(df.Percent)[1])\n",
    "\n",
    "    fig.update_traces(textposition='top center', marker={'size':58},\n",
    "                  textfont=dict(color='black'))\n",
    "fig.update_yaxes(title='ABBR', visible=True, showgrid =False)\n",
    "fig.update_xaxes(title='Playoff Percentage', visible=True) \n",
    "fig.show()\n"
   ]
  },
  {
   "cell_type": "code",
   "execution_count": 23,
   "id": "0be9e68d",
   "metadata": {},
   "outputs": [
    {
     "data": {
      "text/html": [
       "<div>\n",
       "<style scoped>\n",
       "    .dataframe tbody tr th:only-of-type {\n",
       "        vertical-align: middle;\n",
       "    }\n",
       "\n",
       "    .dataframe tbody tr th {\n",
       "        vertical-align: top;\n",
       "    }\n",
       "\n",
       "    .dataframe thead th {\n",
       "        text-align: right;\n",
       "    }\n",
       "</style>\n",
       "<table border=\"1\" class=\"dataframe\">\n",
       "  <thead>\n",
       "    <tr style=\"text-align: right;\">\n",
       "      <th></th>\n",
       "      <th>RK</th>\n",
       "      <th>ABBR</th>\n",
       "      <th>W</th>\n",
       "      <th>L</th>\n",
       "      <th>T</th>\n",
       "      <th>PCT</th>\n",
       "      <th>GB</th>\n",
       "      <th>PLAYOFF %</th>\n",
       "      <th>PF</th>\n",
       "      <th>PA</th>\n",
       "      <th>STRK</th>\n",
       "      <th>MOVES</th>\n",
       "      <th>WEEK</th>\n",
       "      <th>Percent</th>\n",
       "      <th>Label_color</th>\n",
       "      <th>week</th>\n",
       "    </tr>\n",
       "  </thead>\n",
       "  <tbody>\n",
       "    <tr>\n",
       "      <th>10</th>\n",
       "      <td>11</td>\n",
       "      <td>AD</td>\n",
       "      <td>2</td>\n",
       "      <td>7</td>\n",
       "      <td>0</td>\n",
       "      <td>0.222</td>\n",
       "      <td>5</td>\n",
       "      <td>0</td>\n",
       "      <td>982.68</td>\n",
       "      <td>1208.66</td>\n",
       "      <td>W1</td>\n",
       "      <td>7</td>\n",
       "      <td>9</td>\n",
       "      <td>0</td>\n",
       "      <td>AD</td>\n",
       "      <td>9</td>\n",
       "    </tr>\n",
       "    <tr>\n",
       "      <th>2</th>\n",
       "      <td>3</td>\n",
       "      <td>CM</td>\n",
       "      <td>6</td>\n",
       "      <td>3</td>\n",
       "      <td>0</td>\n",
       "      <td>0.667</td>\n",
       "      <td>1</td>\n",
       "      <td>66</td>\n",
       "      <td>1028.78</td>\n",
       "      <td>945.56</td>\n",
       "      <td>L3</td>\n",
       "      <td>6</td>\n",
       "      <td>9</td>\n",
       "      <td>66</td>\n",
       "      <td>CM</td>\n",
       "      <td>9</td>\n",
       "    </tr>\n",
       "    <tr>\n",
       "      <th>1</th>\n",
       "      <td>2</td>\n",
       "      <td>CP</td>\n",
       "      <td>6</td>\n",
       "      <td>3</td>\n",
       "      <td>0</td>\n",
       "      <td>0.667</td>\n",
       "      <td>1</td>\n",
       "      <td>80</td>\n",
       "      <td>1184.74</td>\n",
       "      <td>1029.50</td>\n",
       "      <td>W2</td>\n",
       "      <td>19</td>\n",
       "      <td>9</td>\n",
       "      <td>80</td>\n",
       "      <td>CP</td>\n",
       "      <td>9</td>\n",
       "    </tr>\n",
       "    <tr>\n",
       "      <th>5</th>\n",
       "      <td>6</td>\n",
       "      <td>DB</td>\n",
       "      <td>5</td>\n",
       "      <td>4</td>\n",
       "      <td>0</td>\n",
       "      <td>0.556</td>\n",
       "      <td>2</td>\n",
       "      <td>32</td>\n",
       "      <td>1027.70</td>\n",
       "      <td>1046.82</td>\n",
       "      <td>L1</td>\n",
       "      <td>22</td>\n",
       "      <td>9</td>\n",
       "      <td>32</td>\n",
       "      <td>DB</td>\n",
       "      <td>9</td>\n",
       "    </tr>\n",
       "    <tr>\n",
       "      <th>0</th>\n",
       "      <td>1</td>\n",
       "      <td>JG</td>\n",
       "      <td>7</td>\n",
       "      <td>2</td>\n",
       "      <td>0</td>\n",
       "      <td>0.778</td>\n",
       "      <td>0</td>\n",
       "      <td>93</td>\n",
       "      <td>1028.06</td>\n",
       "      <td>935.74</td>\n",
       "      <td>W5</td>\n",
       "      <td>6</td>\n",
       "      <td>9</td>\n",
       "      <td>93</td>\n",
       "      <td>JG</td>\n",
       "      <td>9</td>\n",
       "    </tr>\n",
       "    <tr>\n",
       "      <th>7</th>\n",
       "      <td>8</td>\n",
       "      <td>LW</td>\n",
       "      <td>4</td>\n",
       "      <td>5</td>\n",
       "      <td>0</td>\n",
       "      <td>0.444</td>\n",
       "      <td>3</td>\n",
       "      <td>12</td>\n",
       "      <td>1078.16</td>\n",
       "      <td>1076.50</td>\n",
       "      <td>L1</td>\n",
       "      <td>9</td>\n",
       "      <td>9</td>\n",
       "      <td>12</td>\n",
       "      <td>LW</td>\n",
       "      <td>9</td>\n",
       "    </tr>\n",
       "    <tr>\n",
       "      <th>6</th>\n",
       "      <td>7</td>\n",
       "      <td>MC</td>\n",
       "      <td>4</td>\n",
       "      <td>5</td>\n",
       "      <td>0</td>\n",
       "      <td>0.444</td>\n",
       "      <td>3</td>\n",
       "      <td>22</td>\n",
       "      <td>1210.78</td>\n",
       "      <td>1112.90</td>\n",
       "      <td>L1</td>\n",
       "      <td>13</td>\n",
       "      <td>9</td>\n",
       "      <td>22</td>\n",
       "      <td>MC</td>\n",
       "      <td>9</td>\n",
       "    </tr>\n",
       "    <tr>\n",
       "      <th>4</th>\n",
       "      <td>5</td>\n",
       "      <td>MF</td>\n",
       "      <td>5</td>\n",
       "      <td>4</td>\n",
       "      <td>0</td>\n",
       "      <td>0.556</td>\n",
       "      <td>2</td>\n",
       "      <td>42</td>\n",
       "      <td>1144.84</td>\n",
       "      <td>1032.80</td>\n",
       "      <td>L2</td>\n",
       "      <td>13</td>\n",
       "      <td>9</td>\n",
       "      <td>42</td>\n",
       "      <td>MF</td>\n",
       "      <td>9</td>\n",
       "    </tr>\n",
       "    <tr>\n",
       "      <th>11</th>\n",
       "      <td>12</td>\n",
       "      <td>MS</td>\n",
       "      <td>2</td>\n",
       "      <td>7</td>\n",
       "      <td>0</td>\n",
       "      <td>0.222</td>\n",
       "      <td>5</td>\n",
       "      <td>0</td>\n",
       "      <td>942.58</td>\n",
       "      <td>1039.88</td>\n",
       "      <td>W1</td>\n",
       "      <td>11</td>\n",
       "      <td>9</td>\n",
       "      <td>0</td>\n",
       "      <td>MS</td>\n",
       "      <td>9</td>\n",
       "    </tr>\n",
       "    <tr>\n",
       "      <th>8</th>\n",
       "      <td>9</td>\n",
       "      <td>MW</td>\n",
       "      <td>4</td>\n",
       "      <td>5</td>\n",
       "      <td>0</td>\n",
       "      <td>0.444</td>\n",
       "      <td>3</td>\n",
       "      <td>3</td>\n",
       "      <td>912.84</td>\n",
       "      <td>1072.32</td>\n",
       "      <td>W1</td>\n",
       "      <td>10</td>\n",
       "      <td>9</td>\n",
       "      <td>3</td>\n",
       "      <td>MW</td>\n",
       "      <td>9</td>\n",
       "    </tr>\n",
       "    <tr>\n",
       "      <th>9</th>\n",
       "      <td>10</td>\n",
       "      <td>SA</td>\n",
       "      <td>4</td>\n",
       "      <td>5</td>\n",
       "      <td>0</td>\n",
       "      <td>0.444</td>\n",
       "      <td>3</td>\n",
       "      <td>4</td>\n",
       "      <td>892.40</td>\n",
       "      <td>1029.02</td>\n",
       "      <td>W1</td>\n",
       "      <td>5</td>\n",
       "      <td>9</td>\n",
       "      <td>4</td>\n",
       "      <td>SA</td>\n",
       "      <td>9</td>\n",
       "    </tr>\n",
       "    <tr>\n",
       "      <th>3</th>\n",
       "      <td>4</td>\n",
       "      <td>SB</td>\n",
       "      <td>5</td>\n",
       "      <td>4</td>\n",
       "      <td>0</td>\n",
       "      <td>0.556</td>\n",
       "      <td>2</td>\n",
       "      <td>46</td>\n",
       "      <td>1167.52</td>\n",
       "      <td>1071.38</td>\n",
       "      <td>L1</td>\n",
       "      <td>6</td>\n",
       "      <td>9</td>\n",
       "      <td>46</td>\n",
       "      <td>SB</td>\n",
       "      <td>9</td>\n",
       "    </tr>\n",
       "  </tbody>\n",
       "</table>\n",
       "</div>"
      ],
      "text/plain": [
       "    RK ABBR  W  L  T    PCT  GB  PLAYOFF %       PF       PA STRK  MOVES  \\\n",
       "10  11   AD  2  7  0  0.222   5          0   982.68  1208.66   W1      7   \n",
       "2    3   CM  6  3  0  0.667   1         66  1028.78   945.56   L3      6   \n",
       "1    2   CP  6  3  0  0.667   1         80  1184.74  1029.50   W2     19   \n",
       "5    6   DB  5  4  0  0.556   2         32  1027.70  1046.82   L1     22   \n",
       "0    1   JG  7  2  0  0.778   0         93  1028.06   935.74   W5      6   \n",
       "7    8   LW  4  5  0  0.444   3         12  1078.16  1076.50   L1      9   \n",
       "6    7   MC  4  5  0  0.444   3         22  1210.78  1112.90   L1     13   \n",
       "4    5   MF  5  4  0  0.556   2         42  1144.84  1032.80   L2     13   \n",
       "11  12   MS  2  7  0  0.222   5          0   942.58  1039.88   W1     11   \n",
       "8    9   MW  4  5  0  0.444   3          3   912.84  1072.32   W1     10   \n",
       "9   10   SA  4  5  0  0.444   3          4   892.40  1029.02   W1      5   \n",
       "3    4   SB  5  4  0  0.556   2         46  1167.52  1071.38   L1      6   \n",
       "\n",
       "    WEEK  Percent Label_color  week  \n",
       "10     9        0          AD     9  \n",
       "2      9       66          CM     9  \n",
       "1      9       80          CP     9  \n",
       "5      9       32          DB     9  \n",
       "0      9       93          JG     9  \n",
       "7      9       12          LW     9  \n",
       "6      9       22          MC     9  \n",
       "4      9       42          MF     9  \n",
       "11     9        0          MS     9  \n",
       "8      9        3          MW     9  \n",
       "9      9        4          SA     9  \n",
       "3      9       46          SB     9  "
      ]
     },
     "execution_count": 23,
     "metadata": {},
     "output_type": "execute_result"
    }
   ],
   "source": [
    "r9 = result.query('WEEK == 9')\n",
    "r9"
   ]
  },
  {
   "cell_type": "code",
   "execution_count": 24,
   "id": "56e8b3ad",
   "metadata": {},
   "outputs": [],
   "source": [
    "r9 = r9.reset_index().sort_values('Percent', ascending=False)"
   ]
  },
  {
   "cell_type": "code",
   "execution_count": 25,
   "id": "b64cd814",
   "metadata": {},
   "outputs": [
    {
     "data": {
      "text/html": [
       "<div>\n",
       "<style scoped>\n",
       "    .dataframe tbody tr th:only-of-type {\n",
       "        vertical-align: middle;\n",
       "    }\n",
       "\n",
       "    .dataframe tbody tr th {\n",
       "        vertical-align: top;\n",
       "    }\n",
       "\n",
       "    .dataframe thead th {\n",
       "        text-align: right;\n",
       "    }\n",
       "</style>\n",
       "<table border=\"1\" class=\"dataframe\">\n",
       "  <thead>\n",
       "    <tr style=\"text-align: right;\">\n",
       "      <th></th>\n",
       "      <th>index</th>\n",
       "      <th>RK</th>\n",
       "      <th>ABBR</th>\n",
       "      <th>W</th>\n",
       "      <th>L</th>\n",
       "      <th>T</th>\n",
       "      <th>PCT</th>\n",
       "      <th>GB</th>\n",
       "      <th>PLAYOFF %</th>\n",
       "      <th>PF</th>\n",
       "      <th>PA</th>\n",
       "      <th>STRK</th>\n",
       "      <th>MOVES</th>\n",
       "      <th>WEEK</th>\n",
       "      <th>Percent</th>\n",
       "      <th>Label_color</th>\n",
       "      <th>week</th>\n",
       "      <th>Y</th>\n",
       "      <th>X</th>\n",
       "    </tr>\n",
       "  </thead>\n",
       "  <tbody>\n",
       "    <tr>\n",
       "      <th>4</th>\n",
       "      <td>0</td>\n",
       "      <td>1</td>\n",
       "      <td>JG</td>\n",
       "      <td>7</td>\n",
       "      <td>2</td>\n",
       "      <td>0</td>\n",
       "      <td>0.778</td>\n",
       "      <td>0</td>\n",
       "      <td>93</td>\n",
       "      <td>1028.06</td>\n",
       "      <td>935.74</td>\n",
       "      <td>W5</td>\n",
       "      <td>6</td>\n",
       "      <td>9</td>\n",
       "      <td>93</td>\n",
       "      <td>JG</td>\n",
       "      <td>9</td>\n",
       "      <td>1</td>\n",
       "      <td>0</td>\n",
       "    </tr>\n",
       "    <tr>\n",
       "      <th>2</th>\n",
       "      <td>1</td>\n",
       "      <td>2</td>\n",
       "      <td>CP</td>\n",
       "      <td>6</td>\n",
       "      <td>3</td>\n",
       "      <td>0</td>\n",
       "      <td>0.667</td>\n",
       "      <td>1</td>\n",
       "      <td>80</td>\n",
       "      <td>1184.74</td>\n",
       "      <td>1029.50</td>\n",
       "      <td>W2</td>\n",
       "      <td>19</td>\n",
       "      <td>9</td>\n",
       "      <td>80</td>\n",
       "      <td>CP</td>\n",
       "      <td>9</td>\n",
       "      <td>1</td>\n",
       "      <td>1</td>\n",
       "    </tr>\n",
       "    <tr>\n",
       "      <th>1</th>\n",
       "      <td>2</td>\n",
       "      <td>3</td>\n",
       "      <td>CM</td>\n",
       "      <td>6</td>\n",
       "      <td>3</td>\n",
       "      <td>0</td>\n",
       "      <td>0.667</td>\n",
       "      <td>1</td>\n",
       "      <td>66</td>\n",
       "      <td>1028.78</td>\n",
       "      <td>945.56</td>\n",
       "      <td>L3</td>\n",
       "      <td>6</td>\n",
       "      <td>9</td>\n",
       "      <td>66</td>\n",
       "      <td>CM</td>\n",
       "      <td>9</td>\n",
       "      <td>1</td>\n",
       "      <td>2</td>\n",
       "    </tr>\n",
       "    <tr>\n",
       "      <th>11</th>\n",
       "      <td>3</td>\n",
       "      <td>4</td>\n",
       "      <td>SB</td>\n",
       "      <td>5</td>\n",
       "      <td>4</td>\n",
       "      <td>0</td>\n",
       "      <td>0.556</td>\n",
       "      <td>2</td>\n",
       "      <td>46</td>\n",
       "      <td>1167.52</td>\n",
       "      <td>1071.38</td>\n",
       "      <td>L1</td>\n",
       "      <td>6</td>\n",
       "      <td>9</td>\n",
       "      <td>46</td>\n",
       "      <td>SB</td>\n",
       "      <td>9</td>\n",
       "      <td>1</td>\n",
       "      <td>3</td>\n",
       "    </tr>\n",
       "    <tr>\n",
       "      <th>7</th>\n",
       "      <td>4</td>\n",
       "      <td>5</td>\n",
       "      <td>MF</td>\n",
       "      <td>5</td>\n",
       "      <td>4</td>\n",
       "      <td>0</td>\n",
       "      <td>0.556</td>\n",
       "      <td>2</td>\n",
       "      <td>42</td>\n",
       "      <td>1144.84</td>\n",
       "      <td>1032.80</td>\n",
       "      <td>L2</td>\n",
       "      <td>13</td>\n",
       "      <td>9</td>\n",
       "      <td>42</td>\n",
       "      <td>MF</td>\n",
       "      <td>9</td>\n",
       "      <td>1</td>\n",
       "      <td>4</td>\n",
       "    </tr>\n",
       "    <tr>\n",
       "      <th>3</th>\n",
       "      <td>5</td>\n",
       "      <td>6</td>\n",
       "      <td>DB</td>\n",
       "      <td>5</td>\n",
       "      <td>4</td>\n",
       "      <td>0</td>\n",
       "      <td>0.556</td>\n",
       "      <td>2</td>\n",
       "      <td>32</td>\n",
       "      <td>1027.70</td>\n",
       "      <td>1046.82</td>\n",
       "      <td>L1</td>\n",
       "      <td>22</td>\n",
       "      <td>9</td>\n",
       "      <td>32</td>\n",
       "      <td>DB</td>\n",
       "      <td>9</td>\n",
       "      <td>1</td>\n",
       "      <td>5</td>\n",
       "    </tr>\n",
       "    <tr>\n",
       "      <th>6</th>\n",
       "      <td>6</td>\n",
       "      <td>7</td>\n",
       "      <td>MC</td>\n",
       "      <td>4</td>\n",
       "      <td>5</td>\n",
       "      <td>0</td>\n",
       "      <td>0.444</td>\n",
       "      <td>3</td>\n",
       "      <td>22</td>\n",
       "      <td>1210.78</td>\n",
       "      <td>1112.90</td>\n",
       "      <td>L1</td>\n",
       "      <td>13</td>\n",
       "      <td>9</td>\n",
       "      <td>22</td>\n",
       "      <td>MC</td>\n",
       "      <td>9</td>\n",
       "      <td>1</td>\n",
       "      <td>6</td>\n",
       "    </tr>\n",
       "    <tr>\n",
       "      <th>5</th>\n",
       "      <td>7</td>\n",
       "      <td>8</td>\n",
       "      <td>LW</td>\n",
       "      <td>4</td>\n",
       "      <td>5</td>\n",
       "      <td>0</td>\n",
       "      <td>0.444</td>\n",
       "      <td>3</td>\n",
       "      <td>12</td>\n",
       "      <td>1078.16</td>\n",
       "      <td>1076.50</td>\n",
       "      <td>L1</td>\n",
       "      <td>9</td>\n",
       "      <td>9</td>\n",
       "      <td>12</td>\n",
       "      <td>LW</td>\n",
       "      <td>9</td>\n",
       "      <td>1</td>\n",
       "      <td>7</td>\n",
       "    </tr>\n",
       "    <tr>\n",
       "      <th>10</th>\n",
       "      <td>9</td>\n",
       "      <td>10</td>\n",
       "      <td>SA</td>\n",
       "      <td>4</td>\n",
       "      <td>5</td>\n",
       "      <td>0</td>\n",
       "      <td>0.444</td>\n",
       "      <td>3</td>\n",
       "      <td>4</td>\n",
       "      <td>892.40</td>\n",
       "      <td>1029.02</td>\n",
       "      <td>W1</td>\n",
       "      <td>5</td>\n",
       "      <td>9</td>\n",
       "      <td>4</td>\n",
       "      <td>SA</td>\n",
       "      <td>9</td>\n",
       "      <td>1</td>\n",
       "      <td>8</td>\n",
       "    </tr>\n",
       "    <tr>\n",
       "      <th>9</th>\n",
       "      <td>8</td>\n",
       "      <td>9</td>\n",
       "      <td>MW</td>\n",
       "      <td>4</td>\n",
       "      <td>5</td>\n",
       "      <td>0</td>\n",
       "      <td>0.444</td>\n",
       "      <td>3</td>\n",
       "      <td>3</td>\n",
       "      <td>912.84</td>\n",
       "      <td>1072.32</td>\n",
       "      <td>W1</td>\n",
       "      <td>10</td>\n",
       "      <td>9</td>\n",
       "      <td>3</td>\n",
       "      <td>MW</td>\n",
       "      <td>9</td>\n",
       "      <td>1</td>\n",
       "      <td>9</td>\n",
       "    </tr>\n",
       "    <tr>\n",
       "      <th>0</th>\n",
       "      <td>10</td>\n",
       "      <td>11</td>\n",
       "      <td>AD</td>\n",
       "      <td>2</td>\n",
       "      <td>7</td>\n",
       "      <td>0</td>\n",
       "      <td>0.222</td>\n",
       "      <td>5</td>\n",
       "      <td>0</td>\n",
       "      <td>982.68</td>\n",
       "      <td>1208.66</td>\n",
       "      <td>W1</td>\n",
       "      <td>7</td>\n",
       "      <td>9</td>\n",
       "      <td>0</td>\n",
       "      <td>AD</td>\n",
       "      <td>9</td>\n",
       "      <td>1</td>\n",
       "      <td>10</td>\n",
       "    </tr>\n",
       "    <tr>\n",
       "      <th>8</th>\n",
       "      <td>11</td>\n",
       "      <td>12</td>\n",
       "      <td>MS</td>\n",
       "      <td>2</td>\n",
       "      <td>7</td>\n",
       "      <td>0</td>\n",
       "      <td>0.222</td>\n",
       "      <td>5</td>\n",
       "      <td>0</td>\n",
       "      <td>942.58</td>\n",
       "      <td>1039.88</td>\n",
       "      <td>W1</td>\n",
       "      <td>11</td>\n",
       "      <td>9</td>\n",
       "      <td>0</td>\n",
       "      <td>MS</td>\n",
       "      <td>9</td>\n",
       "      <td>1</td>\n",
       "      <td>11</td>\n",
       "    </tr>\n",
       "  </tbody>\n",
       "</table>\n",
       "</div>"
      ],
      "text/plain": [
       "    index  RK ABBR  W  L  T    PCT  GB  PLAYOFF %       PF       PA STRK  \\\n",
       "4       0   1   JG  7  2  0  0.778   0         93  1028.06   935.74   W5   \n",
       "2       1   2   CP  6  3  0  0.667   1         80  1184.74  1029.50   W2   \n",
       "1       2   3   CM  6  3  0  0.667   1         66  1028.78   945.56   L3   \n",
       "11      3   4   SB  5  4  0  0.556   2         46  1167.52  1071.38   L1   \n",
       "7       4   5   MF  5  4  0  0.556   2         42  1144.84  1032.80   L2   \n",
       "3       5   6   DB  5  4  0  0.556   2         32  1027.70  1046.82   L1   \n",
       "6       6   7   MC  4  5  0  0.444   3         22  1210.78  1112.90   L1   \n",
       "5       7   8   LW  4  5  0  0.444   3         12  1078.16  1076.50   L1   \n",
       "10      9  10   SA  4  5  0  0.444   3          4   892.40  1029.02   W1   \n",
       "9       8   9   MW  4  5  0  0.444   3          3   912.84  1072.32   W1   \n",
       "0      10  11   AD  2  7  0  0.222   5          0   982.68  1208.66   W1   \n",
       "8      11  12   MS  2  7  0  0.222   5          0   942.58  1039.88   W1   \n",
       "\n",
       "    MOVES  WEEK  Percent Label_color  week  Y   X  \n",
       "4       6     9       93          JG     9  1   0  \n",
       "2      19     9       80          CP     9  1   1  \n",
       "1       6     9       66          CM     9  1   2  \n",
       "11      6     9       46          SB     9  1   3  \n",
       "7      13     9       42          MF     9  1   4  \n",
       "3      22     9       32          DB     9  1   5  \n",
       "6      13     9       22          MC     9  1   6  \n",
       "5       9     9       12          LW     9  1   7  \n",
       "10      5     9        4          SA     9  1   8  \n",
       "9      10     9        3          MW     9  1   9  \n",
       "0       7     9        0          AD     9  1  10  \n",
       "8      11     9        0          MS     9  1  11  "
      ]
     },
     "execution_count": 25,
     "metadata": {},
     "output_type": "execute_result"
    }
   ],
   "source": [
    "r9['Y'] = [1]*len(r9)\n",
    "list_x = list(range(0,len(r9)))\n",
    "r9['X'] = list_x\n",
    "r9"
   ]
  },
  {
   "cell_type": "code",
   "execution_count": 26,
   "id": "955f7477",
   "metadata": {},
   "outputs": [
    {
     "data": {
      "application/vnd.plotly.v1+json": {
       "config": {
        "plotlyServerURL": "https://plot.ly"
       },
       "data": [
        {
         "hovertemplate": "ABBR=JG<br>X=%{x}<br>Y=%{y}<br>Percent=%{marker.size}<br>text=%{text}<extra></extra>",
         "legendgroup": "JG",
         "marker": {
          "color": "#ed7953",
          "size": [
           93
          ],
          "sizemode": "area",
          "sizeref": 0.011481481481481481,
          "symbol": "circle"
         },
         "mode": "markers+text",
         "name": "JG",
         "orientation": "v",
         "showlegend": true,
         "text": [
          "JG<br>93%"
         ],
         "textposition": "top center",
         "type": "scatter",
         "x": [
          0
         ],
         "xaxis": "x",
         "y": [
          1
         ],
         "yaxis": "y"
        },
        {
         "hovertemplate": "ABBR=CP<br>X=%{x}<br>Y=%{y}<br>Percent=%{marker.size}<br>text=%{text}<extra></extra>",
         "legendgroup": "CP",
         "marker": {
          "color": "#9c179e",
          "size": [
           80
          ],
          "sizemode": "area",
          "sizeref": 0.011481481481481481,
          "symbol": "circle"
         },
         "mode": "markers+text",
         "name": "CP",
         "orientation": "v",
         "showlegend": true,
         "text": [
          "CP<br>80%"
         ],
         "textposition": "top center",
         "type": "scatter",
         "x": [
          1
         ],
         "xaxis": "x",
         "y": [
          1
         ],
         "yaxis": "y"
        },
        {
         "hovertemplate": "ABBR=CM<br>X=%{x}<br>Y=%{y}<br>Percent=%{marker.size}<br>text=%{text}<extra></extra>",
         "legendgroup": "CM",
         "marker": {
          "color": "#ed7953",
          "size": [
           66
          ],
          "sizemode": "area",
          "sizeref": 0.011481481481481481,
          "symbol": "circle"
         },
         "mode": "markers+text",
         "name": "CM",
         "orientation": "v",
         "showlegend": true,
         "text": [
          "CM<br>66%"
         ],
         "textposition": "top center",
         "type": "scatter",
         "x": [
          2
         ],
         "xaxis": "x",
         "y": [
          1
         ],
         "yaxis": "y"
        },
        {
         "hovertemplate": "ABBR=SB<br>X=%{x}<br>Y=%{y}<br>Percent=%{marker.size}<br>text=%{text}<extra></extra>",
         "legendgroup": "SB",
         "marker": {
          "color": "#9c179e",
          "size": [
           46
          ],
          "sizemode": "area",
          "sizeref": 0.011481481481481481,
          "symbol": "circle"
         },
         "mode": "markers+text",
         "name": "SB",
         "orientation": "v",
         "showlegend": true,
         "text": [
          "SB<br>46%"
         ],
         "textposition": "top center",
         "type": "scatter",
         "x": [
          3
         ],
         "xaxis": "x",
         "y": [
          1
         ],
         "yaxis": "y"
        },
        {
         "hovertemplate": "ABBR=MF<br>X=%{x}<br>Y=%{y}<br>Percent=%{marker.size}<br>text=%{text}<extra></extra>",
         "legendgroup": "MF",
         "marker": {
          "color": "#ed7953",
          "size": [
           42
          ],
          "sizemode": "area",
          "sizeref": 0.011481481481481481,
          "symbol": "circle"
         },
         "mode": "markers+text",
         "name": "MF",
         "orientation": "v",
         "showlegend": true,
         "text": [
          "MF<br>42%"
         ],
         "textposition": "top center",
         "type": "scatter",
         "x": [
          4
         ],
         "xaxis": "x",
         "y": [
          1
         ],
         "yaxis": "y"
        },
        {
         "hovertemplate": "ABBR=DB<br>X=%{x}<br>Y=%{y}<br>Percent=%{marker.size}<br>text=%{text}<extra></extra>",
         "legendgroup": "DB",
         "marker": {
          "color": "#9c179e",
          "size": [
           32
          ],
          "sizemode": "area",
          "sizeref": 0.011481481481481481,
          "symbol": "circle"
         },
         "mode": "markers+text",
         "name": "DB",
         "orientation": "v",
         "showlegend": true,
         "text": [
          "DB<br>32%"
         ],
         "textposition": "top center",
         "type": "scatter",
         "x": [
          5
         ],
         "xaxis": "x",
         "y": [
          1
         ],
         "yaxis": "y"
        },
        {
         "hovertemplate": "ABBR=MC<br>X=%{x}<br>Y=%{y}<br>Percent=%{marker.size}<br>text=%{text}<extra></extra>",
         "legendgroup": "MC",
         "marker": {
          "color": "#ed7953",
          "size": [
           22
          ],
          "sizemode": "area",
          "sizeref": 0.011481481481481481,
          "symbol": "circle"
         },
         "mode": "markers+text",
         "name": "MC",
         "orientation": "v",
         "showlegend": true,
         "text": [
          "MC<br>22%"
         ],
         "textposition": "top center",
         "type": "scatter",
         "x": [
          6
         ],
         "xaxis": "x",
         "y": [
          1
         ],
         "yaxis": "y"
        },
        {
         "hovertemplate": "ABBR=LW<br>X=%{x}<br>Y=%{y}<br>Percent=%{marker.size}<br>text=%{text}<extra></extra>",
         "legendgroup": "LW",
         "marker": {
          "color": "#9c179e",
          "size": [
           12
          ],
          "sizemode": "area",
          "sizeref": 0.011481481481481481,
          "symbol": "circle"
         },
         "mode": "markers+text",
         "name": "LW",
         "orientation": "v",
         "showlegend": true,
         "text": [
          "LW<br>12%"
         ],
         "textposition": "top center",
         "type": "scatter",
         "x": [
          7
         ],
         "xaxis": "x",
         "y": [
          1
         ],
         "yaxis": "y"
        },
        {
         "hovertemplate": "ABBR=SA<br>X=%{x}<br>Y=%{y}<br>Percent=%{marker.size}<br>text=%{text}<extra></extra>",
         "legendgroup": "SA",
         "marker": {
          "color": "#ed7953",
          "size": [
           4
          ],
          "sizemode": "area",
          "sizeref": 0.011481481481481481,
          "symbol": "circle"
         },
         "mode": "markers+text",
         "name": "SA",
         "orientation": "v",
         "showlegend": true,
         "text": [
          "SA<br>4%"
         ],
         "textposition": "top center",
         "type": "scatter",
         "x": [
          8
         ],
         "xaxis": "x",
         "y": [
          1
         ],
         "yaxis": "y"
        },
        {
         "hovertemplate": "ABBR=MW<br>X=%{x}<br>Y=%{y}<br>Percent=%{marker.size}<br>text=%{text}<extra></extra>",
         "legendgroup": "MW",
         "marker": {
          "color": "#9c179e",
          "size": [
           3
          ],
          "sizemode": "area",
          "sizeref": 0.011481481481481481,
          "symbol": "circle"
         },
         "mode": "markers+text",
         "name": "MW",
         "orientation": "v",
         "showlegend": true,
         "text": [
          "MW<br>3%"
         ],
         "textposition": "top center",
         "type": "scatter",
         "x": [
          9
         ],
         "xaxis": "x",
         "y": [
          1
         ],
         "yaxis": "y"
        },
        {
         "hovertemplate": "ABBR=AD<br>X=%{x}<br>Y=%{y}<br>Percent=%{marker.size}<br>text=%{text}<extra></extra>",
         "legendgroup": "AD",
         "marker": {
          "color": "#ed7953",
          "size": [
           0
          ],
          "sizemode": "area",
          "sizeref": 0.011481481481481481,
          "symbol": "circle"
         },
         "mode": "markers+text",
         "name": "AD",
         "orientation": "v",
         "showlegend": true,
         "text": [
          "AD<br>0%"
         ],
         "textposition": "top center",
         "type": "scatter",
         "x": [
          10
         ],
         "xaxis": "x",
         "y": [
          1
         ],
         "yaxis": "y"
        },
        {
         "hovertemplate": "ABBR=MS<br>X=%{x}<br>Y=%{y}<br>Percent=%{marker.size}<br>text=%{text}<extra></extra>",
         "legendgroup": "MS",
         "marker": {
          "color": "#9c179e",
          "size": [
           0
          ],
          "sizemode": "area",
          "sizeref": 0.011481481481481481,
          "symbol": "circle"
         },
         "mode": "markers+text",
         "name": "MS",
         "orientation": "v",
         "showlegend": true,
         "text": [
          "MS<br>0%"
         ],
         "textposition": "top center",
         "type": "scatter",
         "x": [
          11
         ],
         "xaxis": "x",
         "y": [
          1
         ],
         "yaxis": "y"
        }
       ],
       "layout": {
        "height": 500,
        "legend": {
         "itemsizing": "constant",
         "title": {
          "text": "ABBR"
         },
         "tracegroupgap": 0
        },
        "margin": {
         "b": 0,
         "l": 0,
         "r": 0,
         "t": 50
        },
        "paper_bgcolor": "white",
        "plot_bgcolor": "white",
        "showlegend": false,
        "template": {
         "data": {
          "bar": [
           {
            "error_x": {
             "color": "#2a3f5f"
            },
            "error_y": {
             "color": "#2a3f5f"
            },
            "marker": {
             "line": {
              "color": "#E5ECF6",
              "width": 0.5
             },
             "pattern": {
              "fillmode": "overlay",
              "size": 10,
              "solidity": 0.2
             }
            },
            "type": "bar"
           }
          ],
          "barpolar": [
           {
            "marker": {
             "line": {
              "color": "#E5ECF6",
              "width": 0.5
             },
             "pattern": {
              "fillmode": "overlay",
              "size": 10,
              "solidity": 0.2
             }
            },
            "type": "barpolar"
           }
          ],
          "carpet": [
           {
            "aaxis": {
             "endlinecolor": "#2a3f5f",
             "gridcolor": "white",
             "linecolor": "white",
             "minorgridcolor": "white",
             "startlinecolor": "#2a3f5f"
            },
            "baxis": {
             "endlinecolor": "#2a3f5f",
             "gridcolor": "white",
             "linecolor": "white",
             "minorgridcolor": "white",
             "startlinecolor": "#2a3f5f"
            },
            "type": "carpet"
           }
          ],
          "choropleth": [
           {
            "colorbar": {
             "outlinewidth": 0,
             "ticks": ""
            },
            "type": "choropleth"
           }
          ],
          "contour": [
           {
            "colorbar": {
             "outlinewidth": 0,
             "ticks": ""
            },
            "colorscale": [
             [
              0,
              "#0d0887"
             ],
             [
              0.1111111111111111,
              "#46039f"
             ],
             [
              0.2222222222222222,
              "#7201a8"
             ],
             [
              0.3333333333333333,
              "#9c179e"
             ],
             [
              0.4444444444444444,
              "#bd3786"
             ],
             [
              0.5555555555555556,
              "#d8576b"
             ],
             [
              0.6666666666666666,
              "#ed7953"
             ],
             [
              0.7777777777777778,
              "#fb9f3a"
             ],
             [
              0.8888888888888888,
              "#fdca26"
             ],
             [
              1,
              "#f0f921"
             ]
            ],
            "type": "contour"
           }
          ],
          "contourcarpet": [
           {
            "colorbar": {
             "outlinewidth": 0,
             "ticks": ""
            },
            "type": "contourcarpet"
           }
          ],
          "heatmap": [
           {
            "colorbar": {
             "outlinewidth": 0,
             "ticks": ""
            },
            "colorscale": [
             [
              0,
              "#0d0887"
             ],
             [
              0.1111111111111111,
              "#46039f"
             ],
             [
              0.2222222222222222,
              "#7201a8"
             ],
             [
              0.3333333333333333,
              "#9c179e"
             ],
             [
              0.4444444444444444,
              "#bd3786"
             ],
             [
              0.5555555555555556,
              "#d8576b"
             ],
             [
              0.6666666666666666,
              "#ed7953"
             ],
             [
              0.7777777777777778,
              "#fb9f3a"
             ],
             [
              0.8888888888888888,
              "#fdca26"
             ],
             [
              1,
              "#f0f921"
             ]
            ],
            "type": "heatmap"
           }
          ],
          "heatmapgl": [
           {
            "colorbar": {
             "outlinewidth": 0,
             "ticks": ""
            },
            "colorscale": [
             [
              0,
              "#0d0887"
             ],
             [
              0.1111111111111111,
              "#46039f"
             ],
             [
              0.2222222222222222,
              "#7201a8"
             ],
             [
              0.3333333333333333,
              "#9c179e"
             ],
             [
              0.4444444444444444,
              "#bd3786"
             ],
             [
              0.5555555555555556,
              "#d8576b"
             ],
             [
              0.6666666666666666,
              "#ed7953"
             ],
             [
              0.7777777777777778,
              "#fb9f3a"
             ],
             [
              0.8888888888888888,
              "#fdca26"
             ],
             [
              1,
              "#f0f921"
             ]
            ],
            "type": "heatmapgl"
           }
          ],
          "histogram": [
           {
            "marker": {
             "pattern": {
              "fillmode": "overlay",
              "size": 10,
              "solidity": 0.2
             }
            },
            "type": "histogram"
           }
          ],
          "histogram2d": [
           {
            "colorbar": {
             "outlinewidth": 0,
             "ticks": ""
            },
            "colorscale": [
             [
              0,
              "#0d0887"
             ],
             [
              0.1111111111111111,
              "#46039f"
             ],
             [
              0.2222222222222222,
              "#7201a8"
             ],
             [
              0.3333333333333333,
              "#9c179e"
             ],
             [
              0.4444444444444444,
              "#bd3786"
             ],
             [
              0.5555555555555556,
              "#d8576b"
             ],
             [
              0.6666666666666666,
              "#ed7953"
             ],
             [
              0.7777777777777778,
              "#fb9f3a"
             ],
             [
              0.8888888888888888,
              "#fdca26"
             ],
             [
              1,
              "#f0f921"
             ]
            ],
            "type": "histogram2d"
           }
          ],
          "histogram2dcontour": [
           {
            "colorbar": {
             "outlinewidth": 0,
             "ticks": ""
            },
            "colorscale": [
             [
              0,
              "#0d0887"
             ],
             [
              0.1111111111111111,
              "#46039f"
             ],
             [
              0.2222222222222222,
              "#7201a8"
             ],
             [
              0.3333333333333333,
              "#9c179e"
             ],
             [
              0.4444444444444444,
              "#bd3786"
             ],
             [
              0.5555555555555556,
              "#d8576b"
             ],
             [
              0.6666666666666666,
              "#ed7953"
             ],
             [
              0.7777777777777778,
              "#fb9f3a"
             ],
             [
              0.8888888888888888,
              "#fdca26"
             ],
             [
              1,
              "#f0f921"
             ]
            ],
            "type": "histogram2dcontour"
           }
          ],
          "mesh3d": [
           {
            "colorbar": {
             "outlinewidth": 0,
             "ticks": ""
            },
            "type": "mesh3d"
           }
          ],
          "parcoords": [
           {
            "line": {
             "colorbar": {
              "outlinewidth": 0,
              "ticks": ""
             }
            },
            "type": "parcoords"
           }
          ],
          "pie": [
           {
            "automargin": true,
            "type": "pie"
           }
          ],
          "scatter": [
           {
            "marker": {
             "colorbar": {
              "outlinewidth": 0,
              "ticks": ""
             }
            },
            "type": "scatter"
           }
          ],
          "scatter3d": [
           {
            "line": {
             "colorbar": {
              "outlinewidth": 0,
              "ticks": ""
             }
            },
            "marker": {
             "colorbar": {
              "outlinewidth": 0,
              "ticks": ""
             }
            },
            "type": "scatter3d"
           }
          ],
          "scattercarpet": [
           {
            "marker": {
             "colorbar": {
              "outlinewidth": 0,
              "ticks": ""
             }
            },
            "type": "scattercarpet"
           }
          ],
          "scattergeo": [
           {
            "marker": {
             "colorbar": {
              "outlinewidth": 0,
              "ticks": ""
             }
            },
            "type": "scattergeo"
           }
          ],
          "scattergl": [
           {
            "marker": {
             "colorbar": {
              "outlinewidth": 0,
              "ticks": ""
             }
            },
            "type": "scattergl"
           }
          ],
          "scattermapbox": [
           {
            "marker": {
             "colorbar": {
              "outlinewidth": 0,
              "ticks": ""
             }
            },
            "type": "scattermapbox"
           }
          ],
          "scatterpolar": [
           {
            "marker": {
             "colorbar": {
              "outlinewidth": 0,
              "ticks": ""
             }
            },
            "type": "scatterpolar"
           }
          ],
          "scatterpolargl": [
           {
            "marker": {
             "colorbar": {
              "outlinewidth": 0,
              "ticks": ""
             }
            },
            "type": "scatterpolargl"
           }
          ],
          "scatterternary": [
           {
            "marker": {
             "colorbar": {
              "outlinewidth": 0,
              "ticks": ""
             }
            },
            "type": "scatterternary"
           }
          ],
          "surface": [
           {
            "colorbar": {
             "outlinewidth": 0,
             "ticks": ""
            },
            "colorscale": [
             [
              0,
              "#0d0887"
             ],
             [
              0.1111111111111111,
              "#46039f"
             ],
             [
              0.2222222222222222,
              "#7201a8"
             ],
             [
              0.3333333333333333,
              "#9c179e"
             ],
             [
              0.4444444444444444,
              "#bd3786"
             ],
             [
              0.5555555555555556,
              "#d8576b"
             ],
             [
              0.6666666666666666,
              "#ed7953"
             ],
             [
              0.7777777777777778,
              "#fb9f3a"
             ],
             [
              0.8888888888888888,
              "#fdca26"
             ],
             [
              1,
              "#f0f921"
             ]
            ],
            "type": "surface"
           }
          ],
          "table": [
           {
            "cells": {
             "fill": {
              "color": "#EBF0F8"
             },
             "line": {
              "color": "white"
             }
            },
            "header": {
             "fill": {
              "color": "#C8D4E3"
             },
             "line": {
              "color": "white"
             }
            },
            "type": "table"
           }
          ]
         },
         "layout": {
          "annotationdefaults": {
           "arrowcolor": "#2a3f5f",
           "arrowhead": 0,
           "arrowwidth": 1
          },
          "autotypenumbers": "strict",
          "coloraxis": {
           "colorbar": {
            "outlinewidth": 0,
            "ticks": ""
           }
          },
          "colorscale": {
           "diverging": [
            [
             0,
             "#8e0152"
            ],
            [
             0.1,
             "#c51b7d"
            ],
            [
             0.2,
             "#de77ae"
            ],
            [
             0.3,
             "#f1b6da"
            ],
            [
             0.4,
             "#fde0ef"
            ],
            [
             0.5,
             "#f7f7f7"
            ],
            [
             0.6,
             "#e6f5d0"
            ],
            [
             0.7,
             "#b8e186"
            ],
            [
             0.8,
             "#7fbc41"
            ],
            [
             0.9,
             "#4d9221"
            ],
            [
             1,
             "#276419"
            ]
           ],
           "sequential": [
            [
             0,
             "#0d0887"
            ],
            [
             0.1111111111111111,
             "#46039f"
            ],
            [
             0.2222222222222222,
             "#7201a8"
            ],
            [
             0.3333333333333333,
             "#9c179e"
            ],
            [
             0.4444444444444444,
             "#bd3786"
            ],
            [
             0.5555555555555556,
             "#d8576b"
            ],
            [
             0.6666666666666666,
             "#ed7953"
            ],
            [
             0.7777777777777778,
             "#fb9f3a"
            ],
            [
             0.8888888888888888,
             "#fdca26"
            ],
            [
             1,
             "#f0f921"
            ]
           ],
           "sequentialminus": [
            [
             0,
             "#0d0887"
            ],
            [
             0.1111111111111111,
             "#46039f"
            ],
            [
             0.2222222222222222,
             "#7201a8"
            ],
            [
             0.3333333333333333,
             "#9c179e"
            ],
            [
             0.4444444444444444,
             "#bd3786"
            ],
            [
             0.5555555555555556,
             "#d8576b"
            ],
            [
             0.6666666666666666,
             "#ed7953"
            ],
            [
             0.7777777777777778,
             "#fb9f3a"
            ],
            [
             0.8888888888888888,
             "#fdca26"
            ],
            [
             1,
             "#f0f921"
            ]
           ]
          },
          "colorway": [
           "#636efa",
           "#EF553B",
           "#00cc96",
           "#ab63fa",
           "#FFA15A",
           "#19d3f3",
           "#FF6692",
           "#B6E880",
           "#FF97FF",
           "#FECB52"
          ],
          "font": {
           "color": "#2a3f5f"
          },
          "geo": {
           "bgcolor": "white",
           "lakecolor": "white",
           "landcolor": "#E5ECF6",
           "showlakes": true,
           "showland": true,
           "subunitcolor": "white"
          },
          "hoverlabel": {
           "align": "left"
          },
          "hovermode": "closest",
          "mapbox": {
           "style": "light"
          },
          "paper_bgcolor": "white",
          "plot_bgcolor": "#E5ECF6",
          "polar": {
           "angularaxis": {
            "gridcolor": "white",
            "linecolor": "white",
            "ticks": ""
           },
           "bgcolor": "#E5ECF6",
           "radialaxis": {
            "gridcolor": "white",
            "linecolor": "white",
            "ticks": ""
           }
          },
          "scene": {
           "xaxis": {
            "backgroundcolor": "#E5ECF6",
            "gridcolor": "white",
            "gridwidth": 2,
            "linecolor": "white",
            "showbackground": true,
            "ticks": "",
            "zerolinecolor": "white"
           },
           "yaxis": {
            "backgroundcolor": "#E5ECF6",
            "gridcolor": "white",
            "gridwidth": 2,
            "linecolor": "white",
            "showbackground": true,
            "ticks": "",
            "zerolinecolor": "white"
           },
           "zaxis": {
            "backgroundcolor": "#E5ECF6",
            "gridcolor": "white",
            "gridwidth": 2,
            "linecolor": "white",
            "showbackground": true,
            "ticks": "",
            "zerolinecolor": "white"
           }
          },
          "shapedefaults": {
           "line": {
            "color": "#2a3f5f"
           }
          },
          "ternary": {
           "aaxis": {
            "gridcolor": "white",
            "linecolor": "white",
            "ticks": ""
           },
           "baxis": {
            "gridcolor": "white",
            "linecolor": "white",
            "ticks": ""
           },
           "bgcolor": "#E5ECF6",
           "caxis": {
            "gridcolor": "white",
            "linecolor": "white",
            "ticks": ""
           }
          },
          "title": {
           "x": 0.05
          },
          "xaxis": {
           "automargin": true,
           "gridcolor": "white",
           "linecolor": "white",
           "ticks": "",
           "title": {
            "standoff": 15
           },
           "zerolinecolor": "white",
           "zerolinewidth": 2
          },
          "yaxis": {
           "automargin": true,
           "gridcolor": "white",
           "linecolor": "white",
           "ticks": "",
           "title": {
            "standoff": 15
           },
           "zerolinecolor": "white",
           "zerolinewidth": 2
          }
         }
        },
        "width": 900,
        "xaxis": {
         "anchor": "y",
         "domain": [
          0,
          1
         ],
         "showgrid": false,
         "title": {
          "text": "X"
         },
         "visible": false,
         "zeroline": false
        },
        "yaxis": {
         "anchor": "x",
         "domain": [
          0,
          1
         ],
         "showgrid": false,
         "title": {
          "text": "Y"
         },
         "visible": false,
         "zeroline": false
        }
       }
      },
      "text/html": [
       "<div>                            <div id=\"fb25c3d9-84e2-46c7-852a-db35af50fa7a\" class=\"plotly-graph-div\" style=\"height:500px; width:900px;\"></div>            <script type=\"text/javascript\">                require([\"plotly\"], function(Plotly) {                    window.PLOTLYENV=window.PLOTLYENV || {};                                    if (document.getElementById(\"fb25c3d9-84e2-46c7-852a-db35af50fa7a\")) {                    Plotly.newPlot(                        \"fb25c3d9-84e2-46c7-852a-db35af50fa7a\",                        [{\"hovertemplate\":\"ABBR=JG<br>X=%{x}<br>Y=%{y}<br>Percent=%{marker.size}<br>text=%{text}<extra></extra>\",\"legendgroup\":\"JG\",\"marker\":{\"color\":\"#ed7953\",\"size\":[93],\"sizemode\":\"area\",\"sizeref\":0.011481481481481481,\"symbol\":\"circle\"},\"mode\":\"markers+text\",\"name\":\"JG\",\"orientation\":\"v\",\"showlegend\":true,\"text\":[\"JG<br>93%\"],\"x\":[0],\"xaxis\":\"x\",\"y\":[1],\"yaxis\":\"y\",\"type\":\"scatter\",\"textposition\":\"top center\"},{\"hovertemplate\":\"ABBR=CP<br>X=%{x}<br>Y=%{y}<br>Percent=%{marker.size}<br>text=%{text}<extra></extra>\",\"legendgroup\":\"CP\",\"marker\":{\"color\":\"#9c179e\",\"size\":[80],\"sizemode\":\"area\",\"sizeref\":0.011481481481481481,\"symbol\":\"circle\"},\"mode\":\"markers+text\",\"name\":\"CP\",\"orientation\":\"v\",\"showlegend\":true,\"text\":[\"CP<br>80%\"],\"x\":[1],\"xaxis\":\"x\",\"y\":[1],\"yaxis\":\"y\",\"type\":\"scatter\",\"textposition\":\"top center\"},{\"hovertemplate\":\"ABBR=CM<br>X=%{x}<br>Y=%{y}<br>Percent=%{marker.size}<br>text=%{text}<extra></extra>\",\"legendgroup\":\"CM\",\"marker\":{\"color\":\"#ed7953\",\"size\":[66],\"sizemode\":\"area\",\"sizeref\":0.011481481481481481,\"symbol\":\"circle\"},\"mode\":\"markers+text\",\"name\":\"CM\",\"orientation\":\"v\",\"showlegend\":true,\"text\":[\"CM<br>66%\"],\"x\":[2],\"xaxis\":\"x\",\"y\":[1],\"yaxis\":\"y\",\"type\":\"scatter\",\"textposition\":\"top center\"},{\"hovertemplate\":\"ABBR=SB<br>X=%{x}<br>Y=%{y}<br>Percent=%{marker.size}<br>text=%{text}<extra></extra>\",\"legendgroup\":\"SB\",\"marker\":{\"color\":\"#9c179e\",\"size\":[46],\"sizemode\":\"area\",\"sizeref\":0.011481481481481481,\"symbol\":\"circle\"},\"mode\":\"markers+text\",\"name\":\"SB\",\"orientation\":\"v\",\"showlegend\":true,\"text\":[\"SB<br>46%\"],\"x\":[3],\"xaxis\":\"x\",\"y\":[1],\"yaxis\":\"y\",\"type\":\"scatter\",\"textposition\":\"top center\"},{\"hovertemplate\":\"ABBR=MF<br>X=%{x}<br>Y=%{y}<br>Percent=%{marker.size}<br>text=%{text}<extra></extra>\",\"legendgroup\":\"MF\",\"marker\":{\"color\":\"#ed7953\",\"size\":[42],\"sizemode\":\"area\",\"sizeref\":0.011481481481481481,\"symbol\":\"circle\"},\"mode\":\"markers+text\",\"name\":\"MF\",\"orientation\":\"v\",\"showlegend\":true,\"text\":[\"MF<br>42%\"],\"x\":[4],\"xaxis\":\"x\",\"y\":[1],\"yaxis\":\"y\",\"type\":\"scatter\",\"textposition\":\"top center\"},{\"hovertemplate\":\"ABBR=DB<br>X=%{x}<br>Y=%{y}<br>Percent=%{marker.size}<br>text=%{text}<extra></extra>\",\"legendgroup\":\"DB\",\"marker\":{\"color\":\"#9c179e\",\"size\":[32],\"sizemode\":\"area\",\"sizeref\":0.011481481481481481,\"symbol\":\"circle\"},\"mode\":\"markers+text\",\"name\":\"DB\",\"orientation\":\"v\",\"showlegend\":true,\"text\":[\"DB<br>32%\"],\"x\":[5],\"xaxis\":\"x\",\"y\":[1],\"yaxis\":\"y\",\"type\":\"scatter\",\"textposition\":\"top center\"},{\"hovertemplate\":\"ABBR=MC<br>X=%{x}<br>Y=%{y}<br>Percent=%{marker.size}<br>text=%{text}<extra></extra>\",\"legendgroup\":\"MC\",\"marker\":{\"color\":\"#ed7953\",\"size\":[22],\"sizemode\":\"area\",\"sizeref\":0.011481481481481481,\"symbol\":\"circle\"},\"mode\":\"markers+text\",\"name\":\"MC\",\"orientation\":\"v\",\"showlegend\":true,\"text\":[\"MC<br>22%\"],\"x\":[6],\"xaxis\":\"x\",\"y\":[1],\"yaxis\":\"y\",\"type\":\"scatter\",\"textposition\":\"top center\"},{\"hovertemplate\":\"ABBR=LW<br>X=%{x}<br>Y=%{y}<br>Percent=%{marker.size}<br>text=%{text}<extra></extra>\",\"legendgroup\":\"LW\",\"marker\":{\"color\":\"#9c179e\",\"size\":[12],\"sizemode\":\"area\",\"sizeref\":0.011481481481481481,\"symbol\":\"circle\"},\"mode\":\"markers+text\",\"name\":\"LW\",\"orientation\":\"v\",\"showlegend\":true,\"text\":[\"LW<br>12%\"],\"x\":[7],\"xaxis\":\"x\",\"y\":[1],\"yaxis\":\"y\",\"type\":\"scatter\",\"textposition\":\"top center\"},{\"hovertemplate\":\"ABBR=SA<br>X=%{x}<br>Y=%{y}<br>Percent=%{marker.size}<br>text=%{text}<extra></extra>\",\"legendgroup\":\"SA\",\"marker\":{\"color\":\"#ed7953\",\"size\":[4],\"sizemode\":\"area\",\"sizeref\":0.011481481481481481,\"symbol\":\"circle\"},\"mode\":\"markers+text\",\"name\":\"SA\",\"orientation\":\"v\",\"showlegend\":true,\"text\":[\"SA<br>4%\"],\"x\":[8],\"xaxis\":\"x\",\"y\":[1],\"yaxis\":\"y\",\"type\":\"scatter\",\"textposition\":\"top center\"},{\"hovertemplate\":\"ABBR=MW<br>X=%{x}<br>Y=%{y}<br>Percent=%{marker.size}<br>text=%{text}<extra></extra>\",\"legendgroup\":\"MW\",\"marker\":{\"color\":\"#9c179e\",\"size\":[3],\"sizemode\":\"area\",\"sizeref\":0.011481481481481481,\"symbol\":\"circle\"},\"mode\":\"markers+text\",\"name\":\"MW\",\"orientation\":\"v\",\"showlegend\":true,\"text\":[\"MW<br>3%\"],\"x\":[9],\"xaxis\":\"x\",\"y\":[1],\"yaxis\":\"y\",\"type\":\"scatter\",\"textposition\":\"top center\"},{\"hovertemplate\":\"ABBR=AD<br>X=%{x}<br>Y=%{y}<br>Percent=%{marker.size}<br>text=%{text}<extra></extra>\",\"legendgroup\":\"AD\",\"marker\":{\"color\":\"#ed7953\",\"size\":[0],\"sizemode\":\"area\",\"sizeref\":0.011481481481481481,\"symbol\":\"circle\"},\"mode\":\"markers+text\",\"name\":\"AD\",\"orientation\":\"v\",\"showlegend\":true,\"text\":[\"AD<br>0%\"],\"x\":[10],\"xaxis\":\"x\",\"y\":[1],\"yaxis\":\"y\",\"type\":\"scatter\",\"textposition\":\"top center\"},{\"hovertemplate\":\"ABBR=MS<br>X=%{x}<br>Y=%{y}<br>Percent=%{marker.size}<br>text=%{text}<extra></extra>\",\"legendgroup\":\"MS\",\"marker\":{\"color\":\"#9c179e\",\"size\":[0],\"sizemode\":\"area\",\"sizeref\":0.011481481481481481,\"symbol\":\"circle\"},\"mode\":\"markers+text\",\"name\":\"MS\",\"orientation\":\"v\",\"showlegend\":true,\"text\":[\"MS<br>0%\"],\"x\":[11],\"xaxis\":\"x\",\"y\":[1],\"yaxis\":\"y\",\"type\":\"scatter\",\"textposition\":\"top center\"}],                        {\"template\":{\"data\":{\"bar\":[{\"error_x\":{\"color\":\"#2a3f5f\"},\"error_y\":{\"color\":\"#2a3f5f\"},\"marker\":{\"line\":{\"color\":\"#E5ECF6\",\"width\":0.5},\"pattern\":{\"fillmode\":\"overlay\",\"size\":10,\"solidity\":0.2}},\"type\":\"bar\"}],\"barpolar\":[{\"marker\":{\"line\":{\"color\":\"#E5ECF6\",\"width\":0.5},\"pattern\":{\"fillmode\":\"overlay\",\"size\":10,\"solidity\":0.2}},\"type\":\"barpolar\"}],\"carpet\":[{\"aaxis\":{\"endlinecolor\":\"#2a3f5f\",\"gridcolor\":\"white\",\"linecolor\":\"white\",\"minorgridcolor\":\"white\",\"startlinecolor\":\"#2a3f5f\"},\"baxis\":{\"endlinecolor\":\"#2a3f5f\",\"gridcolor\":\"white\",\"linecolor\":\"white\",\"minorgridcolor\":\"white\",\"startlinecolor\":\"#2a3f5f\"},\"type\":\"carpet\"}],\"choropleth\":[{\"colorbar\":{\"outlinewidth\":0,\"ticks\":\"\"},\"type\":\"choropleth\"}],\"contour\":[{\"colorbar\":{\"outlinewidth\":0,\"ticks\":\"\"},\"colorscale\":[[0.0,\"#0d0887\"],[0.1111111111111111,\"#46039f\"],[0.2222222222222222,\"#7201a8\"],[0.3333333333333333,\"#9c179e\"],[0.4444444444444444,\"#bd3786\"],[0.5555555555555556,\"#d8576b\"],[0.6666666666666666,\"#ed7953\"],[0.7777777777777778,\"#fb9f3a\"],[0.8888888888888888,\"#fdca26\"],[1.0,\"#f0f921\"]],\"type\":\"contour\"}],\"contourcarpet\":[{\"colorbar\":{\"outlinewidth\":0,\"ticks\":\"\"},\"type\":\"contourcarpet\"}],\"heatmap\":[{\"colorbar\":{\"outlinewidth\":0,\"ticks\":\"\"},\"colorscale\":[[0.0,\"#0d0887\"],[0.1111111111111111,\"#46039f\"],[0.2222222222222222,\"#7201a8\"],[0.3333333333333333,\"#9c179e\"],[0.4444444444444444,\"#bd3786\"],[0.5555555555555556,\"#d8576b\"],[0.6666666666666666,\"#ed7953\"],[0.7777777777777778,\"#fb9f3a\"],[0.8888888888888888,\"#fdca26\"],[1.0,\"#f0f921\"]],\"type\":\"heatmap\"}],\"heatmapgl\":[{\"colorbar\":{\"outlinewidth\":0,\"ticks\":\"\"},\"colorscale\":[[0.0,\"#0d0887\"],[0.1111111111111111,\"#46039f\"],[0.2222222222222222,\"#7201a8\"],[0.3333333333333333,\"#9c179e\"],[0.4444444444444444,\"#bd3786\"],[0.5555555555555556,\"#d8576b\"],[0.6666666666666666,\"#ed7953\"],[0.7777777777777778,\"#fb9f3a\"],[0.8888888888888888,\"#fdca26\"],[1.0,\"#f0f921\"]],\"type\":\"heatmapgl\"}],\"histogram\":[{\"marker\":{\"pattern\":{\"fillmode\":\"overlay\",\"size\":10,\"solidity\":0.2}},\"type\":\"histogram\"}],\"histogram2d\":[{\"colorbar\":{\"outlinewidth\":0,\"ticks\":\"\"},\"colorscale\":[[0.0,\"#0d0887\"],[0.1111111111111111,\"#46039f\"],[0.2222222222222222,\"#7201a8\"],[0.3333333333333333,\"#9c179e\"],[0.4444444444444444,\"#bd3786\"],[0.5555555555555556,\"#d8576b\"],[0.6666666666666666,\"#ed7953\"],[0.7777777777777778,\"#fb9f3a\"],[0.8888888888888888,\"#fdca26\"],[1.0,\"#f0f921\"]],\"type\":\"histogram2d\"}],\"histogram2dcontour\":[{\"colorbar\":{\"outlinewidth\":0,\"ticks\":\"\"},\"colorscale\":[[0.0,\"#0d0887\"],[0.1111111111111111,\"#46039f\"],[0.2222222222222222,\"#7201a8\"],[0.3333333333333333,\"#9c179e\"],[0.4444444444444444,\"#bd3786\"],[0.5555555555555556,\"#d8576b\"],[0.6666666666666666,\"#ed7953\"],[0.7777777777777778,\"#fb9f3a\"],[0.8888888888888888,\"#fdca26\"],[1.0,\"#f0f921\"]],\"type\":\"histogram2dcontour\"}],\"mesh3d\":[{\"colorbar\":{\"outlinewidth\":0,\"ticks\":\"\"},\"type\":\"mesh3d\"}],\"parcoords\":[{\"line\":{\"colorbar\":{\"outlinewidth\":0,\"ticks\":\"\"}},\"type\":\"parcoords\"}],\"pie\":[{\"automargin\":true,\"type\":\"pie\"}],\"scatter\":[{\"marker\":{\"colorbar\":{\"outlinewidth\":0,\"ticks\":\"\"}},\"type\":\"scatter\"}],\"scatter3d\":[{\"line\":{\"colorbar\":{\"outlinewidth\":0,\"ticks\":\"\"}},\"marker\":{\"colorbar\":{\"outlinewidth\":0,\"ticks\":\"\"}},\"type\":\"scatter3d\"}],\"scattercarpet\":[{\"marker\":{\"colorbar\":{\"outlinewidth\":0,\"ticks\":\"\"}},\"type\":\"scattercarpet\"}],\"scattergeo\":[{\"marker\":{\"colorbar\":{\"outlinewidth\":0,\"ticks\":\"\"}},\"type\":\"scattergeo\"}],\"scattergl\":[{\"marker\":{\"colorbar\":{\"outlinewidth\":0,\"ticks\":\"\"}},\"type\":\"scattergl\"}],\"scattermapbox\":[{\"marker\":{\"colorbar\":{\"outlinewidth\":0,\"ticks\":\"\"}},\"type\":\"scattermapbox\"}],\"scatterpolar\":[{\"marker\":{\"colorbar\":{\"outlinewidth\":0,\"ticks\":\"\"}},\"type\":\"scatterpolar\"}],\"scatterpolargl\":[{\"marker\":{\"colorbar\":{\"outlinewidth\":0,\"ticks\":\"\"}},\"type\":\"scatterpolargl\"}],\"scatterternary\":[{\"marker\":{\"colorbar\":{\"outlinewidth\":0,\"ticks\":\"\"}},\"type\":\"scatterternary\"}],\"surface\":[{\"colorbar\":{\"outlinewidth\":0,\"ticks\":\"\"},\"colorscale\":[[0.0,\"#0d0887\"],[0.1111111111111111,\"#46039f\"],[0.2222222222222222,\"#7201a8\"],[0.3333333333333333,\"#9c179e\"],[0.4444444444444444,\"#bd3786\"],[0.5555555555555556,\"#d8576b\"],[0.6666666666666666,\"#ed7953\"],[0.7777777777777778,\"#fb9f3a\"],[0.8888888888888888,\"#fdca26\"],[1.0,\"#f0f921\"]],\"type\":\"surface\"}],\"table\":[{\"cells\":{\"fill\":{\"color\":\"#EBF0F8\"},\"line\":{\"color\":\"white\"}},\"header\":{\"fill\":{\"color\":\"#C8D4E3\"},\"line\":{\"color\":\"white\"}},\"type\":\"table\"}]},\"layout\":{\"annotationdefaults\":{\"arrowcolor\":\"#2a3f5f\",\"arrowhead\":0,\"arrowwidth\":1},\"autotypenumbers\":\"strict\",\"coloraxis\":{\"colorbar\":{\"outlinewidth\":0,\"ticks\":\"\"}},\"colorscale\":{\"diverging\":[[0,\"#8e0152\"],[0.1,\"#c51b7d\"],[0.2,\"#de77ae\"],[0.3,\"#f1b6da\"],[0.4,\"#fde0ef\"],[0.5,\"#f7f7f7\"],[0.6,\"#e6f5d0\"],[0.7,\"#b8e186\"],[0.8,\"#7fbc41\"],[0.9,\"#4d9221\"],[1,\"#276419\"]],\"sequential\":[[0.0,\"#0d0887\"],[0.1111111111111111,\"#46039f\"],[0.2222222222222222,\"#7201a8\"],[0.3333333333333333,\"#9c179e\"],[0.4444444444444444,\"#bd3786\"],[0.5555555555555556,\"#d8576b\"],[0.6666666666666666,\"#ed7953\"],[0.7777777777777778,\"#fb9f3a\"],[0.8888888888888888,\"#fdca26\"],[1.0,\"#f0f921\"]],\"sequentialminus\":[[0.0,\"#0d0887\"],[0.1111111111111111,\"#46039f\"],[0.2222222222222222,\"#7201a8\"],[0.3333333333333333,\"#9c179e\"],[0.4444444444444444,\"#bd3786\"],[0.5555555555555556,\"#d8576b\"],[0.6666666666666666,\"#ed7953\"],[0.7777777777777778,\"#fb9f3a\"],[0.8888888888888888,\"#fdca26\"],[1.0,\"#f0f921\"]]},\"colorway\":[\"#636efa\",\"#EF553B\",\"#00cc96\",\"#ab63fa\",\"#FFA15A\",\"#19d3f3\",\"#FF6692\",\"#B6E880\",\"#FF97FF\",\"#FECB52\"],\"font\":{\"color\":\"#2a3f5f\"},\"geo\":{\"bgcolor\":\"white\",\"lakecolor\":\"white\",\"landcolor\":\"#E5ECF6\",\"showlakes\":true,\"showland\":true,\"subunitcolor\":\"white\"},\"hoverlabel\":{\"align\":\"left\"},\"hovermode\":\"closest\",\"mapbox\":{\"style\":\"light\"},\"paper_bgcolor\":\"white\",\"plot_bgcolor\":\"#E5ECF6\",\"polar\":{\"angularaxis\":{\"gridcolor\":\"white\",\"linecolor\":\"white\",\"ticks\":\"\"},\"bgcolor\":\"#E5ECF6\",\"radialaxis\":{\"gridcolor\":\"white\",\"linecolor\":\"white\",\"ticks\":\"\"}},\"scene\":{\"xaxis\":{\"backgroundcolor\":\"#E5ECF6\",\"gridcolor\":\"white\",\"gridwidth\":2,\"linecolor\":\"white\",\"showbackground\":true,\"ticks\":\"\",\"zerolinecolor\":\"white\"},\"yaxis\":{\"backgroundcolor\":\"#E5ECF6\",\"gridcolor\":\"white\",\"gridwidth\":2,\"linecolor\":\"white\",\"showbackground\":true,\"ticks\":\"\",\"zerolinecolor\":\"white\"},\"zaxis\":{\"backgroundcolor\":\"#E5ECF6\",\"gridcolor\":\"white\",\"gridwidth\":2,\"linecolor\":\"white\",\"showbackground\":true,\"ticks\":\"\",\"zerolinecolor\":\"white\"}},\"shapedefaults\":{\"line\":{\"color\":\"#2a3f5f\"}},\"ternary\":{\"aaxis\":{\"gridcolor\":\"white\",\"linecolor\":\"white\",\"ticks\":\"\"},\"baxis\":{\"gridcolor\":\"white\",\"linecolor\":\"white\",\"ticks\":\"\"},\"bgcolor\":\"#E5ECF6\",\"caxis\":{\"gridcolor\":\"white\",\"linecolor\":\"white\",\"ticks\":\"\"}},\"title\":{\"x\":0.05},\"xaxis\":{\"automargin\":true,\"gridcolor\":\"white\",\"linecolor\":\"white\",\"ticks\":\"\",\"title\":{\"standoff\":15},\"zerolinecolor\":\"white\",\"zerolinewidth\":2},\"yaxis\":{\"automargin\":true,\"gridcolor\":\"white\",\"linecolor\":\"white\",\"ticks\":\"\",\"title\":{\"standoff\":15},\"zerolinecolor\":\"white\",\"zerolinewidth\":2}}},\"xaxis\":{\"anchor\":\"y\",\"domain\":[0.0,1.0],\"title\":{\"text\":\"X\"},\"showgrid\":false,\"zeroline\":false,\"visible\":false},\"yaxis\":{\"anchor\":\"x\",\"domain\":[0.0,1.0],\"title\":{\"text\":\"Y\"},\"showgrid\":false,\"zeroline\":false,\"visible\":false},\"legend\":{\"title\":{\"text\":\"ABBR\"},\"tracegroupgap\":0,\"itemsizing\":\"constant\"},\"margin\":{\"t\":50,\"l\":0,\"r\":0,\"b\":0},\"width\":900,\"height\":500,\"showlegend\":false,\"plot_bgcolor\":\"white\",\"paper_bgcolor\":\"white\"},                        {\"responsive\": true}                    ).then(function(){\n",
       "                            \n",
       "var gd = document.getElementById('fb25c3d9-84e2-46c7-852a-db35af50fa7a');\n",
       "var x = new MutationObserver(function (mutations, observer) {{\n",
       "        var display = window.getComputedStyle(gd).display;\n",
       "        if (!display || display === 'none') {{\n",
       "            console.log([gd, 'removed!']);\n",
       "            Plotly.purge(gd);\n",
       "            observer.disconnect();\n",
       "        }}\n",
       "}});\n",
       "\n",
       "// Listen for the removal of the full notebook cells\n",
       "var notebookContainer = gd.closest('#notebook-container');\n",
       "if (notebookContainer) {{\n",
       "    x.observe(notebookContainer, {childList: true});\n",
       "}}\n",
       "\n",
       "// Listen for the clearing of the current output cell\n",
       "var outputEl = gd.closest('.output');\n",
       "if (outputEl) {{\n",
       "    x.observe(outputEl, {childList: true});\n",
       "}}\n",
       "\n",
       "                        })                };                });            </script>        </div>"
      ]
     },
     "metadata": {},
     "output_type": "display_data"
    }
   ],
   "source": [
    "#create a laebls list for each bubble \n",
    "label = [i+'<br>' +str(k)+'%' for i,k in zip(r9.ABBR,\n",
    "                                                            r9.Percent)]\n",
    "import plotly.express as px\n",
    "fig = px.scatter(r9, x='X', y='Y',\n",
    "                 color='ABBR', color_discrete_sequence=pal_,\n",
    "                 size='Percent', text=label, size_max=90\n",
    "                )\n",
    "fig.update_layout(width=900, height=500,\n",
    "                  margin = dict(t=50, l=0, r=0, b=0),\n",
    "                  showlegend=False\n",
    "                 )\n",
    "fig.update_traces(textposition='top center')\n",
    "fig.update_xaxes(showgrid=False, zeroline=False, visible=False)\n",
    "fig.update_yaxes(showgrid=False, zeroline=False, visible=False)\n",
    "fig.update_layout({'plot_bgcolor': 'white',\n",
    "                   'paper_bgcolor': 'white'})"
   ]
  },
  {
   "cell_type": "code",
   "execution_count": 50,
   "id": "5c42050a",
   "metadata": {},
   "outputs": [
    {
     "data": {
      "text/html": [
       "<div>\n",
       "<style scoped>\n",
       "    .dataframe tbody tr th:only-of-type {\n",
       "        vertical-align: middle;\n",
       "    }\n",
       "\n",
       "    .dataframe tbody tr th {\n",
       "        vertical-align: top;\n",
       "    }\n",
       "\n",
       "    .dataframe thead th {\n",
       "        text-align: right;\n",
       "    }\n",
       "</style>\n",
       "<table border=\"1\" class=\"dataframe\">\n",
       "  <thead>\n",
       "    <tr style=\"text-align: right;\">\n",
       "      <th></th>\n",
       "      <th>RK</th>\n",
       "      <th>ABBR</th>\n",
       "      <th>W</th>\n",
       "      <th>L</th>\n",
       "      <th>T</th>\n",
       "      <th>PCT</th>\n",
       "      <th>GB</th>\n",
       "      <th>PLAYOFF %</th>\n",
       "      <th>PF</th>\n",
       "      <th>PA</th>\n",
       "      <th>STRK</th>\n",
       "      <th>MOVES</th>\n",
       "      <th>WEEK</th>\n",
       "      <th>Percent</th>\n",
       "      <th>Label_color</th>\n",
       "      <th>week</th>\n",
       "    </tr>\n",
       "  </thead>\n",
       "  <tbody>\n",
       "    <tr>\n",
       "      <th>10</th>\n",
       "      <td>11</td>\n",
       "      <td>AD</td>\n",
       "      <td>3</td>\n",
       "      <td>7</td>\n",
       "      <td>0</td>\n",
       "      <td>0.3</td>\n",
       "      <td>4</td>\n",
       "      <td>1</td>\n",
       "      <td>1107.28</td>\n",
       "      <td>1307.00</td>\n",
       "      <td>W2</td>\n",
       "      <td>9</td>\n",
       "      <td>10</td>\n",
       "      <td>1</td>\n",
       "      <td>AD</td>\n",
       "      <td>10</td>\n",
       "    </tr>\n",
       "    <tr>\n",
       "      <th>4</th>\n",
       "      <td>5</td>\n",
       "      <td>CM</td>\n",
       "      <td>6</td>\n",
       "      <td>4</td>\n",
       "      <td>0</td>\n",
       "      <td>0.6</td>\n",
       "      <td>1</td>\n",
       "      <td>49</td>\n",
       "      <td>1107.98</td>\n",
       "      <td>1102.52</td>\n",
       "      <td>L4</td>\n",
       "      <td>7</td>\n",
       "      <td>10</td>\n",
       "      <td>49</td>\n",
       "      <td>CM</td>\n",
       "      <td>10</td>\n",
       "    </tr>\n",
       "    <tr>\n",
       "      <th>0</th>\n",
       "      <td>1</td>\n",
       "      <td>CP</td>\n",
       "      <td>7</td>\n",
       "      <td>3</td>\n",
       "      <td>0</td>\n",
       "      <td>0.7</td>\n",
       "      <td>0</td>\n",
       "      <td>93</td>\n",
       "      <td>1341.70</td>\n",
       "      <td>1108.70</td>\n",
       "      <td>W3</td>\n",
       "      <td>20</td>\n",
       "      <td>10</td>\n",
       "      <td>93</td>\n",
       "      <td>CP</td>\n",
       "      <td>10</td>\n",
       "    </tr>\n",
       "    <tr>\n",
       "      <th>3</th>\n",
       "      <td>4</td>\n",
       "      <td>DB</td>\n",
       "      <td>6</td>\n",
       "      <td>4</td>\n",
       "      <td>0</td>\n",
       "      <td>0.6</td>\n",
       "      <td>1</td>\n",
       "      <td>43</td>\n",
       "      <td>1124.42</td>\n",
       "      <td>1140.30</td>\n",
       "      <td>W1</td>\n",
       "      <td>25</td>\n",
       "      <td>10</td>\n",
       "      <td>43</td>\n",
       "      <td>DB</td>\n",
       "      <td>10</td>\n",
       "    </tr>\n",
       "    <tr>\n",
       "      <th>1</th>\n",
       "      <td>2</td>\n",
       "      <td>JG</td>\n",
       "      <td>7</td>\n",
       "      <td>3</td>\n",
       "      <td>0</td>\n",
       "      <td>0.7</td>\n",
       "      <td>0</td>\n",
       "      <td>86</td>\n",
       "      <td>1148.58</td>\n",
       "      <td>1083.08</td>\n",
       "      <td>L1</td>\n",
       "      <td>6</td>\n",
       "      <td>10</td>\n",
       "      <td>86</td>\n",
       "      <td>JG</td>\n",
       "      <td>10</td>\n",
       "    </tr>\n",
       "    <tr>\n",
       "      <th>7</th>\n",
       "      <td>8</td>\n",
       "      <td>LW</td>\n",
       "      <td>4</td>\n",
       "      <td>6</td>\n",
       "      <td>0</td>\n",
       "      <td>0.4</td>\n",
       "      <td>3</td>\n",
       "      <td>5</td>\n",
       "      <td>1171.64</td>\n",
       "      <td>1173.22</td>\n",
       "      <td>L2</td>\n",
       "      <td>10</td>\n",
       "      <td>10</td>\n",
       "      <td>5</td>\n",
       "      <td>LW</td>\n",
       "      <td>10</td>\n",
       "    </tr>\n",
       "    <tr>\n",
       "      <th>5</th>\n",
       "      <td>6</td>\n",
       "      <td>MC</td>\n",
       "      <td>5</td>\n",
       "      <td>5</td>\n",
       "      <td>0</td>\n",
       "      <td>0.5</td>\n",
       "      <td>2</td>\n",
       "      <td>31</td>\n",
       "      <td>1377.80</td>\n",
       "      <td>1201.78</td>\n",
       "      <td>W1</td>\n",
       "      <td>13</td>\n",
       "      <td>10</td>\n",
       "      <td>31</td>\n",
       "      <td>MC</td>\n",
       "      <td>10</td>\n",
       "    </tr>\n",
       "    <tr>\n",
       "      <th>2</th>\n",
       "      <td>3</td>\n",
       "      <td>MF</td>\n",
       "      <td>6</td>\n",
       "      <td>4</td>\n",
       "      <td>0</td>\n",
       "      <td>0.6</td>\n",
       "      <td>1</td>\n",
       "      <td>61</td>\n",
       "      <td>1277.20</td>\n",
       "      <td>1145.72</td>\n",
       "      <td>W1</td>\n",
       "      <td>15</td>\n",
       "      <td>10</td>\n",
       "      <td>61</td>\n",
       "      <td>MF</td>\n",
       "      <td>10</td>\n",
       "    </tr>\n",
       "    <tr>\n",
       "      <th>11</th>\n",
       "      <td>12</td>\n",
       "      <td>MS</td>\n",
       "      <td>3</td>\n",
       "      <td>7</td>\n",
       "      <td>0</td>\n",
       "      <td>0.3</td>\n",
       "      <td>4</td>\n",
       "      <td>1</td>\n",
       "      <td>1089.92</td>\n",
       "      <td>1160.40</td>\n",
       "      <td>W2</td>\n",
       "      <td>13</td>\n",
       "      <td>10</td>\n",
       "      <td>1</td>\n",
       "      <td>MS</td>\n",
       "      <td>10</td>\n",
       "    </tr>\n",
       "    <tr>\n",
       "      <th>8</th>\n",
       "      <td>9</td>\n",
       "      <td>MW</td>\n",
       "      <td>4</td>\n",
       "      <td>6</td>\n",
       "      <td>0</td>\n",
       "      <td>0.4</td>\n",
       "      <td>3</td>\n",
       "      <td>1</td>\n",
       "      <td>1025.76</td>\n",
       "      <td>1204.68</td>\n",
       "      <td>L1</td>\n",
       "      <td>10</td>\n",
       "      <td>10</td>\n",
       "      <td>1</td>\n",
       "      <td>MW</td>\n",
       "      <td>10</td>\n",
       "    </tr>\n",
       "    <tr>\n",
       "      <th>9</th>\n",
       "      <td>10</td>\n",
       "      <td>SA</td>\n",
       "      <td>4</td>\n",
       "      <td>6</td>\n",
       "      <td>0</td>\n",
       "      <td>0.4</td>\n",
       "      <td>3</td>\n",
       "      <td>1</td>\n",
       "      <td>990.74</td>\n",
       "      <td>1153.62</td>\n",
       "      <td>L1</td>\n",
       "      <td>6</td>\n",
       "      <td>10</td>\n",
       "      <td>1</td>\n",
       "      <td>SA</td>\n",
       "      <td>10</td>\n",
       "    </tr>\n",
       "    <tr>\n",
       "      <th>6</th>\n",
       "      <td>7</td>\n",
       "      <td>SB</td>\n",
       "      <td>5</td>\n",
       "      <td>5</td>\n",
       "      <td>0</td>\n",
       "      <td>0.5</td>\n",
       "      <td>2</td>\n",
       "      <td>31</td>\n",
       "      <td>1256.40</td>\n",
       "      <td>1238.40</td>\n",
       "      <td>L2</td>\n",
       "      <td>6</td>\n",
       "      <td>10</td>\n",
       "      <td>31</td>\n",
       "      <td>SB</td>\n",
       "      <td>10</td>\n",
       "    </tr>\n",
       "  </tbody>\n",
       "</table>\n",
       "</div>"
      ],
      "text/plain": [
       "    RK ABBR  W  L  T  PCT  GB  PLAYOFF %       PF       PA STRK  MOVES  WEEK  \\\n",
       "10  11   AD  3  7  0  0.3   4          1  1107.28  1307.00   W2      9    10   \n",
       "4    5   CM  6  4  0  0.6   1         49  1107.98  1102.52   L4      7    10   \n",
       "0    1   CP  7  3  0  0.7   0         93  1341.70  1108.70   W3     20    10   \n",
       "3    4   DB  6  4  0  0.6   1         43  1124.42  1140.30   W1     25    10   \n",
       "1    2   JG  7  3  0  0.7   0         86  1148.58  1083.08   L1      6    10   \n",
       "7    8   LW  4  6  0  0.4   3          5  1171.64  1173.22   L2     10    10   \n",
       "5    6   MC  5  5  0  0.5   2         31  1377.80  1201.78   W1     13    10   \n",
       "2    3   MF  6  4  0  0.6   1         61  1277.20  1145.72   W1     15    10   \n",
       "11  12   MS  3  7  0  0.3   4          1  1089.92  1160.40   W2     13    10   \n",
       "8    9   MW  4  6  0  0.4   3          1  1025.76  1204.68   L1     10    10   \n",
       "9   10   SA  4  6  0  0.4   3          1   990.74  1153.62   L1      6    10   \n",
       "6    7   SB  5  5  0  0.5   2         31  1256.40  1238.40   L2      6    10   \n",
       "\n",
       "    Percent Label_color  week  \n",
       "10        1          AD    10  \n",
       "4        49          CM    10  \n",
       "0        93          CP    10  \n",
       "3        43          DB    10  \n",
       "1        86          JG    10  \n",
       "7         5          LW    10  \n",
       "5        31          MC    10  \n",
       "2        61          MF    10  \n",
       "11        1          MS    10  \n",
       "8         1          MW    10  \n",
       "9         1          SA    10  \n",
       "6        31          SB    10  "
      ]
     },
     "execution_count": 50,
     "metadata": {},
     "output_type": "execute_result"
    }
   ],
   "source": [
    "r10 = result.query('WEEK == 10')\n",
    "r10"
   ]
  },
  {
   "cell_type": "code",
   "execution_count": 51,
   "id": "7453cb44",
   "metadata": {},
   "outputs": [],
   "source": [
    "r10 = r10.reset_index().sort_values('Percent', ascending=False)"
   ]
  },
  {
   "cell_type": "code",
   "execution_count": 52,
   "id": "e89d2e87",
   "metadata": {},
   "outputs": [
    {
     "data": {
      "text/html": [
       "<div>\n",
       "<style scoped>\n",
       "    .dataframe tbody tr th:only-of-type {\n",
       "        vertical-align: middle;\n",
       "    }\n",
       "\n",
       "    .dataframe tbody tr th {\n",
       "        vertical-align: top;\n",
       "    }\n",
       "\n",
       "    .dataframe thead th {\n",
       "        text-align: right;\n",
       "    }\n",
       "</style>\n",
       "<table border=\"1\" class=\"dataframe\">\n",
       "  <thead>\n",
       "    <tr style=\"text-align: right;\">\n",
       "      <th></th>\n",
       "      <th>index</th>\n",
       "      <th>RK</th>\n",
       "      <th>ABBR</th>\n",
       "      <th>W</th>\n",
       "      <th>L</th>\n",
       "      <th>T</th>\n",
       "      <th>PCT</th>\n",
       "      <th>GB</th>\n",
       "      <th>PLAYOFF %</th>\n",
       "      <th>PF</th>\n",
       "      <th>PA</th>\n",
       "      <th>STRK</th>\n",
       "      <th>MOVES</th>\n",
       "      <th>WEEK</th>\n",
       "      <th>Percent</th>\n",
       "      <th>Label_color</th>\n",
       "      <th>week</th>\n",
       "      <th>Y</th>\n",
       "      <th>X</th>\n",
       "    </tr>\n",
       "  </thead>\n",
       "  <tbody>\n",
       "    <tr>\n",
       "      <th>2</th>\n",
       "      <td>0</td>\n",
       "      <td>1</td>\n",
       "      <td>CP</td>\n",
       "      <td>7</td>\n",
       "      <td>3</td>\n",
       "      <td>0</td>\n",
       "      <td>0.7</td>\n",
       "      <td>0</td>\n",
       "      <td>93</td>\n",
       "      <td>1341.70</td>\n",
       "      <td>1108.70</td>\n",
       "      <td>W3</td>\n",
       "      <td>20</td>\n",
       "      <td>10</td>\n",
       "      <td>93</td>\n",
       "      <td>CP</td>\n",
       "      <td>10</td>\n",
       "      <td>1</td>\n",
       "      <td>0</td>\n",
       "    </tr>\n",
       "    <tr>\n",
       "      <th>4</th>\n",
       "      <td>1</td>\n",
       "      <td>2</td>\n",
       "      <td>JG</td>\n",
       "      <td>7</td>\n",
       "      <td>3</td>\n",
       "      <td>0</td>\n",
       "      <td>0.7</td>\n",
       "      <td>0</td>\n",
       "      <td>86</td>\n",
       "      <td>1148.58</td>\n",
       "      <td>1083.08</td>\n",
       "      <td>L1</td>\n",
       "      <td>6</td>\n",
       "      <td>10</td>\n",
       "      <td>86</td>\n",
       "      <td>JG</td>\n",
       "      <td>10</td>\n",
       "      <td>1</td>\n",
       "      <td>1</td>\n",
       "    </tr>\n",
       "    <tr>\n",
       "      <th>7</th>\n",
       "      <td>2</td>\n",
       "      <td>3</td>\n",
       "      <td>MF</td>\n",
       "      <td>6</td>\n",
       "      <td>4</td>\n",
       "      <td>0</td>\n",
       "      <td>0.6</td>\n",
       "      <td>1</td>\n",
       "      <td>61</td>\n",
       "      <td>1277.20</td>\n",
       "      <td>1145.72</td>\n",
       "      <td>W1</td>\n",
       "      <td>15</td>\n",
       "      <td>10</td>\n",
       "      <td>61</td>\n",
       "      <td>MF</td>\n",
       "      <td>10</td>\n",
       "      <td>1</td>\n",
       "      <td>2</td>\n",
       "    </tr>\n",
       "    <tr>\n",
       "      <th>1</th>\n",
       "      <td>4</td>\n",
       "      <td>5</td>\n",
       "      <td>CM</td>\n",
       "      <td>6</td>\n",
       "      <td>4</td>\n",
       "      <td>0</td>\n",
       "      <td>0.6</td>\n",
       "      <td>1</td>\n",
       "      <td>49</td>\n",
       "      <td>1107.98</td>\n",
       "      <td>1102.52</td>\n",
       "      <td>L4</td>\n",
       "      <td>7</td>\n",
       "      <td>10</td>\n",
       "      <td>49</td>\n",
       "      <td>CM</td>\n",
       "      <td>10</td>\n",
       "      <td>1</td>\n",
       "      <td>3</td>\n",
       "    </tr>\n",
       "    <tr>\n",
       "      <th>3</th>\n",
       "      <td>3</td>\n",
       "      <td>4</td>\n",
       "      <td>DB</td>\n",
       "      <td>6</td>\n",
       "      <td>4</td>\n",
       "      <td>0</td>\n",
       "      <td>0.6</td>\n",
       "      <td>1</td>\n",
       "      <td>43</td>\n",
       "      <td>1124.42</td>\n",
       "      <td>1140.30</td>\n",
       "      <td>W1</td>\n",
       "      <td>25</td>\n",
       "      <td>10</td>\n",
       "      <td>43</td>\n",
       "      <td>DB</td>\n",
       "      <td>10</td>\n",
       "      <td>1</td>\n",
       "      <td>4</td>\n",
       "    </tr>\n",
       "    <tr>\n",
       "      <th>6</th>\n",
       "      <td>5</td>\n",
       "      <td>6</td>\n",
       "      <td>MC</td>\n",
       "      <td>5</td>\n",
       "      <td>5</td>\n",
       "      <td>0</td>\n",
       "      <td>0.5</td>\n",
       "      <td>2</td>\n",
       "      <td>31</td>\n",
       "      <td>1377.80</td>\n",
       "      <td>1201.78</td>\n",
       "      <td>W1</td>\n",
       "      <td>13</td>\n",
       "      <td>10</td>\n",
       "      <td>31</td>\n",
       "      <td>MC</td>\n",
       "      <td>10</td>\n",
       "      <td>1</td>\n",
       "      <td>5</td>\n",
       "    </tr>\n",
       "    <tr>\n",
       "      <th>11</th>\n",
       "      <td>6</td>\n",
       "      <td>7</td>\n",
       "      <td>SB</td>\n",
       "      <td>5</td>\n",
       "      <td>5</td>\n",
       "      <td>0</td>\n",
       "      <td>0.5</td>\n",
       "      <td>2</td>\n",
       "      <td>31</td>\n",
       "      <td>1256.40</td>\n",
       "      <td>1238.40</td>\n",
       "      <td>L2</td>\n",
       "      <td>6</td>\n",
       "      <td>10</td>\n",
       "      <td>31</td>\n",
       "      <td>SB</td>\n",
       "      <td>10</td>\n",
       "      <td>1</td>\n",
       "      <td>6</td>\n",
       "    </tr>\n",
       "    <tr>\n",
       "      <th>5</th>\n",
       "      <td>7</td>\n",
       "      <td>8</td>\n",
       "      <td>LW</td>\n",
       "      <td>4</td>\n",
       "      <td>6</td>\n",
       "      <td>0</td>\n",
       "      <td>0.4</td>\n",
       "      <td>3</td>\n",
       "      <td>5</td>\n",
       "      <td>1171.64</td>\n",
       "      <td>1173.22</td>\n",
       "      <td>L2</td>\n",
       "      <td>10</td>\n",
       "      <td>10</td>\n",
       "      <td>5</td>\n",
       "      <td>LW</td>\n",
       "      <td>10</td>\n",
       "      <td>1</td>\n",
       "      <td>7</td>\n",
       "    </tr>\n",
       "    <tr>\n",
       "      <th>0</th>\n",
       "      <td>10</td>\n",
       "      <td>11</td>\n",
       "      <td>AD</td>\n",
       "      <td>3</td>\n",
       "      <td>7</td>\n",
       "      <td>0</td>\n",
       "      <td>0.3</td>\n",
       "      <td>4</td>\n",
       "      <td>1</td>\n",
       "      <td>1107.28</td>\n",
       "      <td>1307.00</td>\n",
       "      <td>W2</td>\n",
       "      <td>9</td>\n",
       "      <td>10</td>\n",
       "      <td>1</td>\n",
       "      <td>AD</td>\n",
       "      <td>10</td>\n",
       "      <td>1</td>\n",
       "      <td>8</td>\n",
       "    </tr>\n",
       "    <tr>\n",
       "      <th>8</th>\n",
       "      <td>11</td>\n",
       "      <td>12</td>\n",
       "      <td>MS</td>\n",
       "      <td>3</td>\n",
       "      <td>7</td>\n",
       "      <td>0</td>\n",
       "      <td>0.3</td>\n",
       "      <td>4</td>\n",
       "      <td>1</td>\n",
       "      <td>1089.92</td>\n",
       "      <td>1160.40</td>\n",
       "      <td>W2</td>\n",
       "      <td>13</td>\n",
       "      <td>10</td>\n",
       "      <td>1</td>\n",
       "      <td>MS</td>\n",
       "      <td>10</td>\n",
       "      <td>1</td>\n",
       "      <td>9</td>\n",
       "    </tr>\n",
       "    <tr>\n",
       "      <th>9</th>\n",
       "      <td>8</td>\n",
       "      <td>9</td>\n",
       "      <td>MW</td>\n",
       "      <td>4</td>\n",
       "      <td>6</td>\n",
       "      <td>0</td>\n",
       "      <td>0.4</td>\n",
       "      <td>3</td>\n",
       "      <td>1</td>\n",
       "      <td>1025.76</td>\n",
       "      <td>1204.68</td>\n",
       "      <td>L1</td>\n",
       "      <td>10</td>\n",
       "      <td>10</td>\n",
       "      <td>1</td>\n",
       "      <td>MW</td>\n",
       "      <td>10</td>\n",
       "      <td>1</td>\n",
       "      <td>10</td>\n",
       "    </tr>\n",
       "    <tr>\n",
       "      <th>10</th>\n",
       "      <td>9</td>\n",
       "      <td>10</td>\n",
       "      <td>SA</td>\n",
       "      <td>4</td>\n",
       "      <td>6</td>\n",
       "      <td>0</td>\n",
       "      <td>0.4</td>\n",
       "      <td>3</td>\n",
       "      <td>1</td>\n",
       "      <td>990.74</td>\n",
       "      <td>1153.62</td>\n",
       "      <td>L1</td>\n",
       "      <td>6</td>\n",
       "      <td>10</td>\n",
       "      <td>1</td>\n",
       "      <td>SA</td>\n",
       "      <td>10</td>\n",
       "      <td>1</td>\n",
       "      <td>11</td>\n",
       "    </tr>\n",
       "  </tbody>\n",
       "</table>\n",
       "</div>"
      ],
      "text/plain": [
       "    index  RK ABBR  W  L  T  PCT  GB  PLAYOFF %       PF       PA STRK  MOVES  \\\n",
       "2       0   1   CP  7  3  0  0.7   0         93  1341.70  1108.70   W3     20   \n",
       "4       1   2   JG  7  3  0  0.7   0         86  1148.58  1083.08   L1      6   \n",
       "7       2   3   MF  6  4  0  0.6   1         61  1277.20  1145.72   W1     15   \n",
       "1       4   5   CM  6  4  0  0.6   1         49  1107.98  1102.52   L4      7   \n",
       "3       3   4   DB  6  4  0  0.6   1         43  1124.42  1140.30   W1     25   \n",
       "6       5   6   MC  5  5  0  0.5   2         31  1377.80  1201.78   W1     13   \n",
       "11      6   7   SB  5  5  0  0.5   2         31  1256.40  1238.40   L2      6   \n",
       "5       7   8   LW  4  6  0  0.4   3          5  1171.64  1173.22   L2     10   \n",
       "0      10  11   AD  3  7  0  0.3   4          1  1107.28  1307.00   W2      9   \n",
       "8      11  12   MS  3  7  0  0.3   4          1  1089.92  1160.40   W2     13   \n",
       "9       8   9   MW  4  6  0  0.4   3          1  1025.76  1204.68   L1     10   \n",
       "10      9  10   SA  4  6  0  0.4   3          1   990.74  1153.62   L1      6   \n",
       "\n",
       "    WEEK  Percent Label_color  week  Y   X  \n",
       "2     10       93          CP    10  1   0  \n",
       "4     10       86          JG    10  1   1  \n",
       "7     10       61          MF    10  1   2  \n",
       "1     10       49          CM    10  1   3  \n",
       "3     10       43          DB    10  1   4  \n",
       "6     10       31          MC    10  1   5  \n",
       "11    10       31          SB    10  1   6  \n",
       "5     10        5          LW    10  1   7  \n",
       "0     10        1          AD    10  1   8  \n",
       "8     10        1          MS    10  1   9  \n",
       "9     10        1          MW    10  1  10  \n",
       "10    10        1          SA    10  1  11  "
      ]
     },
     "execution_count": 52,
     "metadata": {},
     "output_type": "execute_result"
    }
   ],
   "source": [
    "r10['Y'] = [1]*len(r10)\n",
    "list_x = list(range(0,len(r10)))\n",
    "r10['X'] = list_x\n",
    "r10"
   ]
  },
  {
   "cell_type": "code",
   "execution_count": 53,
   "id": "794ef122",
   "metadata": {},
   "outputs": [
    {
     "data": {
      "application/vnd.plotly.v1+json": {
       "config": {
        "plotlyServerURL": "https://plot.ly"
       },
       "data": [
        {
         "hovertemplate": "ABBR=CP<br>X=%{x}<br>Y=%{y}<br>Percent=%{marker.size}<br>text=%{text}<extra></extra>",
         "legendgroup": "CP",
         "marker": {
          "color": "#ed7953",
          "size": [
           93
          ],
          "sizemode": "area",
          "sizeref": 0.011481481481481481,
          "symbol": "circle"
         },
         "mode": "markers+text",
         "name": "CP",
         "orientation": "v",
         "showlegend": true,
         "text": [
          "CP<br>93%"
         ],
         "textposition": "top center",
         "type": "scatter",
         "x": [
          0
         ],
         "xaxis": "x",
         "y": [
          1
         ],
         "yaxis": "y"
        },
        {
         "hovertemplate": "ABBR=JG<br>X=%{x}<br>Y=%{y}<br>Percent=%{marker.size}<br>text=%{text}<extra></extra>",
         "legendgroup": "JG",
         "marker": {
          "color": "#9c179e",
          "size": [
           86
          ],
          "sizemode": "area",
          "sizeref": 0.011481481481481481,
          "symbol": "circle"
         },
         "mode": "markers+text",
         "name": "JG",
         "orientation": "v",
         "showlegend": true,
         "text": [
          "JG<br>86%"
         ],
         "textposition": "top center",
         "type": "scatter",
         "x": [
          1
         ],
         "xaxis": "x",
         "y": [
          1
         ],
         "yaxis": "y"
        },
        {
         "hovertemplate": "ABBR=MF<br>X=%{x}<br>Y=%{y}<br>Percent=%{marker.size}<br>text=%{text}<extra></extra>",
         "legendgroup": "MF",
         "marker": {
          "color": "#ed7953",
          "size": [
           61
          ],
          "sizemode": "area",
          "sizeref": 0.011481481481481481,
          "symbol": "circle"
         },
         "mode": "markers+text",
         "name": "MF",
         "orientation": "v",
         "showlegend": true,
         "text": [
          "MF<br>61%"
         ],
         "textposition": "top center",
         "type": "scatter",
         "x": [
          2
         ],
         "xaxis": "x",
         "y": [
          1
         ],
         "yaxis": "y"
        },
        {
         "hovertemplate": "ABBR=CM<br>X=%{x}<br>Y=%{y}<br>Percent=%{marker.size}<br>text=%{text}<extra></extra>",
         "legendgroup": "CM",
         "marker": {
          "color": "#9c179e",
          "size": [
           49
          ],
          "sizemode": "area",
          "sizeref": 0.011481481481481481,
          "symbol": "circle"
         },
         "mode": "markers+text",
         "name": "CM",
         "orientation": "v",
         "showlegend": true,
         "text": [
          "CM<br>49%"
         ],
         "textposition": "top center",
         "type": "scatter",
         "x": [
          3
         ],
         "xaxis": "x",
         "y": [
          1
         ],
         "yaxis": "y"
        },
        {
         "hovertemplate": "ABBR=DB<br>X=%{x}<br>Y=%{y}<br>Percent=%{marker.size}<br>text=%{text}<extra></extra>",
         "legendgroup": "DB",
         "marker": {
          "color": "#ed7953",
          "size": [
           43
          ],
          "sizemode": "area",
          "sizeref": 0.011481481481481481,
          "symbol": "circle"
         },
         "mode": "markers+text",
         "name": "DB",
         "orientation": "v",
         "showlegend": true,
         "text": [
          "DB<br>43%"
         ],
         "textposition": "top center",
         "type": "scatter",
         "x": [
          4
         ],
         "xaxis": "x",
         "y": [
          1
         ],
         "yaxis": "y"
        },
        {
         "hovertemplate": "ABBR=MC<br>X=%{x}<br>Y=%{y}<br>Percent=%{marker.size}<br>text=%{text}<extra></extra>",
         "legendgroup": "MC",
         "marker": {
          "color": "#9c179e",
          "size": [
           31
          ],
          "sizemode": "area",
          "sizeref": 0.011481481481481481,
          "symbol": "circle"
         },
         "mode": "markers+text",
         "name": "MC",
         "orientation": "v",
         "showlegend": true,
         "text": [
          "MC<br>31%"
         ],
         "textposition": "top center",
         "type": "scatter",
         "x": [
          5
         ],
         "xaxis": "x",
         "y": [
          1
         ],
         "yaxis": "y"
        },
        {
         "hovertemplate": "ABBR=SB<br>X=%{x}<br>Y=%{y}<br>Percent=%{marker.size}<br>text=%{text}<extra></extra>",
         "legendgroup": "SB",
         "marker": {
          "color": "#ed7953",
          "size": [
           31
          ],
          "sizemode": "area",
          "sizeref": 0.011481481481481481,
          "symbol": "circle"
         },
         "mode": "markers+text",
         "name": "SB",
         "orientation": "v",
         "showlegend": true,
         "text": [
          "SB<br>31%"
         ],
         "textposition": "top center",
         "type": "scatter",
         "x": [
          6
         ],
         "xaxis": "x",
         "y": [
          1
         ],
         "yaxis": "y"
        },
        {
         "hovertemplate": "ABBR=LW<br>X=%{x}<br>Y=%{y}<br>Percent=%{marker.size}<br>text=%{text}<extra></extra>",
         "legendgroup": "LW",
         "marker": {
          "color": "#9c179e",
          "size": [
           5
          ],
          "sizemode": "area",
          "sizeref": 0.011481481481481481,
          "symbol": "circle"
         },
         "mode": "markers+text",
         "name": "LW",
         "orientation": "v",
         "showlegend": true,
         "text": [
          "LW<br>5%"
         ],
         "textposition": "top center",
         "type": "scatter",
         "x": [
          7
         ],
         "xaxis": "x",
         "y": [
          1
         ],
         "yaxis": "y"
        },
        {
         "hovertemplate": "ABBR=AD<br>X=%{x}<br>Y=%{y}<br>Percent=%{marker.size}<br>text=%{text}<extra></extra>",
         "legendgroup": "AD",
         "marker": {
          "color": "#ed7953",
          "size": [
           1
          ],
          "sizemode": "area",
          "sizeref": 0.011481481481481481,
          "symbol": "circle"
         },
         "mode": "markers+text",
         "name": "AD",
         "orientation": "v",
         "showlegend": true,
         "text": [
          "AD<br>1%"
         ],
         "textposition": "top center",
         "type": "scatter",
         "x": [
          8
         ],
         "xaxis": "x",
         "y": [
          1
         ],
         "yaxis": "y"
        },
        {
         "hovertemplate": "ABBR=MS<br>X=%{x}<br>Y=%{y}<br>Percent=%{marker.size}<br>text=%{text}<extra></extra>",
         "legendgroup": "MS",
         "marker": {
          "color": "#9c179e",
          "size": [
           1
          ],
          "sizemode": "area",
          "sizeref": 0.011481481481481481,
          "symbol": "circle"
         },
         "mode": "markers+text",
         "name": "MS",
         "orientation": "v",
         "showlegend": true,
         "text": [
          "MS<br>1%"
         ],
         "textposition": "top center",
         "type": "scatter",
         "x": [
          9
         ],
         "xaxis": "x",
         "y": [
          1
         ],
         "yaxis": "y"
        },
        {
         "hovertemplate": "ABBR=MW<br>X=%{x}<br>Y=%{y}<br>Percent=%{marker.size}<br>text=%{text}<extra></extra>",
         "legendgroup": "MW",
         "marker": {
          "color": "#ed7953",
          "size": [
           1
          ],
          "sizemode": "area",
          "sizeref": 0.011481481481481481,
          "symbol": "circle"
         },
         "mode": "markers+text",
         "name": "MW",
         "orientation": "v",
         "showlegend": true,
         "text": [
          "MW<br>1%"
         ],
         "textposition": "top center",
         "type": "scatter",
         "x": [
          10
         ],
         "xaxis": "x",
         "y": [
          1
         ],
         "yaxis": "y"
        },
        {
         "hovertemplate": "ABBR=SA<br>X=%{x}<br>Y=%{y}<br>Percent=%{marker.size}<br>text=%{text}<extra></extra>",
         "legendgroup": "SA",
         "marker": {
          "color": "#9c179e",
          "size": [
           1
          ],
          "sizemode": "area",
          "sizeref": 0.011481481481481481,
          "symbol": "circle"
         },
         "mode": "markers+text",
         "name": "SA",
         "orientation": "v",
         "showlegend": true,
         "text": [
          "SA<br>1%"
         ],
         "textposition": "top center",
         "type": "scatter",
         "x": [
          11
         ],
         "xaxis": "x",
         "y": [
          1
         ],
         "yaxis": "y"
        }
       ],
       "layout": {
        "height": 500,
        "legend": {
         "itemsizing": "constant",
         "title": {
          "text": "ABBR"
         },
         "tracegroupgap": 0
        },
        "margin": {
         "b": 0,
         "l": 0,
         "r": 0,
         "t": 50
        },
        "paper_bgcolor": "white",
        "plot_bgcolor": "white",
        "showlegend": false,
        "template": {
         "data": {
          "bar": [
           {
            "error_x": {
             "color": "#2a3f5f"
            },
            "error_y": {
             "color": "#2a3f5f"
            },
            "marker": {
             "line": {
              "color": "#E5ECF6",
              "width": 0.5
             },
             "pattern": {
              "fillmode": "overlay",
              "size": 10,
              "solidity": 0.2
             }
            },
            "type": "bar"
           }
          ],
          "barpolar": [
           {
            "marker": {
             "line": {
              "color": "#E5ECF6",
              "width": 0.5
             },
             "pattern": {
              "fillmode": "overlay",
              "size": 10,
              "solidity": 0.2
             }
            },
            "type": "barpolar"
           }
          ],
          "carpet": [
           {
            "aaxis": {
             "endlinecolor": "#2a3f5f",
             "gridcolor": "white",
             "linecolor": "white",
             "minorgridcolor": "white",
             "startlinecolor": "#2a3f5f"
            },
            "baxis": {
             "endlinecolor": "#2a3f5f",
             "gridcolor": "white",
             "linecolor": "white",
             "minorgridcolor": "white",
             "startlinecolor": "#2a3f5f"
            },
            "type": "carpet"
           }
          ],
          "choropleth": [
           {
            "colorbar": {
             "outlinewidth": 0,
             "ticks": ""
            },
            "type": "choropleth"
           }
          ],
          "contour": [
           {
            "colorbar": {
             "outlinewidth": 0,
             "ticks": ""
            },
            "colorscale": [
             [
              0,
              "#0d0887"
             ],
             [
              0.1111111111111111,
              "#46039f"
             ],
             [
              0.2222222222222222,
              "#7201a8"
             ],
             [
              0.3333333333333333,
              "#9c179e"
             ],
             [
              0.4444444444444444,
              "#bd3786"
             ],
             [
              0.5555555555555556,
              "#d8576b"
             ],
             [
              0.6666666666666666,
              "#ed7953"
             ],
             [
              0.7777777777777778,
              "#fb9f3a"
             ],
             [
              0.8888888888888888,
              "#fdca26"
             ],
             [
              1,
              "#f0f921"
             ]
            ],
            "type": "contour"
           }
          ],
          "contourcarpet": [
           {
            "colorbar": {
             "outlinewidth": 0,
             "ticks": ""
            },
            "type": "contourcarpet"
           }
          ],
          "heatmap": [
           {
            "colorbar": {
             "outlinewidth": 0,
             "ticks": ""
            },
            "colorscale": [
             [
              0,
              "#0d0887"
             ],
             [
              0.1111111111111111,
              "#46039f"
             ],
             [
              0.2222222222222222,
              "#7201a8"
             ],
             [
              0.3333333333333333,
              "#9c179e"
             ],
             [
              0.4444444444444444,
              "#bd3786"
             ],
             [
              0.5555555555555556,
              "#d8576b"
             ],
             [
              0.6666666666666666,
              "#ed7953"
             ],
             [
              0.7777777777777778,
              "#fb9f3a"
             ],
             [
              0.8888888888888888,
              "#fdca26"
             ],
             [
              1,
              "#f0f921"
             ]
            ],
            "type": "heatmap"
           }
          ],
          "heatmapgl": [
           {
            "colorbar": {
             "outlinewidth": 0,
             "ticks": ""
            },
            "colorscale": [
             [
              0,
              "#0d0887"
             ],
             [
              0.1111111111111111,
              "#46039f"
             ],
             [
              0.2222222222222222,
              "#7201a8"
             ],
             [
              0.3333333333333333,
              "#9c179e"
             ],
             [
              0.4444444444444444,
              "#bd3786"
             ],
             [
              0.5555555555555556,
              "#d8576b"
             ],
             [
              0.6666666666666666,
              "#ed7953"
             ],
             [
              0.7777777777777778,
              "#fb9f3a"
             ],
             [
              0.8888888888888888,
              "#fdca26"
             ],
             [
              1,
              "#f0f921"
             ]
            ],
            "type": "heatmapgl"
           }
          ],
          "histogram": [
           {
            "marker": {
             "pattern": {
              "fillmode": "overlay",
              "size": 10,
              "solidity": 0.2
             }
            },
            "type": "histogram"
           }
          ],
          "histogram2d": [
           {
            "colorbar": {
             "outlinewidth": 0,
             "ticks": ""
            },
            "colorscale": [
             [
              0,
              "#0d0887"
             ],
             [
              0.1111111111111111,
              "#46039f"
             ],
             [
              0.2222222222222222,
              "#7201a8"
             ],
             [
              0.3333333333333333,
              "#9c179e"
             ],
             [
              0.4444444444444444,
              "#bd3786"
             ],
             [
              0.5555555555555556,
              "#d8576b"
             ],
             [
              0.6666666666666666,
              "#ed7953"
             ],
             [
              0.7777777777777778,
              "#fb9f3a"
             ],
             [
              0.8888888888888888,
              "#fdca26"
             ],
             [
              1,
              "#f0f921"
             ]
            ],
            "type": "histogram2d"
           }
          ],
          "histogram2dcontour": [
           {
            "colorbar": {
             "outlinewidth": 0,
             "ticks": ""
            },
            "colorscale": [
             [
              0,
              "#0d0887"
             ],
             [
              0.1111111111111111,
              "#46039f"
             ],
             [
              0.2222222222222222,
              "#7201a8"
             ],
             [
              0.3333333333333333,
              "#9c179e"
             ],
             [
              0.4444444444444444,
              "#bd3786"
             ],
             [
              0.5555555555555556,
              "#d8576b"
             ],
             [
              0.6666666666666666,
              "#ed7953"
             ],
             [
              0.7777777777777778,
              "#fb9f3a"
             ],
             [
              0.8888888888888888,
              "#fdca26"
             ],
             [
              1,
              "#f0f921"
             ]
            ],
            "type": "histogram2dcontour"
           }
          ],
          "mesh3d": [
           {
            "colorbar": {
             "outlinewidth": 0,
             "ticks": ""
            },
            "type": "mesh3d"
           }
          ],
          "parcoords": [
           {
            "line": {
             "colorbar": {
              "outlinewidth": 0,
              "ticks": ""
             }
            },
            "type": "parcoords"
           }
          ],
          "pie": [
           {
            "automargin": true,
            "type": "pie"
           }
          ],
          "scatter": [
           {
            "marker": {
             "colorbar": {
              "outlinewidth": 0,
              "ticks": ""
             }
            },
            "type": "scatter"
           }
          ],
          "scatter3d": [
           {
            "line": {
             "colorbar": {
              "outlinewidth": 0,
              "ticks": ""
             }
            },
            "marker": {
             "colorbar": {
              "outlinewidth": 0,
              "ticks": ""
             }
            },
            "type": "scatter3d"
           }
          ],
          "scattercarpet": [
           {
            "marker": {
             "colorbar": {
              "outlinewidth": 0,
              "ticks": ""
             }
            },
            "type": "scattercarpet"
           }
          ],
          "scattergeo": [
           {
            "marker": {
             "colorbar": {
              "outlinewidth": 0,
              "ticks": ""
             }
            },
            "type": "scattergeo"
           }
          ],
          "scattergl": [
           {
            "marker": {
             "colorbar": {
              "outlinewidth": 0,
              "ticks": ""
             }
            },
            "type": "scattergl"
           }
          ],
          "scattermapbox": [
           {
            "marker": {
             "colorbar": {
              "outlinewidth": 0,
              "ticks": ""
             }
            },
            "type": "scattermapbox"
           }
          ],
          "scatterpolar": [
           {
            "marker": {
             "colorbar": {
              "outlinewidth": 0,
              "ticks": ""
             }
            },
            "type": "scatterpolar"
           }
          ],
          "scatterpolargl": [
           {
            "marker": {
             "colorbar": {
              "outlinewidth": 0,
              "ticks": ""
             }
            },
            "type": "scatterpolargl"
           }
          ],
          "scatterternary": [
           {
            "marker": {
             "colorbar": {
              "outlinewidth": 0,
              "ticks": ""
             }
            },
            "type": "scatterternary"
           }
          ],
          "surface": [
           {
            "colorbar": {
             "outlinewidth": 0,
             "ticks": ""
            },
            "colorscale": [
             [
              0,
              "#0d0887"
             ],
             [
              0.1111111111111111,
              "#46039f"
             ],
             [
              0.2222222222222222,
              "#7201a8"
             ],
             [
              0.3333333333333333,
              "#9c179e"
             ],
             [
              0.4444444444444444,
              "#bd3786"
             ],
             [
              0.5555555555555556,
              "#d8576b"
             ],
             [
              0.6666666666666666,
              "#ed7953"
             ],
             [
              0.7777777777777778,
              "#fb9f3a"
             ],
             [
              0.8888888888888888,
              "#fdca26"
             ],
             [
              1,
              "#f0f921"
             ]
            ],
            "type": "surface"
           }
          ],
          "table": [
           {
            "cells": {
             "fill": {
              "color": "#EBF0F8"
             },
             "line": {
              "color": "white"
             }
            },
            "header": {
             "fill": {
              "color": "#C8D4E3"
             },
             "line": {
              "color": "white"
             }
            },
            "type": "table"
           }
          ]
         },
         "layout": {
          "annotationdefaults": {
           "arrowcolor": "#2a3f5f",
           "arrowhead": 0,
           "arrowwidth": 1
          },
          "autotypenumbers": "strict",
          "coloraxis": {
           "colorbar": {
            "outlinewidth": 0,
            "ticks": ""
           }
          },
          "colorscale": {
           "diverging": [
            [
             0,
             "#8e0152"
            ],
            [
             0.1,
             "#c51b7d"
            ],
            [
             0.2,
             "#de77ae"
            ],
            [
             0.3,
             "#f1b6da"
            ],
            [
             0.4,
             "#fde0ef"
            ],
            [
             0.5,
             "#f7f7f7"
            ],
            [
             0.6,
             "#e6f5d0"
            ],
            [
             0.7,
             "#b8e186"
            ],
            [
             0.8,
             "#7fbc41"
            ],
            [
             0.9,
             "#4d9221"
            ],
            [
             1,
             "#276419"
            ]
           ],
           "sequential": [
            [
             0,
             "#0d0887"
            ],
            [
             0.1111111111111111,
             "#46039f"
            ],
            [
             0.2222222222222222,
             "#7201a8"
            ],
            [
             0.3333333333333333,
             "#9c179e"
            ],
            [
             0.4444444444444444,
             "#bd3786"
            ],
            [
             0.5555555555555556,
             "#d8576b"
            ],
            [
             0.6666666666666666,
             "#ed7953"
            ],
            [
             0.7777777777777778,
             "#fb9f3a"
            ],
            [
             0.8888888888888888,
             "#fdca26"
            ],
            [
             1,
             "#f0f921"
            ]
           ],
           "sequentialminus": [
            [
             0,
             "#0d0887"
            ],
            [
             0.1111111111111111,
             "#46039f"
            ],
            [
             0.2222222222222222,
             "#7201a8"
            ],
            [
             0.3333333333333333,
             "#9c179e"
            ],
            [
             0.4444444444444444,
             "#bd3786"
            ],
            [
             0.5555555555555556,
             "#d8576b"
            ],
            [
             0.6666666666666666,
             "#ed7953"
            ],
            [
             0.7777777777777778,
             "#fb9f3a"
            ],
            [
             0.8888888888888888,
             "#fdca26"
            ],
            [
             1,
             "#f0f921"
            ]
           ]
          },
          "colorway": [
           "#636efa",
           "#EF553B",
           "#00cc96",
           "#ab63fa",
           "#FFA15A",
           "#19d3f3",
           "#FF6692",
           "#B6E880",
           "#FF97FF",
           "#FECB52"
          ],
          "font": {
           "color": "#2a3f5f"
          },
          "geo": {
           "bgcolor": "white",
           "lakecolor": "white",
           "landcolor": "#E5ECF6",
           "showlakes": true,
           "showland": true,
           "subunitcolor": "white"
          },
          "hoverlabel": {
           "align": "left"
          },
          "hovermode": "closest",
          "mapbox": {
           "style": "light"
          },
          "paper_bgcolor": "white",
          "plot_bgcolor": "#E5ECF6",
          "polar": {
           "angularaxis": {
            "gridcolor": "white",
            "linecolor": "white",
            "ticks": ""
           },
           "bgcolor": "#E5ECF6",
           "radialaxis": {
            "gridcolor": "white",
            "linecolor": "white",
            "ticks": ""
           }
          },
          "scene": {
           "xaxis": {
            "backgroundcolor": "#E5ECF6",
            "gridcolor": "white",
            "gridwidth": 2,
            "linecolor": "white",
            "showbackground": true,
            "ticks": "",
            "zerolinecolor": "white"
           },
           "yaxis": {
            "backgroundcolor": "#E5ECF6",
            "gridcolor": "white",
            "gridwidth": 2,
            "linecolor": "white",
            "showbackground": true,
            "ticks": "",
            "zerolinecolor": "white"
           },
           "zaxis": {
            "backgroundcolor": "#E5ECF6",
            "gridcolor": "white",
            "gridwidth": 2,
            "linecolor": "white",
            "showbackground": true,
            "ticks": "",
            "zerolinecolor": "white"
           }
          },
          "shapedefaults": {
           "line": {
            "color": "#2a3f5f"
           }
          },
          "ternary": {
           "aaxis": {
            "gridcolor": "white",
            "linecolor": "white",
            "ticks": ""
           },
           "baxis": {
            "gridcolor": "white",
            "linecolor": "white",
            "ticks": ""
           },
           "bgcolor": "#E5ECF6",
           "caxis": {
            "gridcolor": "white",
            "linecolor": "white",
            "ticks": ""
           }
          },
          "title": {
           "x": 0.05
          },
          "xaxis": {
           "automargin": true,
           "gridcolor": "white",
           "linecolor": "white",
           "ticks": "",
           "title": {
            "standoff": 15
           },
           "zerolinecolor": "white",
           "zerolinewidth": 2
          },
          "yaxis": {
           "automargin": true,
           "gridcolor": "white",
           "linecolor": "white",
           "ticks": "",
           "title": {
            "standoff": 15
           },
           "zerolinecolor": "white",
           "zerolinewidth": 2
          }
         }
        },
        "width": 900,
        "xaxis": {
         "anchor": "y",
         "domain": [
          0,
          1
         ],
         "showgrid": false,
         "title": {
          "text": "X"
         },
         "visible": false,
         "zeroline": false
        },
        "yaxis": {
         "anchor": "x",
         "domain": [
          0,
          1
         ],
         "showgrid": false,
         "title": {
          "text": "Y"
         },
         "visible": false,
         "zeroline": false
        }
       }
      },
      "text/html": [
       "<div>                            <div id=\"fd33e6e9-99e1-4b7a-9b4e-68ee2268c441\" class=\"plotly-graph-div\" style=\"height:500px; width:900px;\"></div>            <script type=\"text/javascript\">                require([\"plotly\"], function(Plotly) {                    window.PLOTLYENV=window.PLOTLYENV || {};                                    if (document.getElementById(\"fd33e6e9-99e1-4b7a-9b4e-68ee2268c441\")) {                    Plotly.newPlot(                        \"fd33e6e9-99e1-4b7a-9b4e-68ee2268c441\",                        [{\"hovertemplate\":\"ABBR=CP<br>X=%{x}<br>Y=%{y}<br>Percent=%{marker.size}<br>text=%{text}<extra></extra>\",\"legendgroup\":\"CP\",\"marker\":{\"color\":\"#ed7953\",\"size\":[93],\"sizemode\":\"area\",\"sizeref\":0.011481481481481481,\"symbol\":\"circle\"},\"mode\":\"markers+text\",\"name\":\"CP\",\"orientation\":\"v\",\"showlegend\":true,\"text\":[\"CP<br>93%\"],\"x\":[0],\"xaxis\":\"x\",\"y\":[1],\"yaxis\":\"y\",\"type\":\"scatter\",\"textposition\":\"top center\"},{\"hovertemplate\":\"ABBR=JG<br>X=%{x}<br>Y=%{y}<br>Percent=%{marker.size}<br>text=%{text}<extra></extra>\",\"legendgroup\":\"JG\",\"marker\":{\"color\":\"#9c179e\",\"size\":[86],\"sizemode\":\"area\",\"sizeref\":0.011481481481481481,\"symbol\":\"circle\"},\"mode\":\"markers+text\",\"name\":\"JG\",\"orientation\":\"v\",\"showlegend\":true,\"text\":[\"JG<br>86%\"],\"x\":[1],\"xaxis\":\"x\",\"y\":[1],\"yaxis\":\"y\",\"type\":\"scatter\",\"textposition\":\"top center\"},{\"hovertemplate\":\"ABBR=MF<br>X=%{x}<br>Y=%{y}<br>Percent=%{marker.size}<br>text=%{text}<extra></extra>\",\"legendgroup\":\"MF\",\"marker\":{\"color\":\"#ed7953\",\"size\":[61],\"sizemode\":\"area\",\"sizeref\":0.011481481481481481,\"symbol\":\"circle\"},\"mode\":\"markers+text\",\"name\":\"MF\",\"orientation\":\"v\",\"showlegend\":true,\"text\":[\"MF<br>61%\"],\"x\":[2],\"xaxis\":\"x\",\"y\":[1],\"yaxis\":\"y\",\"type\":\"scatter\",\"textposition\":\"top center\"},{\"hovertemplate\":\"ABBR=CM<br>X=%{x}<br>Y=%{y}<br>Percent=%{marker.size}<br>text=%{text}<extra></extra>\",\"legendgroup\":\"CM\",\"marker\":{\"color\":\"#9c179e\",\"size\":[49],\"sizemode\":\"area\",\"sizeref\":0.011481481481481481,\"symbol\":\"circle\"},\"mode\":\"markers+text\",\"name\":\"CM\",\"orientation\":\"v\",\"showlegend\":true,\"text\":[\"CM<br>49%\"],\"x\":[3],\"xaxis\":\"x\",\"y\":[1],\"yaxis\":\"y\",\"type\":\"scatter\",\"textposition\":\"top center\"},{\"hovertemplate\":\"ABBR=DB<br>X=%{x}<br>Y=%{y}<br>Percent=%{marker.size}<br>text=%{text}<extra></extra>\",\"legendgroup\":\"DB\",\"marker\":{\"color\":\"#ed7953\",\"size\":[43],\"sizemode\":\"area\",\"sizeref\":0.011481481481481481,\"symbol\":\"circle\"},\"mode\":\"markers+text\",\"name\":\"DB\",\"orientation\":\"v\",\"showlegend\":true,\"text\":[\"DB<br>43%\"],\"x\":[4],\"xaxis\":\"x\",\"y\":[1],\"yaxis\":\"y\",\"type\":\"scatter\",\"textposition\":\"top center\"},{\"hovertemplate\":\"ABBR=MC<br>X=%{x}<br>Y=%{y}<br>Percent=%{marker.size}<br>text=%{text}<extra></extra>\",\"legendgroup\":\"MC\",\"marker\":{\"color\":\"#9c179e\",\"size\":[31],\"sizemode\":\"area\",\"sizeref\":0.011481481481481481,\"symbol\":\"circle\"},\"mode\":\"markers+text\",\"name\":\"MC\",\"orientation\":\"v\",\"showlegend\":true,\"text\":[\"MC<br>31%\"],\"x\":[5],\"xaxis\":\"x\",\"y\":[1],\"yaxis\":\"y\",\"type\":\"scatter\",\"textposition\":\"top center\"},{\"hovertemplate\":\"ABBR=SB<br>X=%{x}<br>Y=%{y}<br>Percent=%{marker.size}<br>text=%{text}<extra></extra>\",\"legendgroup\":\"SB\",\"marker\":{\"color\":\"#ed7953\",\"size\":[31],\"sizemode\":\"area\",\"sizeref\":0.011481481481481481,\"symbol\":\"circle\"},\"mode\":\"markers+text\",\"name\":\"SB\",\"orientation\":\"v\",\"showlegend\":true,\"text\":[\"SB<br>31%\"],\"x\":[6],\"xaxis\":\"x\",\"y\":[1],\"yaxis\":\"y\",\"type\":\"scatter\",\"textposition\":\"top center\"},{\"hovertemplate\":\"ABBR=LW<br>X=%{x}<br>Y=%{y}<br>Percent=%{marker.size}<br>text=%{text}<extra></extra>\",\"legendgroup\":\"LW\",\"marker\":{\"color\":\"#9c179e\",\"size\":[5],\"sizemode\":\"area\",\"sizeref\":0.011481481481481481,\"symbol\":\"circle\"},\"mode\":\"markers+text\",\"name\":\"LW\",\"orientation\":\"v\",\"showlegend\":true,\"text\":[\"LW<br>5%\"],\"x\":[7],\"xaxis\":\"x\",\"y\":[1],\"yaxis\":\"y\",\"type\":\"scatter\",\"textposition\":\"top center\"},{\"hovertemplate\":\"ABBR=AD<br>X=%{x}<br>Y=%{y}<br>Percent=%{marker.size}<br>text=%{text}<extra></extra>\",\"legendgroup\":\"AD\",\"marker\":{\"color\":\"#ed7953\",\"size\":[1],\"sizemode\":\"area\",\"sizeref\":0.011481481481481481,\"symbol\":\"circle\"},\"mode\":\"markers+text\",\"name\":\"AD\",\"orientation\":\"v\",\"showlegend\":true,\"text\":[\"AD<br>1%\"],\"x\":[8],\"xaxis\":\"x\",\"y\":[1],\"yaxis\":\"y\",\"type\":\"scatter\",\"textposition\":\"top center\"},{\"hovertemplate\":\"ABBR=MS<br>X=%{x}<br>Y=%{y}<br>Percent=%{marker.size}<br>text=%{text}<extra></extra>\",\"legendgroup\":\"MS\",\"marker\":{\"color\":\"#9c179e\",\"size\":[1],\"sizemode\":\"area\",\"sizeref\":0.011481481481481481,\"symbol\":\"circle\"},\"mode\":\"markers+text\",\"name\":\"MS\",\"orientation\":\"v\",\"showlegend\":true,\"text\":[\"MS<br>1%\"],\"x\":[9],\"xaxis\":\"x\",\"y\":[1],\"yaxis\":\"y\",\"type\":\"scatter\",\"textposition\":\"top center\"},{\"hovertemplate\":\"ABBR=MW<br>X=%{x}<br>Y=%{y}<br>Percent=%{marker.size}<br>text=%{text}<extra></extra>\",\"legendgroup\":\"MW\",\"marker\":{\"color\":\"#ed7953\",\"size\":[1],\"sizemode\":\"area\",\"sizeref\":0.011481481481481481,\"symbol\":\"circle\"},\"mode\":\"markers+text\",\"name\":\"MW\",\"orientation\":\"v\",\"showlegend\":true,\"text\":[\"MW<br>1%\"],\"x\":[10],\"xaxis\":\"x\",\"y\":[1],\"yaxis\":\"y\",\"type\":\"scatter\",\"textposition\":\"top center\"},{\"hovertemplate\":\"ABBR=SA<br>X=%{x}<br>Y=%{y}<br>Percent=%{marker.size}<br>text=%{text}<extra></extra>\",\"legendgroup\":\"SA\",\"marker\":{\"color\":\"#9c179e\",\"size\":[1],\"sizemode\":\"area\",\"sizeref\":0.011481481481481481,\"symbol\":\"circle\"},\"mode\":\"markers+text\",\"name\":\"SA\",\"orientation\":\"v\",\"showlegend\":true,\"text\":[\"SA<br>1%\"],\"x\":[11],\"xaxis\":\"x\",\"y\":[1],\"yaxis\":\"y\",\"type\":\"scatter\",\"textposition\":\"top center\"}],                        {\"template\":{\"data\":{\"bar\":[{\"error_x\":{\"color\":\"#2a3f5f\"},\"error_y\":{\"color\":\"#2a3f5f\"},\"marker\":{\"line\":{\"color\":\"#E5ECF6\",\"width\":0.5},\"pattern\":{\"fillmode\":\"overlay\",\"size\":10,\"solidity\":0.2}},\"type\":\"bar\"}],\"barpolar\":[{\"marker\":{\"line\":{\"color\":\"#E5ECF6\",\"width\":0.5},\"pattern\":{\"fillmode\":\"overlay\",\"size\":10,\"solidity\":0.2}},\"type\":\"barpolar\"}],\"carpet\":[{\"aaxis\":{\"endlinecolor\":\"#2a3f5f\",\"gridcolor\":\"white\",\"linecolor\":\"white\",\"minorgridcolor\":\"white\",\"startlinecolor\":\"#2a3f5f\"},\"baxis\":{\"endlinecolor\":\"#2a3f5f\",\"gridcolor\":\"white\",\"linecolor\":\"white\",\"minorgridcolor\":\"white\",\"startlinecolor\":\"#2a3f5f\"},\"type\":\"carpet\"}],\"choropleth\":[{\"colorbar\":{\"outlinewidth\":0,\"ticks\":\"\"},\"type\":\"choropleth\"}],\"contour\":[{\"colorbar\":{\"outlinewidth\":0,\"ticks\":\"\"},\"colorscale\":[[0.0,\"#0d0887\"],[0.1111111111111111,\"#46039f\"],[0.2222222222222222,\"#7201a8\"],[0.3333333333333333,\"#9c179e\"],[0.4444444444444444,\"#bd3786\"],[0.5555555555555556,\"#d8576b\"],[0.6666666666666666,\"#ed7953\"],[0.7777777777777778,\"#fb9f3a\"],[0.8888888888888888,\"#fdca26\"],[1.0,\"#f0f921\"]],\"type\":\"contour\"}],\"contourcarpet\":[{\"colorbar\":{\"outlinewidth\":0,\"ticks\":\"\"},\"type\":\"contourcarpet\"}],\"heatmap\":[{\"colorbar\":{\"outlinewidth\":0,\"ticks\":\"\"},\"colorscale\":[[0.0,\"#0d0887\"],[0.1111111111111111,\"#46039f\"],[0.2222222222222222,\"#7201a8\"],[0.3333333333333333,\"#9c179e\"],[0.4444444444444444,\"#bd3786\"],[0.5555555555555556,\"#d8576b\"],[0.6666666666666666,\"#ed7953\"],[0.7777777777777778,\"#fb9f3a\"],[0.8888888888888888,\"#fdca26\"],[1.0,\"#f0f921\"]],\"type\":\"heatmap\"}],\"heatmapgl\":[{\"colorbar\":{\"outlinewidth\":0,\"ticks\":\"\"},\"colorscale\":[[0.0,\"#0d0887\"],[0.1111111111111111,\"#46039f\"],[0.2222222222222222,\"#7201a8\"],[0.3333333333333333,\"#9c179e\"],[0.4444444444444444,\"#bd3786\"],[0.5555555555555556,\"#d8576b\"],[0.6666666666666666,\"#ed7953\"],[0.7777777777777778,\"#fb9f3a\"],[0.8888888888888888,\"#fdca26\"],[1.0,\"#f0f921\"]],\"type\":\"heatmapgl\"}],\"histogram\":[{\"marker\":{\"pattern\":{\"fillmode\":\"overlay\",\"size\":10,\"solidity\":0.2}},\"type\":\"histogram\"}],\"histogram2d\":[{\"colorbar\":{\"outlinewidth\":0,\"ticks\":\"\"},\"colorscale\":[[0.0,\"#0d0887\"],[0.1111111111111111,\"#46039f\"],[0.2222222222222222,\"#7201a8\"],[0.3333333333333333,\"#9c179e\"],[0.4444444444444444,\"#bd3786\"],[0.5555555555555556,\"#d8576b\"],[0.6666666666666666,\"#ed7953\"],[0.7777777777777778,\"#fb9f3a\"],[0.8888888888888888,\"#fdca26\"],[1.0,\"#f0f921\"]],\"type\":\"histogram2d\"}],\"histogram2dcontour\":[{\"colorbar\":{\"outlinewidth\":0,\"ticks\":\"\"},\"colorscale\":[[0.0,\"#0d0887\"],[0.1111111111111111,\"#46039f\"],[0.2222222222222222,\"#7201a8\"],[0.3333333333333333,\"#9c179e\"],[0.4444444444444444,\"#bd3786\"],[0.5555555555555556,\"#d8576b\"],[0.6666666666666666,\"#ed7953\"],[0.7777777777777778,\"#fb9f3a\"],[0.8888888888888888,\"#fdca26\"],[1.0,\"#f0f921\"]],\"type\":\"histogram2dcontour\"}],\"mesh3d\":[{\"colorbar\":{\"outlinewidth\":0,\"ticks\":\"\"},\"type\":\"mesh3d\"}],\"parcoords\":[{\"line\":{\"colorbar\":{\"outlinewidth\":0,\"ticks\":\"\"}},\"type\":\"parcoords\"}],\"pie\":[{\"automargin\":true,\"type\":\"pie\"}],\"scatter\":[{\"marker\":{\"colorbar\":{\"outlinewidth\":0,\"ticks\":\"\"}},\"type\":\"scatter\"}],\"scatter3d\":[{\"line\":{\"colorbar\":{\"outlinewidth\":0,\"ticks\":\"\"}},\"marker\":{\"colorbar\":{\"outlinewidth\":0,\"ticks\":\"\"}},\"type\":\"scatter3d\"}],\"scattercarpet\":[{\"marker\":{\"colorbar\":{\"outlinewidth\":0,\"ticks\":\"\"}},\"type\":\"scattercarpet\"}],\"scattergeo\":[{\"marker\":{\"colorbar\":{\"outlinewidth\":0,\"ticks\":\"\"}},\"type\":\"scattergeo\"}],\"scattergl\":[{\"marker\":{\"colorbar\":{\"outlinewidth\":0,\"ticks\":\"\"}},\"type\":\"scattergl\"}],\"scattermapbox\":[{\"marker\":{\"colorbar\":{\"outlinewidth\":0,\"ticks\":\"\"}},\"type\":\"scattermapbox\"}],\"scatterpolar\":[{\"marker\":{\"colorbar\":{\"outlinewidth\":0,\"ticks\":\"\"}},\"type\":\"scatterpolar\"}],\"scatterpolargl\":[{\"marker\":{\"colorbar\":{\"outlinewidth\":0,\"ticks\":\"\"}},\"type\":\"scatterpolargl\"}],\"scatterternary\":[{\"marker\":{\"colorbar\":{\"outlinewidth\":0,\"ticks\":\"\"}},\"type\":\"scatterternary\"}],\"surface\":[{\"colorbar\":{\"outlinewidth\":0,\"ticks\":\"\"},\"colorscale\":[[0.0,\"#0d0887\"],[0.1111111111111111,\"#46039f\"],[0.2222222222222222,\"#7201a8\"],[0.3333333333333333,\"#9c179e\"],[0.4444444444444444,\"#bd3786\"],[0.5555555555555556,\"#d8576b\"],[0.6666666666666666,\"#ed7953\"],[0.7777777777777778,\"#fb9f3a\"],[0.8888888888888888,\"#fdca26\"],[1.0,\"#f0f921\"]],\"type\":\"surface\"}],\"table\":[{\"cells\":{\"fill\":{\"color\":\"#EBF0F8\"},\"line\":{\"color\":\"white\"}},\"header\":{\"fill\":{\"color\":\"#C8D4E3\"},\"line\":{\"color\":\"white\"}},\"type\":\"table\"}]},\"layout\":{\"annotationdefaults\":{\"arrowcolor\":\"#2a3f5f\",\"arrowhead\":0,\"arrowwidth\":1},\"autotypenumbers\":\"strict\",\"coloraxis\":{\"colorbar\":{\"outlinewidth\":0,\"ticks\":\"\"}},\"colorscale\":{\"diverging\":[[0,\"#8e0152\"],[0.1,\"#c51b7d\"],[0.2,\"#de77ae\"],[0.3,\"#f1b6da\"],[0.4,\"#fde0ef\"],[0.5,\"#f7f7f7\"],[0.6,\"#e6f5d0\"],[0.7,\"#b8e186\"],[0.8,\"#7fbc41\"],[0.9,\"#4d9221\"],[1,\"#276419\"]],\"sequential\":[[0.0,\"#0d0887\"],[0.1111111111111111,\"#46039f\"],[0.2222222222222222,\"#7201a8\"],[0.3333333333333333,\"#9c179e\"],[0.4444444444444444,\"#bd3786\"],[0.5555555555555556,\"#d8576b\"],[0.6666666666666666,\"#ed7953\"],[0.7777777777777778,\"#fb9f3a\"],[0.8888888888888888,\"#fdca26\"],[1.0,\"#f0f921\"]],\"sequentialminus\":[[0.0,\"#0d0887\"],[0.1111111111111111,\"#46039f\"],[0.2222222222222222,\"#7201a8\"],[0.3333333333333333,\"#9c179e\"],[0.4444444444444444,\"#bd3786\"],[0.5555555555555556,\"#d8576b\"],[0.6666666666666666,\"#ed7953\"],[0.7777777777777778,\"#fb9f3a\"],[0.8888888888888888,\"#fdca26\"],[1.0,\"#f0f921\"]]},\"colorway\":[\"#636efa\",\"#EF553B\",\"#00cc96\",\"#ab63fa\",\"#FFA15A\",\"#19d3f3\",\"#FF6692\",\"#B6E880\",\"#FF97FF\",\"#FECB52\"],\"font\":{\"color\":\"#2a3f5f\"},\"geo\":{\"bgcolor\":\"white\",\"lakecolor\":\"white\",\"landcolor\":\"#E5ECF6\",\"showlakes\":true,\"showland\":true,\"subunitcolor\":\"white\"},\"hoverlabel\":{\"align\":\"left\"},\"hovermode\":\"closest\",\"mapbox\":{\"style\":\"light\"},\"paper_bgcolor\":\"white\",\"plot_bgcolor\":\"#E5ECF6\",\"polar\":{\"angularaxis\":{\"gridcolor\":\"white\",\"linecolor\":\"white\",\"ticks\":\"\"},\"bgcolor\":\"#E5ECF6\",\"radialaxis\":{\"gridcolor\":\"white\",\"linecolor\":\"white\",\"ticks\":\"\"}},\"scene\":{\"xaxis\":{\"backgroundcolor\":\"#E5ECF6\",\"gridcolor\":\"white\",\"gridwidth\":2,\"linecolor\":\"white\",\"showbackground\":true,\"ticks\":\"\",\"zerolinecolor\":\"white\"},\"yaxis\":{\"backgroundcolor\":\"#E5ECF6\",\"gridcolor\":\"white\",\"gridwidth\":2,\"linecolor\":\"white\",\"showbackground\":true,\"ticks\":\"\",\"zerolinecolor\":\"white\"},\"zaxis\":{\"backgroundcolor\":\"#E5ECF6\",\"gridcolor\":\"white\",\"gridwidth\":2,\"linecolor\":\"white\",\"showbackground\":true,\"ticks\":\"\",\"zerolinecolor\":\"white\"}},\"shapedefaults\":{\"line\":{\"color\":\"#2a3f5f\"}},\"ternary\":{\"aaxis\":{\"gridcolor\":\"white\",\"linecolor\":\"white\",\"ticks\":\"\"},\"baxis\":{\"gridcolor\":\"white\",\"linecolor\":\"white\",\"ticks\":\"\"},\"bgcolor\":\"#E5ECF6\",\"caxis\":{\"gridcolor\":\"white\",\"linecolor\":\"white\",\"ticks\":\"\"}},\"title\":{\"x\":0.05},\"xaxis\":{\"automargin\":true,\"gridcolor\":\"white\",\"linecolor\":\"white\",\"ticks\":\"\",\"title\":{\"standoff\":15},\"zerolinecolor\":\"white\",\"zerolinewidth\":2},\"yaxis\":{\"automargin\":true,\"gridcolor\":\"white\",\"linecolor\":\"white\",\"ticks\":\"\",\"title\":{\"standoff\":15},\"zerolinecolor\":\"white\",\"zerolinewidth\":2}}},\"xaxis\":{\"anchor\":\"y\",\"domain\":[0.0,1.0],\"title\":{\"text\":\"X\"},\"showgrid\":false,\"zeroline\":false,\"visible\":false},\"yaxis\":{\"anchor\":\"x\",\"domain\":[0.0,1.0],\"title\":{\"text\":\"Y\"},\"showgrid\":false,\"zeroline\":false,\"visible\":false},\"legend\":{\"title\":{\"text\":\"ABBR\"},\"tracegroupgap\":0,\"itemsizing\":\"constant\"},\"margin\":{\"t\":50,\"l\":0,\"r\":0,\"b\":0},\"width\":900,\"height\":500,\"showlegend\":false,\"plot_bgcolor\":\"white\",\"paper_bgcolor\":\"white\"},                        {\"responsive\": true}                    ).then(function(){\n",
       "                            \n",
       "var gd = document.getElementById('fd33e6e9-99e1-4b7a-9b4e-68ee2268c441');\n",
       "var x = new MutationObserver(function (mutations, observer) {{\n",
       "        var display = window.getComputedStyle(gd).display;\n",
       "        if (!display || display === 'none') {{\n",
       "            console.log([gd, 'removed!']);\n",
       "            Plotly.purge(gd);\n",
       "            observer.disconnect();\n",
       "        }}\n",
       "}});\n",
       "\n",
       "// Listen for the removal of the full notebook cells\n",
       "var notebookContainer = gd.closest('#notebook-container');\n",
       "if (notebookContainer) {{\n",
       "    x.observe(notebookContainer, {childList: true});\n",
       "}}\n",
       "\n",
       "// Listen for the clearing of the current output cell\n",
       "var outputEl = gd.closest('.output');\n",
       "if (outputEl) {{\n",
       "    x.observe(outputEl, {childList: true});\n",
       "}}\n",
       "\n",
       "                        })                };                });            </script>        </div>"
      ]
     },
     "metadata": {},
     "output_type": "display_data"
    }
   ],
   "source": [
    "#create a laebls list for each bubble \n",
    "label = [i+'<br>' +str(k)+'%' for i,k in zip(r3.ABBR,\n",
    "                                                            r3.Percent)]\n",
    "import plotly.express as px\n",
    "fig = px.scatter(r3, x='X', y='Y',\n",
    "                 color='ABBR', color_discrete_sequence=pal_,\n",
    "                 size='Percent', text=label, size_max=90\n",
    "                )\n",
    "fig.update_layout(width=900, height=500,\n",
    "                  margin = dict(t=50, l=0, r=0, b=0),\n",
    "                  showlegend=False\n",
    "                 )\n",
    "fig.update_traces(textposition='top center')\n",
    "fig.update_xaxes(showgrid=False, zeroline=False, visible=False)\n",
    "fig.update_yaxes(showgrid=False, zeroline=False, visible=False)\n",
    "fig.update_layout({'plot_bgcolor': 'white',\n",
    "                   'paper_bgcolor': 'white'})"
   ]
  },
  {
   "cell_type": "code",
   "execution_count": null,
   "id": "5991a59f",
   "metadata": {},
   "outputs": [],
   "source": []
  }
 ],
 "metadata": {
  "kernelspec": {
   "display_name": "Python 3 (ipykernel)",
   "language": "python",
   "name": "python3"
  },
  "language_info": {
   "codemirror_mode": {
    "name": "ipython",
    "version": 3
   },
   "file_extension": ".py",
   "mimetype": "text/x-python",
   "name": "python",
   "nbconvert_exporter": "python",
   "pygments_lexer": "ipython3",
   "version": "3.9.12"
  }
 },
 "nbformat": 4,
 "nbformat_minor": 5
}
